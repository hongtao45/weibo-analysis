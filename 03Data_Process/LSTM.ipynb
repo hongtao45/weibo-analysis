{
 "cells": [
  {
   "cell_type": "markdown",
   "metadata": {},
   "source": [
    "# LSTM实现中文商品评论二分类"
   ]
  },
  {
   "cell_type": "code",
   "execution_count": 2,
   "metadata": {},
   "outputs": [
    {
     "name": "stdout",
     "output_type": "stream",
     "text": [
      "2.0.0\n",
      "2.2.4-tf\n"
     ]
    }
   ],
   "source": [
    "import tensorflow as tf\n",
    "print(tf.__version__)\n",
    "print(tf.keras.__version__)"
   ]
  },
  {
   "cell_type": "code",
   "execution_count": 3,
   "metadata": {},
   "outputs": [],
   "source": [
    "import os\n",
    "import csv\n",
    "import time\n",
    "import datetime\n",
    "import random\n",
    "import json\n",
    "from collections import Counter\n",
    "from math import sqrt\n",
    "import gensim\n",
    "import pandas as pd\n",
    "import numpy as np\n",
    "\n",
    "import re\n",
    "import matplotlib.pyplot as plt\n",
    "plt.rcParams['font.sans-serif']=['SimHei'] #用来正常显示中文标签\n",
    "plt.rcParams['axes.unicode_minus'] = False #用来正常显示负号\n",
    "\n",
    "import pkuseg\n",
    "import jieba\n",
    "\n",
    "\n",
    "from tensorflow.keras.layers import Input,Conv2D,MaxPool2D,concatenate,Flatten,Dense,Dropout,Embedding,Reshape,LSTM\n",
    "from tensorflow.keras import Sequential,optimizers,losses\n",
    "from tensorflow.keras.models import Model\n",
    "from tensorflow.keras.preprocessing import sequence\n",
    "from tensorflow.keras import regularizers\n",
    "from tensorflow.keras.utils import to_categorical\n",
    "from tensorflow.keras.callbacks import ReduceLROnPlateau\n",
    "from tensorflow.keras.callbacks import EarlyStopping, ModelCheckpoint\n",
    "\n",
    "from sklearn.metrics import roc_auc_score, accuracy_score, precision_score, recall_score\n",
    "from bs4 import BeautifulSoup\n",
    "import logging\n",
    "import gensim\n",
    "from gensim.models import word2vec\n",
    "from gensim.models.word2vec import Word2Vec\n",
    "\n",
    "import multiprocessing\n",
    "import yaml\n",
    "import jieba"
   ]
  },
  {
   "cell_type": "code",
   "execution_count": 4,
   "metadata": {},
   "outputs": [
    {
     "data": {
      "text/plain": [
       "'1.19.2'"
      ]
     },
     "execution_count": 4,
     "metadata": {},
     "output_type": "execute_result"
    }
   ],
   "source": [
    "np.__version__"
   ]
  },
  {
   "cell_type": "markdown",
   "metadata": {},
   "source": [
    "# 参数配置"
   ]
  },
  {
   "cell_type": "code",
   "execution_count": 5,
   "metadata": {},
   "outputs": [],
   "source": [
    "class Config(object):\n",
    "    \n",
    "    #数据集路径\n",
    "    dataSource = \"../02Data/goods_zh.txt\"\n",
    "    labelSource = \"../02Data/完整数据_暴雨_交通_pre_tweets_TFIDF_Label.xlsx\"\n",
    "    labelSource = \"../02Data/5006_final_微博数据集.xlsx\"\n",
    "    \n",
    "    #分词后保留大于等于最低词频的词\n",
    "    miniFreq=1\n",
    "    \n",
    "    \n",
    "    #统一输入文本序列的定长，取了所有序列长度的均值。超出将被截断，不足则补0\n",
    "    sequenceLength = 30\n",
    "    batchSize= 8\n",
    "    epochs= 30\n",
    "    \n",
    "    \n",
    "    numClasses = 2\n",
    "    #训练集的比例\n",
    "    rate = 0.8  \n",
    "    \n",
    "    \n",
    "    #生成嵌入词向量的维度\n",
    "    embeddingSize = 30\n",
    "    \n",
    "    #卷积核数\n",
    "    numFilters = 30\n",
    "    \n",
    "    #卷积核大小\n",
    "    filterSizes = [2,3,4,5]\n",
    "    dropoutKeepProb = 0.5\n",
    "    \n",
    "    #L2正则系数\n",
    "    l2RegLambda = 0.1\n",
    "\n",
    "    \n",
    "# 实例化配置参数对象\n",
    "config = Config()"
   ]
  },
  {
   "cell_type": "code",
   "execution_count": 6,
   "metadata": {},
   "outputs": [
    {
     "data": {
      "text/plain": [
       "'../02Data/5006_final_微博数据集.xlsx'"
      ]
     },
     "execution_count": 6,
     "metadata": {},
     "output_type": "execute_result"
    }
   ],
   "source": [
    "config.labelSource"
   ]
  },
  {
   "cell_type": "markdown",
   "metadata": {},
   "source": [
    "# 文本预处理 流程（原来的一样，不做变化）\n",
    "\n",
    "1. 文本去噪\n",
    "2. 中文分词\n",
    "3. 过滤停用词\n",
    "4. 词性标注 【没有特殊需求，咱们就不用做了\n",
    "5. 文本去重 【考虑发表的用户，**官方号**\n",
    "6. 文本标记【手动整理模型输入数据\n",
    "7. 特征词选择"
   ]
  },
  {
   "cell_type": "code",
   "execution_count": 7,
   "metadata": {},
   "outputs": [
    {
     "name": "stdout",
     "output_type": "stream",
     "text": [
      "<class 'pandas.core.frame.DataFrame'>\n",
      "RangeIndex: 1093 entries, 0 to 1092\n",
      "Data columns (total 1 columns):\n",
      " #   Column  Non-Null Count  Dtype \n",
      "---  ------  --------------  ----- \n",
      " 0   微博正文    1093 non-null   string\n",
      "dtypes: string(1)\n",
      "memory usage: 8.7 KB\n"
     ]
    }
   ],
   "source": [
    "# data = pd.read_csv(\"../02Data/完整数据_暴雨_交通.csv\")\n",
    "# df = data.sample(n=500, replace=False, random_state=1) # 指定随机种子，保证都是同一个数据组合\n",
    "# df.reset_index(drop=True, inplace=True)\n",
    "df = pd.read_excel(config.labelSource)\n",
    "tweets = df.loc[:, ['微博正文']].astype(\"string\") # 取100条数据就好了\n",
    "tweets.info()"
   ]
  },
  {
   "cell_type": "markdown",
   "metadata": {},
   "source": [
    "## 1 文本去噪\n",
    "\n",
    "微博中的特殊符号，对于算法的训练来说不太有利\n",
    "\n",
    "[Python正则表达式清洗微博文本特殊符号(网址, @, 表情符等)](https://blog.csdn.net/blmoistawinde/article/details/103648044)\n",
    "\n",
    "[附：表达式全集（正则表达式手册）](https://blog.csdn.net/qq_33472765/article/details/80785441)"
   ]
  },
  {
   "cell_type": "code",
   "execution_count": 8,
   "metadata": {},
   "outputs": [],
   "source": [
    "def clear_noise(text):\n",
    "    \"\"\"\n",
    "    text 待去噪的原始文本\n",
    "    \"\"\"\n",
    "    text = text.replace(u'\\xa0', u' ')      # 去除 \\xa0     不间断空白符 \n",
    "    text = text.replace(u'\\u3000', u' ')    # 去除 \\u3000   全角的空白符\n",
    "    \n",
    "    # 匹配这些中文标点符号 。 ？ ！ ， 、 ； ： “ ” ‘ ' （ ） 《 》 〈 〉 【 】 『 』 「 」 ﹃ ﹄ 〔 〕 … — ～ ﹏ ￥\n",
    "    reg1 = r\"@\\S*?\"\n",
    "    reg2 = r'[\\s|\\u3002|\\uff1f|\\uff01|\\uff0c|\\u3001|\\uff1b|\\uff1a|\\u201c|\\u201d|\\u2018|\\u2019|\\uff08|\\uff09|\\u300a|\\u300b|\\u3008|\\u3009|\\u3010|\\u3011|\\u300e|\\u300f|\\u300c|\\u300d|\\ufe43|\\ufe44|\\u3014|\\u3015|\\u2026|\\u2014|\\uff5e|\\ufe4f|\\uffe5]'\n",
    "    text = re.sub(r\"(回复)?(//)?\\s*\", \"\", text)  # 去除正文中的@和回复/转发中的用户名\n",
    "    text = re.sub(reg1+reg2, \"\", text)\n",
    "    text = re.sub(r\"\\[\\S+\\]\", \"\", text)     # 去除表情符号\n",
    "    # text = re.sub(r\"#\\S+\\s*#\", \"\", text)    # 去除话题内容 “#content#”\n",
    "    # text = re.sub(r\"【\\S+\\s*】\", \"\", text)  # 分类标签“【content】”\n",
    "\n",
    "    URL_REGEX = re.compile(\n",
    "        r'(?i)\\b((?:https?://|www\\d{0,3}[.]|[a-z0-9.\\-]+[.][a-z]{2,4}/)(?:[^\\s()<>]+|\\(([^\\s()<>]+|(\\([^\\s()<>]+\\)))*\\))+(?:\\(([^\\s()<>]+|(\\([^\\s()<>]+\\)))*\\)|[^\\s`!()\\[\\]{};:\\'\".,<>?«»“”‘’]))',\n",
    "        re.IGNORECASE)\n",
    "    text = re.sub(URL_REGEX, \"\", text)      # 去除网址\n",
    "    \n",
    "    EMAIL_REGEX = re.compile(r\"[-a-z0-9_.]+@(?:[-a-z0-9]+\\.)+[a-z]{2,6}\", re.IGNORECASE)\n",
    "    text = re.sub(EMAIL_REGEX, \"\", text)    # 去除邮件 \n",
    "    \n",
    "    text = text.replace(\"转发微博\", \"\")      # 去除无意义的词语\n",
    "    text = text.replace(\"网页链接\", \"\")\n",
    "    text = re.sub(r\"\\s+\", \" \", text)        # 合并正文中过多的空格\n",
    "\n",
    "    text = re.sub(r\"\\d{2,4}年|\\d{1,2}月|\\d{1,2}日|\\d{1,2}时|\\d{1,2}分| \\d{1,2}点\", \"\", text) # 去除 日期 时间\n",
    "    text = re.sub(r\"\\d\", \"\", text)\n",
    "    text = re.sub(r'[a-zA-Z]',\"\", text)\n",
    "    \n",
    "    return text.strip()"
   ]
  },
  {
   "cell_type": "code",
   "execution_count": 9,
   "metadata": {},
   "outputs": [
    {
     "data": {
      "text/plain": [
       "'#路况提示#截至，受暴雨天气影响，应交警要求，铜宜高速万宜段万载南站入口封闭，铜宜高速铜万段三兴站、罗城站、芳溪站、黄岗站、铜鼓东入口封闭。—@江西高速@江西交通@江西交通服务热线'"
      ]
     },
     "execution_count": 9,
     "metadata": {},
     "output_type": "execute_result"
    }
   ],
   "source": [
    "text = \"#路况提示#截至16时11分，受暴雨天气影响，应交警要求，S81铜宜高速万宜段万载南站入口封闭，S81铜宜高速铜万段三兴站、罗城站、芳溪站、黄岗站、铜鼓东入口封闭。—ZGL@江西高速@江西交通@江西交通服务热线\"\n",
    "clear_noise(text)"
   ]
  },
  {
   "cell_type": "code",
   "execution_count": 10,
   "metadata": {},
   "outputs": [
    {
     "data": {
      "text/html": [
       "<div>\n",
       "<style scoped>\n",
       "    .dataframe tbody tr th:only-of-type {\n",
       "        vertical-align: middle;\n",
       "    }\n",
       "\n",
       "    .dataframe tbody tr th {\n",
       "        vertical-align: top;\n",
       "    }\n",
       "\n",
       "    .dataframe thead th {\n",
       "        text-align: right;\n",
       "    }\n",
       "</style>\n",
       "<table border=\"1\" class=\"dataframe\">\n",
       "  <thead>\n",
       "    <tr style=\"text-align: right;\">\n",
       "      <th></th>\n",
       "      <th>微博正文</th>\n",
       "      <th>去噪</th>\n",
       "    </tr>\n",
       "  </thead>\n",
       "  <tbody>\n",
       "    <tr>\n",
       "      <th>0</th>\n",
       "      <td>路况信息：2021年5月29日17时05分，许广高速潭衡段射埠、回龙桥、青山桥收费站入口因暴...</td>\n",
       "      <td>路况信息：，许广高速潭衡段射埠、回龙桥、青山桥收费站入口因暴雨实行交通管制，至已解除交通管制...</td>\n",
       "    </tr>\n",
       "    <tr>\n",
       "      <th>1</th>\n",
       "      <td>路况信息：2021年5月29日10时25分，许广高速长湘段铜官、望城、乌山收费站入口因暴雨实...</td>\n",
       "      <td>路况信息：，许广高速长湘段铜官、望城、乌山收费站入口因暴雨实行交通管制，至已解除交通管制，恢...</td>\n",
       "    </tr>\n",
       "    <tr>\n",
       "      <th>2</th>\n",
       "      <td>路况信息：2021年5月29日10时24分，许广高速岳望段茶亭收费站入口因暴雨实行交通管制，...</td>\n",
       "      <td>路况信息：，许广高速岳望段茶亭收费站入口因暴雨实行交通管制，至已解除交通管制，恢复正常通行。</td>\n",
       "    </tr>\n",
       "    <tr>\n",
       "      <th>3</th>\n",
       "      <td>路况信息：2021年5月29日10时50分，许广高速潭衡段湘潭西、杨嘉桥、射埠、回龙桥收费站...</td>\n",
       "      <td>路况信息：，许广高速潭衡段湘潭西、杨嘉桥、射埠、回龙桥收费站入口因暴雨实行交通管制，至均已解...</td>\n",
       "    </tr>\n",
       "    <tr>\n",
       "      <th>4</th>\n",
       "      <td>路况信息：2021年5月29日10时50分，许广高速长湘段南谷收费站入口因暴雨实行交通管制，...</td>\n",
       "      <td>路况信息：，许广高速长湘段南谷收费站入口因暴雨实行交通管制，至已解除交通管制，恢复正常通行。</td>\n",
       "    </tr>\n",
       "  </tbody>\n",
       "</table>\n",
       "</div>"
      ],
      "text/plain": [
       "                                                微博正文  \\\n",
       "0  路况信息：2021年5月29日17时05分，许广高速潭衡段射埠、回龙桥、青山桥收费站入口因暴...   \n",
       "1  路况信息：2021年5月29日10时25分，许广高速长湘段铜官、望城、乌山收费站入口因暴雨实...   \n",
       "2  路况信息：2021年5月29日10时24分，许广高速岳望段茶亭收费站入口因暴雨实行交通管制，...   \n",
       "3  路况信息：2021年5月29日10时50分，许广高速潭衡段湘潭西、杨嘉桥、射埠、回龙桥收费站...   \n",
       "4  路况信息：2021年5月29日10时50分，许广高速长湘段南谷收费站入口因暴雨实行交通管制，...   \n",
       "\n",
       "                                                  去噪  \n",
       "0  路况信息：，许广高速潭衡段射埠、回龙桥、青山桥收费站入口因暴雨实行交通管制，至已解除交通管制...  \n",
       "1  路况信息：，许广高速长湘段铜官、望城、乌山收费站入口因暴雨实行交通管制，至已解除交通管制，恢...  \n",
       "2     路况信息：，许广高速岳望段茶亭收费站入口因暴雨实行交通管制，至已解除交通管制，恢复正常通行。  \n",
       "3  路况信息：，许广高速潭衡段湘潭西、杨嘉桥、射埠、回龙桥收费站入口因暴雨实行交通管制，至均已解...  \n",
       "4     路况信息：，许广高速长湘段南谷收费站入口因暴雨实行交通管制，至已解除交通管制，恢复正常通行。  "
      ]
     },
     "execution_count": 10,
     "metadata": {},
     "output_type": "execute_result"
    }
   ],
   "source": [
    "tweets[\"去噪\"] = tweets[\"微博正文\"].apply(clear_noise).astype(\"string\")\n",
    "tweets.head()"
   ]
  },
  {
   "cell_type": "markdown",
   "metadata": {},
   "source": [
    "## 2 中文分词\n",
    "\n",
    "[pkuseg: 一个多领域中文分词工具包](https://github.com/lancopku/pkuseg-python)\n",
    "\n",
    "[jieba: 结巴中文分词](https://github.com/fxsjy/jieba)\n",
    "\n",
    "从github下载的用户则需要自己下载对应的预训练模型，并设置model_name字段为预训练模型路径。预训练模型可以在[release](https://github.com/lancopku/pkuseg-python/releases)部分下载。以下是对预训练模型的说明：\n",
    "\n",
    "- **news**: 在MSRA（新闻语料）上训练的模型。【可以测试\n",
    "- **web**: 在微博（网络文本语料）上训练的模型。【可以测试\n",
    "- **medicine**: 在医药领域上训练的模型。\n",
    "- **tourism**: 在旅游领域上训练的模型。\n",
    "- **mixed**: 混合数据集训练的通用模型。随pip包附带的是此模型。【可以测试\n",
    "\n",
    "我们还通过领域自适应的方法，利用维基百科的未标注数据实现了几个细领域预训练模型的自动构建以及通用模型的优化，这些模型目前仅可以在release中下载：\n",
    "\n",
    "- **art**: 在艺术与文化领域上训练的模型。\n",
    "- **entertainment**: 在娱乐与体育领域上训练的模型。\n",
    "- **science**: 在科学领域上训练的模型。\n",
    "- **default_v2**: 使用领域自适应方法得到的优化后的通用模型，相较于默认模型规模更大，但泛化性能更好。"
   ]
  },
  {
   "cell_type": "code",
   "execution_count": 11,
   "metadata": {},
   "outputs": [
    {
     "name": "stderr",
     "output_type": "stream",
     "text": [
      "Building prefix dict from the default dictionary ...\n",
      "Dumping model to file cache C:\\Users\\HONGTA~1\\AppData\\Local\\Temp\\jieba.cache\n",
      "Loading model cost 0.570 seconds.\n",
      "Prefix dict has been built successfully.\n"
     ]
    },
    {
     "data": {
      "text/plain": [
       "['我', '爱', '北京', '天安门']"
      ]
     },
     "execution_count": 11,
     "metadata": {},
     "output_type": "execute_result"
    }
   ],
   "source": [
    "# jieba分词\n",
    "\n",
    "def jieba_segment(str, use_paddle=True):\n",
    "    \"\"\"\n",
    "    jieba分词:\n",
    "    str         : 待分词的文本\n",
    "    use_paddle  : 是否使用paddle模型\n",
    "    \"\"\"\n",
    "    word_list = jieba.cut(str, use_paddle=use_paddle)   # 分词后返回一个列表  jieba.cut(）   返回的是一个迭代器\n",
    "    res = list(word_list)\n",
    "   \n",
    "    return res\n",
    "\n",
    "#! 测试\n",
    "jieba_segment('我爱北京天安门')\n"
   ]
  },
  {
   "cell_type": "code",
   "execution_count": 12,
   "metadata": {},
   "outputs": [
    {
     "data": {
      "text/plain": [
       "['我', '爱', '北京', '天安门']"
      ]
     },
     "execution_count": 12,
     "metadata": {},
     "output_type": "execute_result"
    }
   ],
   "source": [
    "# pkuseg 分词 \n",
    "\n",
    "def pkuseg_segment(str, m_name=\"web\", u_dict=\"default\"):\n",
    "    \"\"\"\n",
    "    pkuseg分词:\n",
    "    str     :待分词的文本\n",
    "    m_name  : 选择使用的预训练模型\n",
    "    u_dict  : 用户自定义的分词设置用户词典。\n",
    "    \"\"\"\n",
    "    # m_name= \"news\"\n",
    "    # m_name= \"mixed\"\n",
    "    # p_tag= True # 是否包含词性\n",
    "    seg = pkuseg.pkuseg(model_name=m_name, user_dict=u_dict)           # 以默认配置加载模型    \n",
    "    res = seg.cut(str)  # 进行分词\n",
    "   \n",
    "    return res\n",
    "\n",
    "#! 测试\n",
    "pkuseg_segment('我爱北京天安门')"
   ]
  },
  {
   "cell_type": "code",
   "execution_count": 13,
   "metadata": {},
   "outputs": [],
   "source": [
    "\n",
    "tweets[\"jieba\"] = tweets[\"去噪\"].apply(jieba_segment)"
   ]
  },
  {
   "cell_type": "code",
   "execution_count": 14,
   "metadata": {},
   "outputs": [],
   "source": [
    "#! 时间比较3min，轻易不尝试\n",
    "# tweets[\"pkuseg\"] = tweets[\"去噪\"].apply(pkuseg_segment)"
   ]
  },
  {
   "cell_type": "code",
   "execution_count": 15,
   "metadata": {},
   "outputs": [
    {
     "name": "stdout",
     "output_type": "stream",
     "text": [
      "<class 'pandas.core.frame.DataFrame'>\n",
      "RangeIndex: 1093 entries, 0 to 1092\n",
      "Data columns (total 3 columns):\n",
      " #   Column  Non-Null Count  Dtype \n",
      "---  ------  --------------  ----- \n",
      " 0   微博正文    1093 non-null   string\n",
      " 1   去噪      1093 non-null   string\n",
      " 2   jieba   1093 non-null   object\n",
      "dtypes: object(1), string(2)\n",
      "memory usage: 25.7+ KB\n"
     ]
    }
   ],
   "source": [
    "# tweets.to_excel(\"../02Data/jieba_pkuseg.xlsx\")\n",
    "tweets.info()"
   ]
  },
  {
   "cell_type": "code",
   "execution_count": null,
   "metadata": {},
   "outputs": [],
   "source": []
  },
  {
   "cell_type": "markdown",
   "metadata": {},
   "source": [
    "## 3 过滤停用词\n",
    "\n",
    "- 支持新增停用词库\n",
    "- 考虑词性标准时的去停用词\n",
    "- 支持删除指定词性的词"
   ]
  },
  {
   "cell_type": "code",
   "execution_count": 16,
   "metadata": {},
   "outputs": [
    {
     "name": "stdout",
     "output_type": "stream",
     "text": [
      "['三明', '路段', '多次', '发生', '山体', '滑坡', '泥石流', '交通', '中断', '连日', '暴雨', '线', '过境', '线', '上行', '梅列区', '徐碧', '街道', '翁墩', '互通', '三角区', '多次', '发生', '山体', '滑坡', '泥石流', '共计', '约', '立方米', '溜方', '造成', '交通', '中断', '目前', '暂', '无法', '预计', '恢复', '通行', '时间', '过往', '车辆', '市区', '绕行', '三明', '路段', '多次', '发生', '山体', '滑坡', '泥石流', '交通', '中断', '东南', '网', '三明', '站', '微博', '视频']\n"
     ]
    }
   ],
   "source": [
    "def clear_stopword(word_ls, stopword_file, postag=False, stop_postag=[], user_file=\"../05stopwords/user_stopwords.txt\"):\n",
    "    \"\"\"\n",
    "    word_ls         :待去停用词的词汇列表【word 或者是 tuple(word, postag) 组成的list\n",
    "    stopword_file   :选择使用的停用词库\n",
    "    user_file       :用户自定义的停用词库\n",
    "    postag          :是否有词性标注\n",
    "    stop_postag     :指定删除的词性\n",
    "    \"\"\"\n",
    "    with open(stopword_file, 'r', encoding='utf-8') as f1, open(user_file, 'r' , encoding='utf-8') as f2:    # \n",
    "        \n",
    "        stopword_ls = [word.strip('\\n') for word in f1.readlines()] # 默认词库\n",
    "        user_ls = [word.strip('\\n') for word in f2.readlines()]     # 自定义词库\n",
    "\n",
    "        stopword_ls.extend(user_ls)\n",
    "        \n",
    "        res = []\n",
    "        if postag: # 有词性标注\n",
    "            for word_tag in word_ls:\n",
    "                w, t = word_tag\n",
    "                if w not in stopword_ls  and t not in stop_postag: # 仅保留2个字符及以上的词\n",
    "                    res.append((w, t))\n",
    "        else:\n",
    "            for w in word_ls:\n",
    "                if w not in stopword_ls : # 仅保留2个字符及以上的词\n",
    "                    res.append(w)\n",
    "    \n",
    "    return res\n",
    "\n",
    "\n",
    "#! 测试\n",
    "word_ls = tweets[\"jieba\"][9]\n",
    "stopword_file = \"../05stopwords/hit_stopwords.txt\"\n",
    "postag = False\n",
    "stop_postag = []\n",
    "user_file = \"../05stopwords/user_stopwords.txt\"\n",
    "\n",
    "res = clear_stopword(word_ls, stopword_file, postag, stop_postag, user_file)\n",
    "print(res)"
   ]
  },
  {
   "cell_type": "code",
   "execution_count": 17,
   "metadata": {},
   "outputs": [],
   "source": [
    "stopword_file = \"../05stopwords/hit_stopwords.txt\"\n",
    "postag = False\n",
    "stop_postag = []\n",
    "\n",
    "user_file = \"../05stopwords/user_stopwords.txt\"\n",
    "\n",
    "tweets[\"jieba_stop\"] = tweets[\"jieba\"].apply(clear_stopword, args=[stopword_file, postag, stop_postag, user_file])\n",
    "# tweets[\"pkuseg_stop\"] = tweets[\"pkuseg\"].apply(clear_stopword, args=[stopword_file, postag, stop_postag, user_file])\n"
   ]
  },
  {
   "cell_type": "code",
   "execution_count": 18,
   "metadata": {},
   "outputs": [
    {
     "name": "stdout",
     "output_type": "stream",
     "text": [
      "<class 'pandas.core.frame.DataFrame'>\n",
      "RangeIndex: 1093 entries, 0 to 1092\n",
      "Data columns (total 4 columns):\n",
      " #   Column      Non-Null Count  Dtype \n",
      "---  ------      --------------  ----- \n",
      " 0   微博正文        1093 non-null   string\n",
      " 1   去噪          1093 non-null   string\n",
      " 2   jieba       1093 non-null   object\n",
      " 3   jieba_stop  1093 non-null   object\n",
      "dtypes: object(2), string(2)\n",
      "memory usage: 34.3+ KB\n"
     ]
    }
   ],
   "source": [
    "# tweets.to_excel(\"../02Data/jieba_pkuseg.xlsx\")\n",
    "tweets.info()"
   ]
  },
  {
   "cell_type": "markdown",
   "metadata": {},
   "source": [
    "## 4 分词+词性标注 \n",
    "\n",
    "\n",
    "[pkuseg: 一个多领域中文分词工具包](https://github.com/lancopku/pkuseg-python)\n",
    "\n",
    "[jieba: 结巴中文分词](https://github.com/fxsjy/jieba)\n",
    "\n"
   ]
  },
  {
   "cell_type": "code",
   "execution_count": 19,
   "metadata": {},
   "outputs": [
    {
     "data": {
      "text/plain": [
       "[('我', 'r'), ('爱', 'v'), ('北京', 'ns'), ('天安门', 'ns')]"
      ]
     },
     "execution_count": 19,
     "metadata": {},
     "output_type": "execute_result"
    }
   ],
   "source": [
    "# jieba 词性标注（part-of-speech tagging）\n",
    "\n",
    "def jieba_postag(str, use_paddle=True):\n",
    "    \"\"\"\n",
    "    jieba分词:\n",
    "    str         : 待分词的文本\n",
    "    use_paddle  : 是否使用paddle模型\n",
    "    \"\"\"\n",
    "    import jieba.posseg as pseg\n",
    "    word_tag_ls = pseg.lcut(str, use_paddle=use_paddle)\n",
    "    \n",
    "    res = [] # 将词语与词性从pair对象转换为 元组，方便索引\n",
    "    for w_t in word_tag_ls:\n",
    "        w, t = w_t\n",
    "        res.append((w, t))\n",
    "    return res\n",
    "\n",
    "\n",
    "#! 测试\n",
    "res = jieba_postag('我爱北京天安门')\n",
    "res"
   ]
  },
  {
   "cell_type": "code",
   "execution_count": 20,
   "metadata": {},
   "outputs": [
    {
     "data": {
      "text/plain": [
       "[('我', 'r'), ('爱', 'v'), ('北京', 'ns'), ('天安门', 'ns')]"
      ]
     },
     "execution_count": 20,
     "metadata": {},
     "output_type": "execute_result"
    }
   ],
   "source": [
    "# pkuseg 词性标注（part-of-speech tagging）\n",
    "# pkuseg 分词 \n",
    "\n",
    "def pkuseg_postag(str, m_name=\"web\", u_dict=\"default\", postag=True):\n",
    "    \"\"\"\n",
    "    pkuseg分词:\n",
    "    str     :待分词的文本\n",
    "    m_name  : 选择使用的预训练模型\n",
    "    u_dict  : 用户自定义的分词设置用户词典。\n",
    "    postag   : 是否进行词性标准（是的话，需要在自定义的词典中，也要添加相应的词性 tab键隔开在一行\n",
    "    \"\"\"\n",
    "    # m_name= \"news\"\n",
    "    # m_name= \"mixed\"\n",
    "    # postag= True # 是否包含词性\n",
    "    seg = pkuseg.pkuseg(model_name=m_name, user_dict=u_dict, postag=postag)           # 以默认配置加载模型    \n",
    "    res = seg.cut(str)  # 进行分词\n",
    "   \n",
    "    return seg.cut(str)  # 进行分词\n",
    "\n",
    "#! 测试\n",
    "res = pkuseg_postag('我爱北京天安门')\n",
    "res"
   ]
  },
  {
   "cell_type": "code",
   "execution_count": 21,
   "metadata": {},
   "outputs": [
    {
     "name": "stdout",
     "output_type": "stream",
     "text": [
      "路况信息：，许广高速潭衡段射埠、回龙桥、青山桥收费站入口因暴雨实行交通管制，至已解除交通管制，恢复正常通行。\n",
      "jieba:\n",
      "[('路况', 'n'), ('信息', 'n'), ('：', 'x'), ('，', 'x'), ('许广', 'nr'), ('高速', 'd'), ('潭衡段', 'n'), ('射埠', 'n'), ('、', 'x'), ('回', 'v'), ('龙桥', 'ns'), ('、', 'x'), ('青山', 'ns'), ('桥', 'n'), ('收费站', 'n'), ('入口', 'ns'), ('因', 'p'), ('暴雨', 'n'), ('实行', 'v'), ('交通管制', 'n'), ('，', 'x'), ('至已', 'd'), ('解除', 'v'), ('交通管制', 'n'), ('，', 'x'), ('恢复正常', 'b'), ('通行', 'j'), ('。', 'x')]\n",
      "pkuseg:\n",
      "[('路况', 'n'), ('信息', 'n'), ('：', 'w'), ('，', 'w'), ('许广', 'nr'), ('高速', 'd'), ('潭衡', 'v'), ('段', 'n'), ('射埠', 'ns'), ('、', 'w'), ('回龙桥', 'n'), ('、', 'w'), ('青山桥', 'ns'), ('收费站', 'n'), ('入口', 'n'), ('因', 'c'), ('暴雨', 'n'), ('实行', 'v'), ('交通', 'n'), ('管制', 'vn'), ('，', 'w'), ('至', 'p'), ('已', 'd'), ('解除', 'v'), ('交通', 'n'), ('管制', 'vn'), ('，', 'w'), ('恢复', 'v'), ('正常', 'a'), ('通行', 'vn'), ('。', 'w')]\n"
     ]
    }
   ],
   "source": [
    "#! 测试\n",
    "word_str = tweets[\"去噪\"][0]\n",
    "print(word_str)\n",
    "\n",
    "print(\"jieba:\")\n",
    "res = jieba_postag(word_str)\n",
    "print(res)\n",
    "\n",
    "print(\"pkuseg:\")\n",
    "res = pkuseg_postag(word_str)\n",
    "print(res)\n"
   ]
  },
  {
   "cell_type": "code",
   "execution_count": 22,
   "metadata": {},
   "outputs": [
    {
     "name": "stdout",
     "output_type": "stream",
     "text": [
      "<class 'pandas.core.frame.DataFrame'>\n",
      "RangeIndex: 1093 entries, 0 to 1092\n",
      "Data columns (total 4 columns):\n",
      " #   Column      Non-Null Count  Dtype \n",
      "---  ------      --------------  ----- \n",
      " 0   微博正文        1093 non-null   string\n",
      " 1   去噪          1093 non-null   string\n",
      " 2   jieba       1093 non-null   object\n",
      " 3   jieba_stop  1093 non-null   object\n",
      "dtypes: object(2), string(2)\n",
      "memory usage: 34.3+ KB\n"
     ]
    }
   ],
   "source": [
    "tweets.info()"
   ]
  },
  {
   "cell_type": "code",
   "execution_count": 23,
   "metadata": {},
   "outputs": [
    {
     "name": "stdout",
     "output_type": "stream",
     "text": [
      "<class 'pandas.core.frame.DataFrame'>\n",
      "RangeIndex: 1093 entries, 0 to 1092\n",
      "Data columns (total 5 columns):\n",
      " #   Column        Non-Null Count  Dtype \n",
      "---  ------        --------------  ----- \n",
      " 0   微博正文          1093 non-null   string\n",
      " 1   去噪            1093 non-null   string\n",
      " 2   jieba         1093 non-null   object\n",
      " 3   jieba_stop    1093 non-null   object\n",
      " 4   jieba_postag  1093 non-null   object\n",
      "dtypes: object(3), string(2)\n",
      "memory usage: 42.8+ KB\n"
     ]
    }
   ],
   "source": [
    "tweets[\"jieba_postag\"] = tweets[\"去噪\"].apply(jieba_postag)\n",
    "# tweets[\"pkuseg_postag\"] = tweets[\"去噪\"].apply(pkuseg_postag)\n",
    "tweets.info()"
   ]
  },
  {
   "cell_type": "code",
   "execution_count": 24,
   "metadata": {},
   "outputs": [],
   "source": [
    "stopword_file = \"../05stopwords/hit_stopwords.txt\"\n",
    "postag = True\n",
    "\n",
    "stop_postag = []\n",
    "\n",
    "stop_postag= ['c', 'd', 'df', 'f', 'm', 'mq', 'ns', 'nt', 'nz', 'o','p','q','r','s',',t','nrfg'] # 指定词性删除\n",
    "\n",
    "user_file = \"../05stopwords/user_stopwords.txt\"\n",
    "\n",
    "tweets[\"jieba_postag_stop\"] = tweets[\"jieba_postag\"].apply(clear_stopword, args=[stopword_file, postag, stop_postag, user_file])\n",
    "# tweets[\"pkuseg_postag_stop\"] = tweets[\"pkuseg_postag\"].apply(clear_stopword, args=[stopword_file, postag, stop_postag, user_file])"
   ]
  },
  {
   "cell_type": "code",
   "execution_count": 25,
   "metadata": {},
   "outputs": [
    {
     "name": "stdout",
     "output_type": "stream",
     "text": [
      "<class 'pandas.core.frame.DataFrame'>\n",
      "RangeIndex: 1093 entries, 0 to 1092\n",
      "Data columns (total 6 columns):\n",
      " #   Column             Non-Null Count  Dtype \n",
      "---  ------             --------------  ----- \n",
      " 0   微博正文               1093 non-null   string\n",
      " 1   去噪                 1093 non-null   string\n",
      " 2   jieba              1093 non-null   object\n",
      " 3   jieba_stop         1093 non-null   object\n",
      " 4   jieba_postag       1093 non-null   object\n",
      " 5   jieba_postag_stop  1093 non-null   object\n",
      "dtypes: object(4), string(2)\n",
      "memory usage: 51.4+ KB\n"
     ]
    }
   ],
   "source": [
    "# tweets.to_excel(\"../02Data/jieba_pkuseg.xlsx\")\n",
    "tweets.info()"
   ]
  },
  {
   "cell_type": "code",
   "execution_count": 26,
   "metadata": {},
   "outputs": [
    {
     "data": {
      "text/html": [
       "<div>\n",
       "<style scoped>\n",
       "    .dataframe tbody tr th:only-of-type {\n",
       "        vertical-align: middle;\n",
       "    }\n",
       "\n",
       "    .dataframe tbody tr th {\n",
       "        vertical-align: top;\n",
       "    }\n",
       "\n",
       "    .dataframe thead th {\n",
       "        text-align: right;\n",
       "    }\n",
       "</style>\n",
       "<table border=\"1\" class=\"dataframe\">\n",
       "  <thead>\n",
       "    <tr style=\"text-align: right;\">\n",
       "      <th></th>\n",
       "      <th>微博正文</th>\n",
       "      <th>去噪</th>\n",
       "      <th>jieba</th>\n",
       "      <th>jieba_stop</th>\n",
       "      <th>jieba_postag</th>\n",
       "      <th>jieba_postag_stop</th>\n",
       "      <th>jieba_stop_len</th>\n",
       "      <th>jieba_stop_postag_len</th>\n",
       "    </tr>\n",
       "  </thead>\n",
       "  <tbody>\n",
       "    <tr>\n",
       "      <th>0</th>\n",
       "      <td>路况信息：2021年5月29日17时05分，许广高速潭衡段射埠、回龙桥、青山桥收费站入口因暴...</td>\n",
       "      <td>路况信息：，许广高速潭衡段射埠、回龙桥、青山桥收费站入口因暴雨实行交通管制，至已解除交通管制...</td>\n",
       "      <td>[路况, 信息, ：, ，, 许广, 高速, 潭衡, 段, 射埠, 、, 回, 龙桥, 、,...</td>\n",
       "      <td>[路况, 信息, 许广, 高速, 潭衡, 段, 射埠, 回, 龙桥, 青山, 桥, 收费站,...</td>\n",
       "      <td>[(路况, n), (信息, n), (：, x), (，, x), (许广, nr), (...</td>\n",
       "      <td>[(路况, n), (信息, n), (许广, nr), (潭衡段, n), (射埠, n)...</td>\n",
       "      <td>21</td>\n",
       "      <td>15</td>\n",
       "    </tr>\n",
       "    <tr>\n",
       "      <th>1</th>\n",
       "      <td>路况信息：2021年5月29日10时25分，许广高速长湘段铜官、望城、乌山收费站入口因暴雨实...</td>\n",
       "      <td>路况信息：，许广高速长湘段铜官、望城、乌山收费站入口因暴雨实行交通管制，至已解除交通管制，恢...</td>\n",
       "      <td>[路况, 信息, ：, ，, 许广, 高速, 长湘段, 铜官, 、, 望城, 、, 乌山, ...</td>\n",
       "      <td>[路况, 信息, 许广, 高速, 长湘段, 铜官, 望城, 乌山, 收费站, 入口, 暴雨,...</td>\n",
       "      <td>[(路况, n), (信息, n), (：, x), (，, x), (许广, nr), (...</td>\n",
       "      <td>[(路况, n), (信息, n), (许广, nr), (长, a), (湘, j), (...</td>\n",
       "      <td>18</td>\n",
       "      <td>15</td>\n",
       "    </tr>\n",
       "    <tr>\n",
       "      <th>2</th>\n",
       "      <td>路况信息：2021年5月29日10时24分，许广高速岳望段茶亭收费站入口因暴雨实行交通管制，...</td>\n",
       "      <td>路况信息：，许广高速岳望段茶亭收费站入口因暴雨实行交通管制，至已解除交通管制，恢复正常通行。</td>\n",
       "      <td>[路况, 信息, ：, ，, 许广, 高速, 岳望, 段, 茶亭, 收费站, 入口, 因, ...</td>\n",
       "      <td>[路况, 信息, 许广, 高速, 岳望, 段, 茶亭, 收费站, 入口, 暴雨, 实行, 交...</td>\n",
       "      <td>[(路况, n), (信息, n), (：, x), (，, x), (许广, nr), (...</td>\n",
       "      <td>[(路况, n), (信息, n), (许广, nr), (岳望, nr), (茶亭, n)...</td>\n",
       "      <td>17</td>\n",
       "      <td>13</td>\n",
       "    </tr>\n",
       "    <tr>\n",
       "      <th>3</th>\n",
       "      <td>路况信息：2021年5月29日10时50分，许广高速潭衡段湘潭西、杨嘉桥、射埠、回龙桥收费站...</td>\n",
       "      <td>路况信息：，许广高速潭衡段湘潭西、杨嘉桥、射埠、回龙桥收费站入口因暴雨实行交通管制，至均已解...</td>\n",
       "      <td>[路况, 信息, ：, ，, 许广, 高速, 潭衡, 段, 湘潭, 西, 、, 杨嘉桥, 、...</td>\n",
       "      <td>[路况, 信息, 许广, 高速, 潭衡, 段, 湘潭, 西, 杨嘉桥, 射埠, 回, 龙桥,...</td>\n",
       "      <td>[(路况, n), (信息, n), (：, x), (，, x), (许广, nr), (...</td>\n",
       "      <td>[(路况, n), (信息, n), (许广, nr), (潭衡段, n), (杨嘉桥, n...</td>\n",
       "      <td>23</td>\n",
       "      <td>15</td>\n",
       "    </tr>\n",
       "    <tr>\n",
       "      <th>4</th>\n",
       "      <td>路况信息：2021年5月29日10时50分，许广高速长湘段南谷收费站入口因暴雨实行交通管制，...</td>\n",
       "      <td>路况信息：，许广高速长湘段南谷收费站入口因暴雨实行交通管制，至已解除交通管制，恢复正常通行。</td>\n",
       "      <td>[路况, 信息, ：, ，, 许广, 高速, 长湘段, 南谷, 收费站, 入口, 因, 暴雨...</td>\n",
       "      <td>[路况, 信息, 许广, 高速, 长湘段, 南谷, 收费站, 入口, 暴雨, 实行, 交通管...</td>\n",
       "      <td>[(路况, n), (信息, n), (：, x), (，, x), (许广, nr), (...</td>\n",
       "      <td>[(路况, n), (信息, n), (许广, nr), (段南谷, nr), (收费站, ...</td>\n",
       "      <td>16</td>\n",
       "      <td>12</td>\n",
       "    </tr>\n",
       "  </tbody>\n",
       "</table>\n",
       "</div>"
      ],
      "text/plain": [
       "                                                微博正文  \\\n",
       "0  路况信息：2021年5月29日17时05分，许广高速潭衡段射埠、回龙桥、青山桥收费站入口因暴...   \n",
       "1  路况信息：2021年5月29日10时25分，许广高速长湘段铜官、望城、乌山收费站入口因暴雨实...   \n",
       "2  路况信息：2021年5月29日10时24分，许广高速岳望段茶亭收费站入口因暴雨实行交通管制，...   \n",
       "3  路况信息：2021年5月29日10时50分，许广高速潭衡段湘潭西、杨嘉桥、射埠、回龙桥收费站...   \n",
       "4  路况信息：2021年5月29日10时50分，许广高速长湘段南谷收费站入口因暴雨实行交通管制，...   \n",
       "\n",
       "                                                  去噪  \\\n",
       "0  路况信息：，许广高速潭衡段射埠、回龙桥、青山桥收费站入口因暴雨实行交通管制，至已解除交通管制...   \n",
       "1  路况信息：，许广高速长湘段铜官、望城、乌山收费站入口因暴雨实行交通管制，至已解除交通管制，恢...   \n",
       "2     路况信息：，许广高速岳望段茶亭收费站入口因暴雨实行交通管制，至已解除交通管制，恢复正常通行。   \n",
       "3  路况信息：，许广高速潭衡段湘潭西、杨嘉桥、射埠、回龙桥收费站入口因暴雨实行交通管制，至均已解...   \n",
       "4     路况信息：，许广高速长湘段南谷收费站入口因暴雨实行交通管制，至已解除交通管制，恢复正常通行。   \n",
       "\n",
       "                                               jieba  \\\n",
       "0  [路况, 信息, ：, ，, 许广, 高速, 潭衡, 段, 射埠, 、, 回, 龙桥, 、,...   \n",
       "1  [路况, 信息, ：, ，, 许广, 高速, 长湘段, 铜官, 、, 望城, 、, 乌山, ...   \n",
       "2  [路况, 信息, ：, ，, 许广, 高速, 岳望, 段, 茶亭, 收费站, 入口, 因, ...   \n",
       "3  [路况, 信息, ：, ，, 许广, 高速, 潭衡, 段, 湘潭, 西, 、, 杨嘉桥, 、...   \n",
       "4  [路况, 信息, ：, ，, 许广, 高速, 长湘段, 南谷, 收费站, 入口, 因, 暴雨...   \n",
       "\n",
       "                                          jieba_stop  \\\n",
       "0  [路况, 信息, 许广, 高速, 潭衡, 段, 射埠, 回, 龙桥, 青山, 桥, 收费站,...   \n",
       "1  [路况, 信息, 许广, 高速, 长湘段, 铜官, 望城, 乌山, 收费站, 入口, 暴雨,...   \n",
       "2  [路况, 信息, 许广, 高速, 岳望, 段, 茶亭, 收费站, 入口, 暴雨, 实行, 交...   \n",
       "3  [路况, 信息, 许广, 高速, 潭衡, 段, 湘潭, 西, 杨嘉桥, 射埠, 回, 龙桥,...   \n",
       "4  [路况, 信息, 许广, 高速, 长湘段, 南谷, 收费站, 入口, 暴雨, 实行, 交通管...   \n",
       "\n",
       "                                        jieba_postag  \\\n",
       "0  [(路况, n), (信息, n), (：, x), (，, x), (许广, nr), (...   \n",
       "1  [(路况, n), (信息, n), (：, x), (，, x), (许广, nr), (...   \n",
       "2  [(路况, n), (信息, n), (：, x), (，, x), (许广, nr), (...   \n",
       "3  [(路况, n), (信息, n), (：, x), (，, x), (许广, nr), (...   \n",
       "4  [(路况, n), (信息, n), (：, x), (，, x), (许广, nr), (...   \n",
       "\n",
       "                                   jieba_postag_stop  jieba_stop_len  \\\n",
       "0  [(路况, n), (信息, n), (许广, nr), (潭衡段, n), (射埠, n)...              21   \n",
       "1  [(路况, n), (信息, n), (许广, nr), (长, a), (湘, j), (...              18   \n",
       "2  [(路况, n), (信息, n), (许广, nr), (岳望, nr), (茶亭, n)...              17   \n",
       "3  [(路况, n), (信息, n), (许广, nr), (潭衡段, n), (杨嘉桥, n...              23   \n",
       "4  [(路况, n), (信息, n), (许广, nr), (段南谷, nr), (收费站, ...              16   \n",
       "\n",
       "   jieba_stop_postag_len  \n",
       "0                     15  \n",
       "1                     15  \n",
       "2                     13  \n",
       "3                     15  \n",
       "4                     12  "
      ]
     },
     "execution_count": 26,
     "metadata": {},
     "output_type": "execute_result"
    }
   ],
   "source": [
    "\n",
    "tweets['jieba_stop_len'] = tweets['jieba_stop'].apply(len)\n",
    "tweets['jieba_stop_postag_len'] = tweets['jieba_postag_stop'].apply(len)\n",
    "\n",
    "tweets.head()"
   ]
  },
  {
   "cell_type": "code",
   "execution_count": 27,
   "metadata": {},
   "outputs": [
    {
     "data": {
      "text/plain": [
       "jieba_stop_postag_len    23.152790\n",
       "jieba_stop_len           29.642269\n",
       "dtype: float64"
      ]
     },
     "execution_count": 27,
     "metadata": {},
     "output_type": "execute_result"
    }
   ],
   "source": [
    "# 长度均值\n",
    "\n",
    "tweets[['jieba_stop_postag_len', 'jieba_stop_len']].mean()\n"
   ]
  },
  {
   "cell_type": "markdown",
   "metadata": {},
   "source": [
    "## 5 保存数据"
   ]
  },
  {
   "cell_type": "code",
   "execution_count": 28,
   "metadata": {},
   "outputs": [],
   "source": [
    "dataSource = config.dataSource\n",
    "# 词汇信息\n",
    "word_ls_column = tweets[\"jieba_postag_stop\"] # 从excel再读取回来，就不是[(),()] 和数据了\n",
    "word  =[]\n",
    "tag = []\n",
    "for word_tag_ls in word_ls_column: # 遍历一整列的每一行\n",
    "    word_ls = np.array(word_tag_ls)[:, 0].tolist() # 词\n",
    "    tag_ls = np.array(word_tag_ls)[:, 1].tolist() # 词性\n",
    "    word.append(word_ls)\n",
    "    tag.append(tag_ls)\n",
    "\n",
    "len(word)\n",
    "\n",
    "# # 换一列\n",
    "word = tweets[\"jieba_stop\"].tolist()\n",
    "\n",
    "with open(dataSource, 'w',encoding='utf-8') as outfile:\n",
    "    for w in word:\n",
    "        temp = ','.join(w)\n",
    "        outfile.write(temp)\n",
    "        outfile.write('\\n')"
   ]
  },
  {
   "cell_type": "code",
   "execution_count": 29,
   "metadata": {},
   "outputs": [],
   "source": [
    "# 向量化\n",
    "import pandas as pd\n",
    "import numpy as np\n",
    "from sklearn.feature_extraction.text import CountVectorizer\n",
    "from sklearn.feature_extraction.text import TfidfVectorizer\n",
    "\n",
    "def wordVectorizer(word_ls_column, v_type, postag=True):\n",
    "    ls_str=[]\n",
    "    if postag:\n",
    "        for word_tag_ls in word_ls_column:\n",
    "            if word_tag_ls == []:\n",
    "                word_tag_ls = [('','')]\n",
    "            word_ls = np.array(word_tag_ls)[:, 0].tolist()\n",
    "            tag_ls = np.array(word_tag_ls)[:, 1].tolist()\n",
    "            \n",
    "            strs = ' '.join(word_ls)\n",
    "            ls_str.append(strs)\n",
    "    else:\n",
    "        for word_ls in word_ls_column:\n",
    "            strs = ' '.join(word_ls) \n",
    "            ls_str.append(strs)\n",
    "    \n",
    "    if v_type.upper() == \"TFIDF\":\n",
    "    # TF-IDF(term frequency—inverse document frequency)\n",
    "        transfer = TfidfVectorizer() #实例化一个转换器类\n",
    "    else:\n",
    "        transfer = CountVectorizer()\n",
    "    data_new = transfer.fit_transform(ls_str) #调用fit_transform()\n",
    "    #构建成一个二维表：\n",
    "    df=pd.DataFrame(data_new.toarray(), columns=transfer.get_feature_names_out())\n",
    "    \n",
    "    withWeight = transfer.vocabulary_\n",
    "    return df, withWeight"
   ]
  },
  {
   "cell_type": "code",
   "execution_count": 30,
   "metadata": {},
   "outputs": [],
   "source": [
    "\n",
    "# 向量化\n",
    "\n",
    "word_ls_column = tweets['jieba_postag_stop']\n",
    "postag = True\n",
    "\n",
    "# word_ls_column = tweets['jieba_stop']\n",
    "# postag = False\n",
    "\n",
    "v_type = 'TFIDF'\n",
    "word_v, withWeight = wordVectorizer(word_ls_column, v_type, postag)\n",
    "res_file = \"../02Data/5006_final_微博数据集-TFIDF.csv\"\n",
    "word_v.to_csv(res_file, index=None)"
   ]
  },
  {
   "cell_type": "code",
   "execution_count": 31,
   "metadata": {},
   "outputs": [
    {
     "data": {
      "text/plain": [
       "(1093, 3521)"
      ]
     },
     "execution_count": 31,
     "metadata": {},
     "output_type": "execute_result"
    }
   ],
   "source": [
    "word_v.shape"
   ]
  },
  {
   "cell_type": "markdown",
   "metadata": {},
   "source": [
    "# 预训练词向量"
   ]
  },
  {
   "cell_type": "code",
   "execution_count": 32,
   "metadata": {},
   "outputs": [],
   "source": [
    "#中文语料\n",
    "#设置输出日志\n",
    "#logging.basicConfig(format='%(asctime)s : %(levelname)s : %(message)s', level=logging.INFO)\n",
    "\n",
    "# file = open(\"../data/goods_zh.txt\", encoding='utf-8') \n",
    "# sentences=[]\n",
    "# for line in file:\n",
    "#     temp=line.replace('\\n','').split(',,')\n",
    "#     sentences.append(jieba.lcut(temp[0]))\n",
    "# file.close()\n",
    "\n",
    "sentences = word"
   ]
  },
  {
   "cell_type": "code",
   "execution_count": 33,
   "metadata": {},
   "outputs": [
    {
     "name": "stdout",
     "output_type": "stream",
     "text": [
      "['路况', '信息', '许广', '高速', '潭衡', '段', '射埠', '回', '龙桥', '青山', '桥', '收费站', '入口', '暴雨', '实行', '交通管制', '已', '解除', '交通管制', '恢复正常', '通行']\n",
      "1093\n"
     ]
    }
   ],
   "source": [
    "print(sentences[0])\n",
    "print(len(sentences))"
   ]
  },
  {
   "cell_type": "code",
   "execution_count": 34,
   "metadata": {},
   "outputs": [],
   "source": [
    "word2VecModel_file = '../02Data/word2VecModel'\n",
    "model = word2vec.Word2Vec(sentences,\n",
    "                    #  size=config.embeddingSize,\n",
    "                     vector_size=config.embeddingSize,\n",
    "                     min_count=config.miniFreq,\n",
    "                     window=10,\n",
    "                     workers=multiprocessing.cpu_count(),\n",
    "                     sg=1,\n",
    "                    #  iter=20,\n",
    "                     epochs=20\n",
    "                     )\n",
    "model.save(word2VecModel_file)\n"
   ]
  },
  {
   "cell_type": "code",
   "execution_count": 35,
   "metadata": {},
   "outputs": [],
   "source": [
    "# help(word2vec.Word2Vec)"
   ]
  },
  {
   "cell_type": "code",
   "execution_count": 36,
   "metadata": {},
   "outputs": [
    {
     "data": {
      "text/plain": [
       "5657"
      ]
     },
     "execution_count": 36,
     "metadata": {},
     "output_type": "execute_result"
    }
   ],
   "source": [
    "model = gensim.models.Word2Vec.load(word2VecModel_file)\n",
    "\n",
    "keys = model.wv.index_to_key\n",
    "len(keys)\n",
    "# keys\n",
    "# model.wv.vocab.keys()\n",
    "# key_to_index()"
   ]
  },
  {
   "cell_type": "code",
   "execution_count": 37,
   "metadata": {},
   "outputs": [],
   "source": [
    "# help(model.wv.key_to_index)"
   ]
  },
  {
   "cell_type": "code",
   "execution_count": 38,
   "metadata": {},
   "outputs": [
    {
     "data": {
      "text/plain": [
       "array([-0.14525186, -0.27175733,  0.7998654 ,  0.59913296, -0.1769166 ,\n",
       "       -0.15242776,  1.1334466 ,  0.5816828 , -1.1766049 , -0.44167197,\n",
       "       -0.09137422,  0.42419654, -0.4405128 ,  0.04740779,  0.60055584,\n",
       "        0.04222587,  0.05134127, -0.5009297 , -0.17591384, -0.18408579,\n",
       "       -0.07359996,  0.42184702,  0.54859304,  0.5513197 , -0.3179929 ,\n",
       "       -0.9246187 ,  0.41927114,  0.27905428, -0.5959058 , -0.3724016 ],\n",
       "      dtype=float32)"
      ]
     },
     "execution_count": 38,
     "metadata": {},
     "output_type": "execute_result"
    }
   ],
   "source": [
    "model.wv['暴雨']"
   ]
  },
  {
   "cell_type": "code",
   "execution_count": 39,
   "metadata": {},
   "outputs": [],
   "source": [
    "# help(model)"
   ]
  },
  {
   "cell_type": "markdown",
   "metadata": {},
   "source": [
    "# 数据预处理 - 输入LSTM"
   ]
  },
  {
   "cell_type": "code",
   "execution_count": 40,
   "metadata": {},
   "outputs": [
    {
     "name": "stdout",
     "output_type": "stream",
     "text": [
      "data: 1093 1093\n"
     ]
    }
   ],
   "source": [
    "# 数据预处理的类，生成训练集和测试集\n",
    "class Dataset(object):\n",
    "    def __init__(self, config):\n",
    "        self.dataSource = config.dataSource  \n",
    "        self.labelSource = config.labelSource\n",
    "\n",
    "        # 每条输入的序列处理为定长\n",
    "        self.sequenceLength = config.sequenceLength  \n",
    "        \n",
    "        self.embeddingSize = config.embeddingSize\n",
    "        self.batchSize = config.batchSize\n",
    "        self.rate = config.rate\n",
    "        self.miniFreq=config.miniFreq\n",
    "        \n",
    "        \n",
    "        self.trainReviews = []\n",
    "        self.trainLabels = []\n",
    "        \n",
    "        self.evalReviews = []\n",
    "        self.evalLabels = []\n",
    "        \n",
    "        self.wordEmbedding =None\n",
    "        self.n_symbols=0\n",
    "        \n",
    "        self.wordToIndex = {}\n",
    "        self.indexToWord = {}\n",
    "        \n",
    "        \n",
    "        \n",
    "    def readData(self, dataFilePath, labelFilePath):\n",
    "        file = open(dataFilePath, encoding='utf-8') \n",
    "        texts=[]\n",
    "        for line in file:\n",
    "            temp=line.replace('\\n','').split(',')\n",
    "            texts.append(temp)\n",
    "        file.close()\n",
    "        \n",
    "        df = pd.read_excel(labelFilePath, index_col=0)\n",
    "        labels = df.iloc[:, -1].tolist()\n",
    "\n",
    "        print('data:',len(texts),len(labels))\n",
    "        \n",
    "        return texts, labels\n",
    "\n",
    "    \n",
    "    def getWordEmbedding(self, words):\n",
    "        \"\"\"\n",
    "        按照我们的数据集中的单词取出预训练好的word2vec中的词向量\n",
    "        \"\"\"\n",
    "        \n",
    "        #中文\n",
    "        word2VecModel_file = '../02Data/word2VecModel'\n",
    "        model = gensim.models.Word2Vec.load(word2VecModel_file)\n",
    "        \n",
    "        vocab = []\n",
    "        wordEmbedding = []\n",
    "        \n",
    "        # 添加 \"pad\" 和 \"UNK\", \n",
    "        vocab.append(\"pad\")\n",
    "        wordEmbedding.append(np.zeros(self.embeddingSize))\n",
    "        \n",
    "        vocab.append(\"UNK\")\n",
    "        wordEmbedding.append(np.random.randn(self.embeddingSize))\n",
    "        \n",
    "        for word in words:\n",
    "            try:        \n",
    "                #中文\n",
    "                vector =model.wv[word]\n",
    "                \n",
    "                vocab.append(word)\n",
    "                wordEmbedding.append(vector)\n",
    "            except:\n",
    "                \n",
    "                print(word + \" : 不存在于词向量中\")\n",
    "                \n",
    "        return vocab, np.array(wordEmbedding)\n",
    "    \n",
    "    \n",
    "    \n",
    "    def genVocabulary(self, reviews):\n",
    "        \"\"\"\n",
    "        生成词向量和词汇-索引映射字典，可以用全数据集\n",
    "        \"\"\"\n",
    "        \n",
    "        allWords = [word for review in reviews for word in review]\n",
    "        \n",
    "        # # 去掉停用词\n",
    "        # subWords = [word for word in allWords if word not in self.stopWordDict]\n",
    "        \n",
    "        wordCount = Counter(allWords)  # 统计词频，排序\n",
    "        sortWordCount = sorted(wordCount.items(), key=lambda x: x[1], reverse=True)\n",
    "        \n",
    "        # 去除低频词\n",
    "        words = [item[0] for item in sortWordCount if item[1] >= self.miniFreq ]\n",
    "        \n",
    "        \n",
    "        #获取词列表和顺序对应的预训练权重矩阵\n",
    "        vocab, wordEmbedding = self.getWordEmbedding(words)\n",
    "        \n",
    "        self.wordEmbedding = wordEmbedding\n",
    "        \n",
    "        self.wordToIndex = dict(zip(vocab, list(range(len(vocab)))))\n",
    "        self.indexToWord = dict(zip(list(range(len(vocab))), vocab))\n",
    "        self.n_symbols = len(self.wordToIndex) + 1\n",
    "        \n",
    "        # 将词汇-索引映射表保存为json数据，之后做inference时直接加载来处理数据\n",
    "        with open(\"../02Data/wordJson/wordToIndex.json\", \"w\", encoding=\"utf-8\") as f:\n",
    "            json.dump(self.wordToIndex, f)\n",
    "        \n",
    "        with open(\"../02Data/wordJson/indexToWord.json\", \"w\", encoding=\"utf-8\") as f:\n",
    "            json.dump(self.indexToWord, f)\n",
    "            \n",
    "            \n",
    "            \n",
    "            \n",
    "    \n",
    "    def reviewProcess(self, review, sequenceLength, wordToIndex):\n",
    "        \"\"\"\n",
    "        将数据集中的每条评论里面的词，根据词表，映射为index表示\n",
    "        每条评论 用index组成的定长数组来表示\n",
    "        review ： 一条文本\n",
    "        \"\"\"\n",
    "        \n",
    "        reviewVec = np.zeros((sequenceLength))\n",
    "        sequenceLen = sequenceLength\n",
    "        \n",
    "        # 判断当前的序列是否小于定义的固定序列长度\n",
    "        if len(review) < sequenceLength:\n",
    "            sequenceLen = len(review)\n",
    "            \n",
    "        for i in range(sequenceLen):\n",
    "            if review[i] in wordToIndex:\n",
    "                reviewVec[i] = wordToIndex[review[i]]\n",
    "            else:\n",
    "                reviewVec[i] = wordToIndex[\"UNK\"]\n",
    "\n",
    "        return reviewVec\n",
    "\n",
    "    \n",
    "    \n",
    "    \n",
    "    def genTrainEvalData(self, x, y, rate):\n",
    "        \"\"\"\n",
    "        生成训练集和验证集\n",
    "        x 所有样本\n",
    "        \"\"\"\n",
    "        \n",
    "        reviews = [] # 样本\n",
    "        labels = [] # 标签\n",
    "        \n",
    "        # 遍历所有的文本，将文本中的词转换成index表示\n",
    "        for i in range(len(x)):\n",
    "            \n",
    "            reviewVec = self.reviewProcess(x[i], self.sequenceLength, self.wordToIndex)\n",
    "            reviews.append(reviewVec)\n",
    "            \n",
    "            labels.append([y[i]])\n",
    "            \n",
    "        trainIndex = int(len(x) * rate)\n",
    "        \n",
    "       \n",
    "        #trainReviews = sequence.pad_sequences(reviews[:trainIndex], maxlen=self.sequenceLength)\n",
    "        trainReviews = np.asarray(reviews[:trainIndex], dtype=\"int64\")\n",
    "        trainLabels = np.array(labels[:trainIndex], dtype=\"float32\")\n",
    "        \n",
    "        trainLabels = to_categorical(trainLabels,num_classes=2) \n",
    "        \n",
    "        #evalReviews = sequence.pad_sequences(reviews[trainIndex:], maxlen=self.sequenceLength)\n",
    "        evalReviews = np.asarray(reviews[trainIndex:], dtype=\"int64\")\n",
    "        evalLabels = np.array(labels[trainIndex:], dtype=\"float32\")\n",
    "        evalLabels = to_categorical(evalLabels,num_classes=2)  #　转换为分类变量\n",
    "\n",
    "        return trainReviews, trainLabels, evalReviews, evalLabels\n",
    "        \n",
    "        \n",
    "        \n",
    " \n",
    "            \n",
    "    def dataGen(self):\n",
    "        \"\"\"\n",
    "        初始化训练集和验证集\n",
    "        \"\"\"\n",
    "        \n",
    "        \n",
    "        #读取数据集\n",
    "        reviews, labels = self.readData(self.dataSource, self.labelSource)\n",
    "        \n",
    "        \n",
    "        #生成 词汇-索引 映射表和预训练权重矩阵，并保存\n",
    "        self.genVocabulary(reviews)\n",
    "        \n",
    "        \n",
    "        #初始化训练集和测试集\n",
    "        trainReviews, trainLabels, evalReviews, evalLabels = self.genTrainEvalData(reviews, labels, self.rate)\n",
    "        self.trainReviews = trainReviews\n",
    "        self.trainLabels = trainLabels\n",
    "        \n",
    "        self.evalReviews = evalReviews\n",
    "        self.evalLabels = evalLabels\n",
    "        \n",
    "        \n",
    "data = Dataset(config)\n",
    "data.dataGen()"
   ]
  },
  {
   "cell_type": "code",
   "execution_count": 41,
   "metadata": {},
   "outputs": [
    {
     "name": "stdout",
     "output_type": "stream",
     "text": [
      "train data shape: (874, 30)\n",
      "train label shape: (874, 2)\n",
      "eval data shape: (219, 30)\n",
      "eval label shape: (219, 2)\n"
     ]
    }
   ],
   "source": [
    "print(\"train data shape: {}\".format(data.trainReviews.shape))\n",
    "print(\"train label shape: {}\".format(data.trainLabels.shape))\n",
    "print(\"eval data shape: {}\".format(data.evalReviews.shape))\n",
    "print(\"eval label shape: {}\".format(data.evalLabels.shape))"
   ]
  },
  {
   "cell_type": "code",
   "execution_count": 42,
   "metadata": {},
   "outputs": [
    {
     "ename": "NameError",
     "evalue": "name 'y_train' is not defined",
     "output_type": "error",
     "traceback": [
      "\u001b[1;31m---------------------------------------------------------------------------\u001b[0m",
      "\u001b[1;31mNameError\u001b[0m                                 Traceback (most recent call last)",
      "\u001b[1;32m~\\AppData\\Local\\Temp\\ipykernel_24388\\2642340758.py\u001b[0m in \u001b[0;36m<module>\u001b[1;34m\u001b[0m\n\u001b[1;32m----> 1\u001b[1;33m \u001b[0my_train\u001b[0m\u001b[1;33m\u001b[0m\u001b[1;33m\u001b[0m\u001b[0m\n\u001b[0m",
      "\u001b[1;31mNameError\u001b[0m: name 'y_train' is not defined"
     ]
    }
   ],
   "source": [
    "y_train"
   ]
  },
  {
   "cell_type": "markdown",
   "metadata": {},
   "source": [
    "# 定义网络结构"
   ]
  },
  {
   "cell_type": "code",
   "execution_count": 43,
   "metadata": {},
   "outputs": [
    {
     "name": "stdout",
     "output_type": "stream",
     "text": [
      "(5659, 30)\n",
      "5659\n",
      "Model: \"sequential\"\n",
      "_________________________________________________________________\n",
      "Layer (type)                 Output Shape              Param #   \n",
      "=================================================================\n",
      "embedding (Embedding)        (None, 30, 30)            169770    \n",
      "_________________________________________________________________\n",
      "lstm (LSTM)                  (None, 50)                16200     \n",
      "_________________________________________________________________\n",
      "dropout (Dropout)            (None, 50)                0         \n",
      "_________________________________________________________________\n",
      "dense (Dense)                (None, 2)                 102       \n",
      "=================================================================\n",
      "Total params: 186,072\n",
      "Trainable params: 186,072\n",
      "Non-trainable params: 0\n",
      "_________________________________________________________________\n"
     ]
    }
   ],
   "source": [
    "\n",
    "def lstm(n_symbols,embedding_weights,config):\n",
    "    \n",
    "    model =Sequential([\n",
    "        Embedding(input_dim=n_symbols, output_dim=config.embeddingSize,\n",
    "                        weights=[embedding_weights],\n",
    "                        input_length=config.sequenceLength),\n",
    "        \n",
    "        #LSTM层\n",
    "        #LSTM(50,activation='tanh', dropout=0.5, recurrent_dropout=0.5,kernel_regularizer=regularizers.l2(config.model.l2RegLambda)),\n",
    "        LSTM(50,activation='tanh', dropout=0.5, recurrent_dropout=0.5),\n",
    "\n",
    "        Dropout(config.dropoutKeepProb),\n",
    "        Dense(2, activation='softmax')\n",
    "                    ])\n",
    "    \n",
    "    model.compile(loss='categorical_crossentropy',optimizer='adam',metrics=['accuracy'])\n",
    "\n",
    "    return model\n",
    "    \n",
    "    \n",
    "wordEmbedding = data.wordEmbedding\n",
    "# n_symbols=data.n_symbols # 前面搞不懂为啥加了1 但是对不上\n",
    "n_symbols=data.n_symbols -1\n",
    "print(np.shape(wordEmbedding))\n",
    "print(n_symbols)\n",
    "model = lstm(n_symbols, wordEmbedding, config)\n",
    "model.summary()"
   ]
  },
  {
   "cell_type": "code",
   "execution_count": 44,
   "metadata": {},
   "outputs": [
    {
     "data": {
      "text/plain": [
       "(5659, 30)"
      ]
     },
     "execution_count": 44,
     "metadata": {},
     "output_type": "execute_result"
    }
   ],
   "source": [
    "np.shape(wordEmbedding)\n"
   ]
  },
  {
   "cell_type": "markdown",
   "metadata": {},
   "source": [
    "# 训练模型"
   ]
  },
  {
   "cell_type": "code",
   "execution_count": 45,
   "metadata": {},
   "outputs": [
    {
     "name": "stdout",
     "output_type": "stream",
     "text": [
      "Train on 699 samples, validate on 175 samples\n",
      "Epoch 1/30\n",
      "699/699 [==============================] - 2s 2ms/sample - loss: 0.6291 - accuracy: 0.6094 - val_loss: 0.4670 - val_accuracy: 0.7771\n",
      "Epoch 2/30\n",
      "699/699 [==============================] - 1s 823us/sample - loss: 0.4491 - accuracy: 0.8112 - val_loss: 0.2588 - val_accuracy: 0.9314\n",
      "Epoch 3/30\n",
      "699/699 [==============================] - 1s 798us/sample - loss: 0.4210 - accuracy: 0.8155 - val_loss: 0.2853 - val_accuracy: 0.8971\n",
      "Epoch 4/30\n",
      "699/699 [==============================] - 1s 796us/sample - loss: 0.3881 - accuracy: 0.8441 - val_loss: 0.2790 - val_accuracy: 0.8914\n",
      "Epoch 5/30\n",
      "699/699 [==============================] - 1s 833us/sample - loss: 0.3714 - accuracy: 0.8612 - val_loss: 0.2647 - val_accuracy: 0.9086\n",
      "Epoch 6/30\n",
      "699/699 [==============================] - 1s 786us/sample - loss: 0.3439 - accuracy: 0.8598 - val_loss: 0.2681 - val_accuracy: 0.9086\n",
      "Epoch 7/30\n",
      "699/699 [==============================] - 1s 753us/sample - loss: 0.3715 - accuracy: 0.8441 - val_loss: 0.2606 - val_accuracy: 0.9029\n",
      "Epoch 8/30\n",
      "699/699 [==============================] - 1s 774us/sample - loss: 0.3036 - accuracy: 0.8856 - val_loss: 0.2576 - val_accuracy: 0.9086\n",
      "Epoch 9/30\n",
      "699/699 [==============================] - 1s 758us/sample - loss: 0.3595 - accuracy: 0.8655 - val_loss: 0.2625 - val_accuracy: 0.9200\n",
      "Epoch 10/30\n",
      "699/699 [==============================] - 1s 763us/sample - loss: 0.2988 - accuracy: 0.8856 - val_loss: 0.2497 - val_accuracy: 0.9200\n",
      "Epoch 11/30\n",
      "699/699 [==============================] - 1s 773us/sample - loss: 0.3047 - accuracy: 0.8884 - val_loss: 0.2917 - val_accuracy: 0.9029\n",
      "Epoch 12/30\n",
      "699/699 [==============================] - 1s 753us/sample - loss: 0.2849 - accuracy: 0.9056 - val_loss: 0.2835 - val_accuracy: 0.8971\n",
      "Epoch 13/30\n",
      "699/699 [==============================] - 1s 763us/sample - loss: 0.2915 - accuracy: 0.8941 - val_loss: 0.2518 - val_accuracy: 0.9086\n",
      "Epoch 14/30\n",
      "699/699 [==============================] - 1s 783us/sample - loss: 0.2415 - accuracy: 0.9084 - val_loss: 0.2691 - val_accuracy: 0.9143\n",
      "Epoch 15/30\n",
      "699/699 [==============================] - 1s 812us/sample - loss: 0.2556 - accuracy: 0.9127 - val_loss: 0.2653 - val_accuracy: 0.9143\n",
      "Epoch 16/30\n",
      "699/699 [==============================] - 1s 774us/sample - loss: 0.2542 - accuracy: 0.9142 - val_loss: 0.2778 - val_accuracy: 0.9143\n",
      "Epoch 17/30\n",
      "699/699 [==============================] - 1s 784us/sample - loss: 0.2218 - accuracy: 0.9213 - val_loss: 0.2945 - val_accuracy: 0.9143\n",
      "Epoch 18/30\n",
      "699/699 [==============================] - 1s 774us/sample - loss: 0.2590 - accuracy: 0.8984 - val_loss: 0.2976 - val_accuracy: 0.8914\n",
      "Epoch 19/30\n",
      "699/699 [==============================] - 1s 754us/sample - loss: 0.2041 - accuracy: 0.9342 - val_loss: 0.2965 - val_accuracy: 0.9143\n",
      "Epoch 20/30\n",
      "699/699 [==============================] - 1s 784us/sample - loss: 0.2331 - accuracy: 0.9313 - val_loss: 0.2856 - val_accuracy: 0.9143\n",
      "Epoch 21/30\n",
      "699/699 [==============================] - 1s 768us/sample - loss: 0.2244 - accuracy: 0.9270 - val_loss: 0.2855 - val_accuracy: 0.9143\n",
      "Epoch 22/30\n",
      "699/699 [==============================] - 1s 761us/sample - loss: 0.1907 - accuracy: 0.9356 - val_loss: 0.2873 - val_accuracy: 0.9143\n",
      "Epoch 23/30\n",
      "699/699 [==============================] - 1s 754us/sample - loss: 0.2281 - accuracy: 0.9285 - val_loss: 0.2894 - val_accuracy: 0.9143\n",
      "Epoch 24/30\n",
      "699/699 [==============================] - 1s 777us/sample - loss: 0.2423 - accuracy: 0.9170 - val_loss: 0.2893 - val_accuracy: 0.9143\n",
      "Epoch 25/30\n",
      "699/699 [==============================] - 1s 757us/sample - loss: 0.1876 - accuracy: 0.9471 - val_loss: 0.2888 - val_accuracy: 0.9200\n",
      "Epoch 26/30\n",
      "699/699 [==============================] - 1s 748us/sample - loss: 0.2121 - accuracy: 0.9227 - val_loss: 0.2884 - val_accuracy: 0.9200\n",
      "Epoch 27/30\n",
      "699/699 [==============================] - 1s 745us/sample - loss: 0.2199 - accuracy: 0.9285 - val_loss: 0.2875 - val_accuracy: 0.9200\n",
      "Epoch 28/30\n",
      "699/699 [==============================] - 1s 785us/sample - loss: 0.2143 - accuracy: 0.9342 - val_loss: 0.2880 - val_accuracy: 0.9200\n",
      "Epoch 29/30\n",
      "699/699 [==============================] - 1s 783us/sample - loss: 0.2277 - accuracy: 0.9213 - val_loss: 0.2871 - val_accuracy: 0.9200\n",
      "Epoch 30/30\n",
      "699/699 [==============================] - 1s 792us/sample - loss: 0.2316 - accuracy: 0.9299 - val_loss: 0.2878 - val_accuracy: 0.9200\n",
      "219/1 [==========================================================================================================================================================================================================================================================================================================================================================================================================================================================================================================================================================================================================================================================================================================================================================================================================================================================================================================================================================================================================================================================================================================================================================================================================================================================================================================================================================================================================================================================================================================================================================================================================================================================================================================================================================================================================================================================================================================================================================================================================================================================================================================================================================================================================================================================================================================================================================================================================================================================================================================================================================================================================================================================================================================================================================================================================================================================================================================================================================================================================================================================================================================================================================================================================================================================================================================================================================================================================================================================================================================================================================================================================================================================================================================================================================================================================================================================================================================================================================================================================================================================================================================================================================================================================================================================================================================================================================================================================================================================================================================================================================================================================================================================================================================================================================================================================================================================================================================================================================================================================================================================================================================================================================================================================================================================================================================================================================================================================================================================================================================================================================================================================================================================================================================================================================================================================================================================================================================================================================================================================================================================================================================================================================================================================================================================================================================================================================================================================================================================================================================================================================================================================================================================================================================================================================================================================================================] - 0s 77us/sample - loss: 0.4688 - accuracy: 0.8311\n",
      "test_loss: 0.458362, accuracy: 0.831050\n"
     ]
    }
   ],
   "source": [
    "x_train = data.trainReviews\n",
    "y_train = data.trainLabels\n",
    "x_eval = data.evalReviews\n",
    "y_eval = data.evalLabels\n",
    "\n",
    "wordEmbedding = data.wordEmbedding\n",
    "n_symbols=data.n_symbols\n",
    "\n",
    "\n",
    "reduce_lr = ReduceLROnPlateau(monitor='val_loss', patience=10, mode='auto')\n",
    "\n",
    "early_stopping = EarlyStopping(monitor='val_loss', patience=100)\n",
    "model_checkpoint = ModelCheckpoint('./lstm_model/best_model/model_{epoch:02d}-{val_accuracy:.2f}.hdf5', save_best_only=True, save_weights_only=True)\n",
    "\n",
    "\n",
    "history = model.fit(x_train, y_train, \n",
    "                    batch_size=config.batchSize, epochs=config.epochs, \n",
    "                    validation_split=0.2,shuffle=True, callbacks=[reduce_lr,early_stopping,model_checkpoint])\n",
    "#验证\n",
    "\n",
    "\n",
    "#保存模型\n",
    "yaml_string = model.to_yaml()\n",
    "with open('./lstm_model/lstm.yml', 'w') as outfile:\n",
    "    outfile.write( yaml.dump(yaml_string, default_flow_style=True) )\n",
    "model.save_weights('./lstm_model/lstm.h5')\n",
    "\n",
    "\n",
    "scores = model.evaluate(x_eval, y_eval)\n",
    "print('test_loss: %f, accuracy: %f' % (scores[0], scores[1]))"
   ]
  },
  {
   "cell_type": "code",
   "execution_count": 46,
   "metadata": {},
   "outputs": [],
   "source": [
    "# help( model.fit)"
   ]
  },
  {
   "cell_type": "code",
   "execution_count": 47,
   "metadata": {},
   "outputs": [
    {
     "data": {
      "text/plain": [
       "dict_keys(['loss', 'accuracy', 'val_loss', 'val_accuracy', 'lr'])"
      ]
     },
     "execution_count": 47,
     "metadata": {},
     "output_type": "execute_result"
    }
   ],
   "source": [
    "history_dict = history.history\n",
    "history_dict.keys()"
   ]
  },
  {
   "cell_type": "code",
   "execution_count": 73,
   "metadata": {},
   "outputs": [],
   "source": [
    "# 保存画图的数据\n",
    "\n",
    "acc = history.history['accuracy']\n",
    "val_acc = history.history['val_accuracy']\n",
    "loss = history.history['loss']\n",
    "val_loss = history.history['val_loss']\n",
    "\n",
    "pd.DataFrame({'acc':acc,'val_acc':val_acc,'loss':loss,'val_loss':val_loss},index=range(1,len(acc)+1)).to_csv('acc_loss.csv')"
   ]
  },
  {
   "cell_type": "code",
   "execution_count": 67,
   "metadata": {},
   "outputs": [
    {
     "data": {
      "image/png": "[encoded data removed]",
      "text/plain": [
       "<Figure size 900x600 with 1 Axes>"
      ]
     },
     "metadata": {
      "needs_background": "light"
     },
     "output_type": "display_data"
    },
    {
     "name": "stdout",
     "output_type": "stream",
     "text": [
      "min train loss: 0.6291185450741491\n",
      "min val loss: 0.466982569864818\n"
     ]
    }
   ],
   "source": [
    "import matplotlib.pyplot as plt\n",
    "%matplotlib inline\n",
    "\n",
    "# import matplotlib.pyplot as plt\n",
    "plt.rc('font',family='Times New Roman')\n",
    "\n",
    "acc = history.history['accuracy']\n",
    "val_acc = history.history['val_accuracy']\n",
    "loss = history.history['loss']\n",
    "val_loss = history.history['val_loss']\n",
    "\n",
    "epochs = range(1, len(acc) + 1)\n",
    "\n",
    "# \"bo\" is for \"blue dot\"\n",
    "plt.figure(\n",
    "    # figsize=(18,4),\n",
    "    dpi=150)\n",
    "plt.plot(epochs, loss, ':bo', label='Training loss')\n",
    "# b is for \"solid blue line\"\n",
    "plt.plot(epochs, val_loss, '-r*', label='Validation loss')\n",
    "\n",
    "\n",
    "fontsize = 14\n",
    "\n",
    "plt.title('Training and validation loss',size=fontsize)\n",
    "plt.xlabel('Epochs',size=fontsize)\n",
    "plt.ylabel('Loss',size=fontsize)\n",
    "\n",
    "plt.yticks(fontproperties = 'Times New Roman', size = fontsize)\n",
    "plt.xticks(fontproperties = 'Times New Roman', size = fontsize)\n",
    "\n",
    "plt.legend()\n",
    "\n",
    "\n",
    "plt.savefig('LSTM+Word2vec-loss.png',bbox_inches='tight')\n",
    "plt.show()\n",
    "\n",
    "print(f\"min train loss: {np.max(loss)}\")\n",
    "print(f\"min val loss: {np.max(val_loss)}\")"
   ]
  },
  {
   "cell_type": "code",
   "execution_count": 68,
   "metadata": {},
   "outputs": [
    {
     "data": {
      "text/plain": [
       "<Figure size 432x288 with 0 Axes>"
      ]
     },
     "metadata": {},
     "output_type": "display_data"
    },
    {
     "data": {
      "image/png": "[encoded data removed]",
      "text/plain": [
       "<Figure size 900x600 with 1 Axes>"
      ]
     },
     "metadata": {
      "needs_background": "light"
     },
     "output_type": "display_data"
    },
    {
     "name": "stdout",
     "output_type": "stream",
     "text": [
      "max train acc: 0.9470672607421875\n",
      "max val acc: 0.9314285516738892\n"
     ]
    }
   ],
   "source": [
    "plt.clf()   # clear figure\n",
    "acc_values = history_dict['accuracy']\n",
    "val_acc_values = history_dict['val_accuracy']\n",
    "plt.figure(\n",
    "    # figsize=(18,4),\n",
    "    dpi=150)\n",
    "plt.plot(epochs, acc, ':bo', label='Training acc')\n",
    "plt.plot(epochs, val_acc, '-r*', label='Validation acc')\n",
    "plt.title('Training and validation accuracy',size=fontsize)\n",
    "plt.xlabel('Epochs',size=fontsize)\n",
    "plt.ylabel('Accuracy',size=fontsize)\n",
    "\n",
    "plt.yticks(fontproperties = 'Times New Roman', size = fontsize)\n",
    "plt.xticks(fontproperties = 'Times New Roman', size = fontsize)\n",
    "\n",
    "plt.legend()\n",
    "\n",
    "plt.savefig('LSTM+Word2vec-acc.png',bbox_inches='tight')\n",
    "plt.show()\n",
    "\n",
    "print(f\"max train acc: {np.max(acc)}\")\n",
    "print(f\"max val acc: {np.max(val_acc)}\")"
   ]
  },
  {
   "cell_type": "markdown",
   "metadata": {},
   "source": [
    "## 计算度量指标"
   ]
  },
  {
   "cell_type": "code",
   "execution_count": 103,
   "metadata": {},
   "outputs": [
    {
     "name": "stdout",
     "output_type": "stream",
     "text": [
      "[[0. 1.]\n",
      " [1. 0.]\n",
      " [0. 1.]\n",
      " [0. 1.]\n",
      " [1. 0.]]\n",
      "[1 0 1 1 0]\n"
     ]
    }
   ],
   "source": [
    "\n",
    "import numpy as np\n",
    "\n",
    "input_data = [1, 0, 1, 1, 0]\n",
    "input_data = np.array(input_data)\n",
    "input_data = to_categorical(input_data)\n",
    "print(input_data)\n",
    "\n",
    "input_data = np.argmax(input_data, axis=1)\n",
    "print(input_data)\n",
    "\n"
   ]
  },
  {
   "cell_type": "code",
   "execution_count": 111,
   "metadata": {},
   "outputs": [
    {
     "data": {
      "text/plain": [
       "array([[0.06028566, 0.9397143 ],\n",
       "       [0.01368534, 0.98631465],\n",
       "       [0.01368534, 0.98631465],\n",
       "       [0.9811519 , 0.01884811],\n",
       "       [0.9811519 , 0.01884811],\n",
       "       [0.98653364, 0.0134664 ],\n",
       "       [0.01368534, 0.98631465],\n",
       "       [0.95511794, 0.04488209],\n",
       "       [0.98153806, 0.01846189],\n",
       "       [0.98023075, 0.0197692 ],\n",
       "       [0.92886204, 0.07113798],\n",
       "       [0.98941714, 0.01058284],\n",
       "       [0.01736554, 0.9826345 ],\n",
       "       [0.01736554, 0.9826345 ],\n",
       "       [0.98243344, 0.01756661],\n",
       "       [0.01688574, 0.98311424],\n",
       "       [0.01753112, 0.98246884],\n",
       "       [0.9565328 , 0.04346722],\n",
       "       [0.03059847, 0.9694016 ],\n",
       "       [0.9765241 , 0.02347589],\n",
       "       [0.9680839 , 0.03191604],\n",
       "       [0.10835463, 0.89164543],\n",
       "       [0.9814082 , 0.01859177],\n",
       "       [0.9873102 , 0.01268979],\n",
       "       [0.00691734, 0.99308264],\n",
       "       [0.05917634, 0.9408237 ],\n",
       "       [0.98792505, 0.01207494],\n",
       "       [0.24899754, 0.75100243],\n",
       "       [0.93573916, 0.06426077],\n",
       "       [0.7648551 , 0.23514485],\n",
       "       [0.9462307 , 0.05376931],\n",
       "       [0.01730621, 0.98269373],\n",
       "       [0.9522691 , 0.04773091],\n",
       "       [0.01862934, 0.9813706 ],\n",
       "       [0.95795304, 0.04204692],\n",
       "       [0.96735764, 0.03264241],\n",
       "       [0.01786237, 0.98213756],\n",
       "       [0.01499494, 0.985005  ],\n",
       "       [0.01772712, 0.9822728 ],\n",
       "       [0.01786975, 0.9821302 ],\n",
       "       [0.9817406 , 0.01825945],\n",
       "       [0.98878634, 0.01121365],\n",
       "       [0.87264806, 0.12735195],\n",
       "       [0.9862678 , 0.01373226],\n",
       "       [0.9686959 , 0.0313041 ],\n",
       "       [0.6811369 , 0.31886318],\n",
       "       [0.01357286, 0.9864271 ],\n",
       "       [0.03753677, 0.9624632 ],\n",
       "       [0.01452825, 0.9854718 ],\n",
       "       [0.95029527, 0.04970478],\n",
       "       [0.02764012, 0.9723599 ],\n",
       "       [0.695589  , 0.30441096],\n",
       "       [0.11801704, 0.881983  ],\n",
       "       [0.05507682, 0.9449232 ],\n",
       "       [0.9399173 , 0.06008272],\n",
       "       [0.95973366, 0.04026625],\n",
       "       [0.96957994, 0.03042006],\n",
       "       [0.9653877 , 0.03461235],\n",
       "       [0.01171639, 0.98828363],\n",
       "       [0.96805465, 0.03194533],\n",
       "       [0.04086752, 0.95913243],\n",
       "       [0.9314379 , 0.06856205],\n",
       "       [0.98296404, 0.017036  ],\n",
       "       [0.94997317, 0.0500268 ],\n",
       "       [0.9647504 , 0.03524956],\n",
       "       [0.0188418 , 0.9811582 ],\n",
       "       [0.02046534, 0.9795346 ],\n",
       "       [0.95873463, 0.04126533],\n",
       "       [0.94764686, 0.05235308],\n",
       "       [0.07093194, 0.9290681 ],\n",
       "       [0.02371205, 0.97628796],\n",
       "       [0.7760972 , 0.22390279],\n",
       "       [0.128836  , 0.871164  ],\n",
       "       [0.81871516, 0.18128479],\n",
       "       [0.02932884, 0.9706711 ],\n",
       "       [0.80449146, 0.19550855],\n",
       "       [0.44032118, 0.55967885],\n",
       "       [0.88193774, 0.11806224],\n",
       "       [0.9432552 , 0.05674482],\n",
       "       [0.93774676, 0.06225318],\n",
       "       [0.03654951, 0.96345043],\n",
       "       [0.20472665, 0.7952733 ],\n",
       "       [0.8670977 , 0.1329024 ],\n",
       "       [0.09054098, 0.909459  ],\n",
       "       [0.96273804, 0.03726195],\n",
       "       [0.01688574, 0.98311424],\n",
       "       [0.02707362, 0.9729264 ],\n",
       "       [0.03116486, 0.9688352 ],\n",
       "       [0.9828934 , 0.01710665],\n",
       "       [0.01548169, 0.9845183 ],\n",
       "       [0.95124894, 0.04875109],\n",
       "       [0.02739885, 0.9726011 ],\n",
       "       [0.9842085 , 0.01579143],\n",
       "       [0.95147157, 0.04852845],\n",
       "       [0.94600385, 0.05399612],\n",
       "       [0.95072263, 0.04927742],\n",
       "       [0.9272056 , 0.07279442],\n",
       "       [0.01533513, 0.98466486],\n",
       "       [0.94826025, 0.05173971],\n",
       "       [0.95341885, 0.04658117],\n",
       "       [0.01530406, 0.984696  ],\n",
       "       [0.01917678, 0.98082316],\n",
       "       [0.98085874, 0.01914127],\n",
       "       [0.0169102 , 0.9830898 ],\n",
       "       [0.0185525 , 0.98144746],\n",
       "       [0.926946  , 0.07305405],\n",
       "       [0.03739552, 0.96260446],\n",
       "       [0.950908  , 0.04909204],\n",
       "       [0.01665627, 0.98334366],\n",
       "       [0.78028846, 0.21971156],\n",
       "       [0.0188008 , 0.98119926],\n",
       "       [0.9233593 , 0.07664075],\n",
       "       [0.9390346 , 0.06096538],\n",
       "       [0.08079416, 0.91920584],\n",
       "       [0.9436066 , 0.05639338],\n",
       "       [0.95069593, 0.04930405],\n",
       "       [0.9874978 , 0.01250219],\n",
       "       [0.9698627 , 0.03013731],\n",
       "       [0.01887509, 0.9811249 ],\n",
       "       [0.9667421 , 0.03325788],\n",
       "       [0.9797245 , 0.02027546],\n",
       "       [0.40257823, 0.59742177],\n",
       "       [0.8778248 , 0.12217524],\n",
       "       [0.02054059, 0.97945946],\n",
       "       [0.7253877 , 0.2746123 ],\n",
       "       [0.01682157, 0.98317844],\n",
       "       [0.8720505 , 0.12794946],\n",
       "       [0.9780733 , 0.0219267 ],\n",
       "       [0.24039118, 0.75960886],\n",
       "       [0.14339435, 0.85660565],\n",
       "       [0.25295404, 0.74704593],\n",
       "       [0.01848602, 0.9815139 ],\n",
       "       [0.9141469 , 0.08585312],\n",
       "       [0.9826063 , 0.01739368],\n",
       "       [0.01314192, 0.9868581 ],\n",
       "       [0.9229708 , 0.07702922],\n",
       "       [0.9583027 , 0.04169725],\n",
       "       [0.9439879 , 0.05601209],\n",
       "       [0.9825681 , 0.01743199],\n",
       "       [0.988639  , 0.01136093],\n",
       "       [0.1651073 , 0.83489275],\n",
       "       [0.01425361, 0.9857464 ],\n",
       "       [0.13612117, 0.86387885],\n",
       "       [0.01516573, 0.9848343 ],\n",
       "       [0.01913185, 0.98086816],\n",
       "       [0.01446507, 0.9855349 ],\n",
       "       [0.01425361, 0.9857464 ],\n",
       "       [0.9602506 , 0.03974936],\n",
       "       [0.94132394, 0.0586761 ],\n",
       "       [0.15807644, 0.84192353],\n",
       "       [0.98210424, 0.01789579],\n",
       "       [0.01739921, 0.98260075],\n",
       "       [0.02659841, 0.97340167],\n",
       "       [0.01918459, 0.9808154 ],\n",
       "       [0.01539931, 0.9846007 ],\n",
       "       [0.00842449, 0.99157554],\n",
       "       [0.06950035, 0.9304997 ],\n",
       "       [0.96784556, 0.03215447],\n",
       "       [0.9529312 , 0.04706881],\n",
       "       [0.9770768 , 0.02292323],\n",
       "       [0.9432175 , 0.05678245],\n",
       "       [0.9557489 , 0.04425106],\n",
       "       [0.01648376, 0.9835163 ],\n",
       "       [0.02122575, 0.97877425],\n",
       "       [0.01696116, 0.9830389 ],\n",
       "       [0.01395977, 0.98604023],\n",
       "       [0.01444766, 0.9855524 ],\n",
       "       [0.04360512, 0.95639485],\n",
       "       [0.9473576 , 0.05264241],\n",
       "       [0.6587196 , 0.34128037],\n",
       "       [0.05766268, 0.94233733],\n",
       "       [0.01314807, 0.986852  ],\n",
       "       [0.9546766 , 0.04532331],\n",
       "       [0.96273804, 0.037262  ],\n",
       "       [0.90231365, 0.09768631],\n",
       "       [0.9767081 , 0.02329187],\n",
       "       [0.9695202 , 0.03047981],\n",
       "       [0.9772374 , 0.02276254],\n",
       "       [0.02795006, 0.9720499 ],\n",
       "       [0.12852779, 0.87147224],\n",
       "       [0.03473699, 0.96526307],\n",
       "       [0.05065689, 0.9493431 ],\n",
       "       [0.9696693 , 0.03033075],\n",
       "       [0.00885304, 0.991147  ],\n",
       "       [0.988815  , 0.011185  ],\n",
       "       [0.01059849, 0.9894015 ],\n",
       "       [0.02197865, 0.9780213 ],\n",
       "       [0.01519508, 0.9848049 ],\n",
       "       [0.04531907, 0.954681  ],\n",
       "       [0.01823834, 0.9817617 ],\n",
       "       [0.01379859, 0.98620147],\n",
       "       [0.98092973, 0.01907031],\n",
       "       [0.987182  , 0.01281792],\n",
       "       [0.01754427, 0.98245573],\n",
       "       [0.012719  , 0.987281  ],\n",
       "       [0.87209904, 0.12790099],\n",
       "       [0.36682013, 0.63317984],\n",
       "       [0.9048742 , 0.09512585],\n",
       "       [0.01174659, 0.98825336],\n",
       "       [0.01732036, 0.9826796 ],\n",
       "       [0.97102386, 0.02897613],\n",
       "       [0.9224694 , 0.07753065],\n",
       "       [0.01891151, 0.9810885 ],\n",
       "       [0.9518723 , 0.04812764],\n",
       "       [0.96779567, 0.03220428],\n",
       "       [0.9775835 , 0.02241653],\n",
       "       [0.15829358, 0.84170645],\n",
       "       [0.9143597 , 0.08564031],\n",
       "       [0.9631052 , 0.03689478],\n",
       "       [0.57163334, 0.4283667 ],\n",
       "       [0.02425046, 0.9757496 ],\n",
       "       [0.95910436, 0.04089559],\n",
       "       [0.46467367, 0.5353263 ],\n",
       "       [0.01491792, 0.98508203],\n",
       "       [0.93647146, 0.06352849],\n",
       "       [0.8415206 , 0.15847939],\n",
       "       [0.9853454 , 0.01465461],\n",
       "       [0.00919035, 0.9908097 ],\n",
       "       [0.9845263 , 0.01547371]], dtype=float32)"
      ]
     },
     "execution_count": 111,
     "metadata": {},
     "output_type": "execute_result"
    }
   ],
   "source": [
    "model.predict(x_eval)\n"
   ]
  },
  {
   "cell_type": "code",
   "execution_count": 106,
   "metadata": {},
   "outputs": [
    {
     "data": {
      "text/plain": [
       "array([1, 1, 1, 0, 0, 0, 1, 0, 0, 0, 0, 0, 1, 1, 0, 1, 1, 0, 1, 0, 0, 1,\n",
       "       0, 0, 1, 1, 0, 1, 0, 0, 0, 1, 0, 1, 0, 0, 1, 1, 1, 1, 0, 0, 0, 0,\n",
       "       0, 0, 1, 1, 1, 0, 1, 0, 1, 1, 0, 0, 0, 0, 1, 0, 1, 0, 0, 0, 0, 1,\n",
       "       1, 0, 0, 1, 1, 0, 1, 0, 1, 0, 1, 0, 0, 0, 1, 1, 0, 1, 0, 1, 1, 1,\n",
       "       0, 1, 0, 1, 0, 0, 0, 0, 0, 1, 0, 0, 1, 1, 0, 1, 1, 0, 1, 0, 1, 0,\n",
       "       1, 0, 0, 1, 0, 0, 0, 0, 1, 0, 0, 1, 0, 1, 0, 1, 0, 0, 1, 1, 1, 1,\n",
       "       0, 0, 1, 0, 0, 0, 0, 0, 1, 1, 1, 1, 1, 1, 1, 0, 0, 1, 0, 1, 1, 1,\n",
       "       1, 1, 1, 0, 0, 0, 0, 0, 1, 1, 1, 1, 1, 1, 0, 0, 1, 1, 0, 0, 0, 0,\n",
       "       0, 0, 1, 1, 1, 1, 0, 1, 0, 1, 1, 1, 1, 1, 1, 0, 0, 1, 1, 0, 1, 0,\n",
       "       1, 1, 0, 0, 1, 0, 0, 0, 1, 0, 0, 0, 1, 0, 1, 1, 0, 0, 0, 1, 0],\n",
       "      dtype=int64)"
      ]
     },
     "execution_count": 106,
     "metadata": {},
     "output_type": "execute_result"
    }
   ],
   "source": [
    "np.argmax(y_es, axis=1)"
   ]
  },
  {
   "cell_type": "code",
   "execution_count": 120,
   "metadata": {},
   "outputs": [],
   "source": [
    "from sklearn.metrics import roc_auc_score, accuracy_score, precision_score, recall_score, f1_score\n"
   ]
  },
  {
   "cell_type": "code",
   "execution_count": 126,
   "metadata": {},
   "outputs": [
    {
     "name": "stdout",
     "output_type": "stream",
     "text": [
      "accuracy_score :0.8310502283105022\n",
      "f1_score :0.8340807174887893\n",
      "recall_score :0.7815126050420168\n",
      "precision_score :0.8942307692307693\n",
      "roc_auc_score :0.8357563025210084\n"
     ]
    }
   ],
   "source": [
    "y_true = np.argmax(y_eval, axis=1)\n",
    "y_pred = np.argmax(model.predict(x_eval), axis=1)\n",
    "\n",
    "print(f\"accuracy_score :{accuracy_score(y_true, y_pred)}\")\n",
    "print(f\"f1_score :{f1_score(y_true, y_pred)}\")\n",
    "print(f\"recall_score :{recall_score(y_true, y_pred)}\")\n",
    "print(f\"precision_score :{precision_score(y_true, y_pred)}\")\n",
    "\n",
    "print(f\"roc_auc_score :{roc_auc_score(y_true, y_pred)}\")"
   ]
  },
  {
   "cell_type": "code",
   "execution_count": 127,
   "metadata": {},
   "outputs": [
    {
     "name": "stdout",
     "output_type": "stream",
     "text": [
      "accuracy_score :0.9382151029748284\n",
      "f1_score :0.9466403162055336\n",
      "recall_score :0.935546875\n",
      "precision_score :0.958\n",
      "roc_auc_score :0.9387679126381215\n"
     ]
    }
   ],
   "source": [
    "\n",
    "y_true = np.argmax(y_train, axis=1) # 用训练集 计算\n",
    "y_pred = np.argmax(model.predict(x_train), axis=1)\n",
    "\n",
    "print(f\"accuracy_score :{accuracy_score(y_true, y_pred)}\")\n",
    "print(f\"f1_score :{f1_score(y_true, y_pred)}\")\n",
    "print(f\"recall_score :{recall_score(y_true, y_pred)}\")\n",
    "print(f\"precision_score :{precision_score(y_true, y_pred)}\")\n",
    "\n",
    "print(f\"roc_auc_score :{roc_auc_score(y_true, y_pred)}\")"
   ]
  },
  {
   "cell_type": "code",
   "execution_count": null,
   "metadata": {},
   "outputs": [],
   "source": []
  },
  {
   "cell_type": "code",
   "execution_count": 87,
   "metadata": {},
   "outputs": [
    {
     "data": {
      "text/plain": [
       "0.8310502"
      ]
     },
     "execution_count": 87,
     "metadata": {},
     "output_type": "execute_result"
    }
   ],
   "source": [
    "m = tf.keras.metrics.CategoricalAccuracy()\n",
    "m.update_state(y_eval, model.predict(x_eval))\n",
    "m.result().numpy()"
   ]
  },
  {
   "cell_type": "code",
   "execution_count": 88,
   "metadata": {},
   "outputs": [
    {
     "data": {
      "text/plain": [
       "0.8310502"
      ]
     },
     "execution_count": 88,
     "metadata": {},
     "output_type": "execute_result"
    }
   ],
   "source": [
    "m = tf.keras.metrics.Recall()\n",
    "m.update_state(y_eval, model.predict(x_eval))\n",
    "m.result().numpy()"
   ]
  },
  {
   "cell_type": "code",
   "execution_count": 94,
   "metadata": {},
   "outputs": [
    {
     "data": {
      "text/plain": [
       "(219, 2)"
      ]
     },
     "execution_count": 94,
     "metadata": {},
     "output_type": "execute_result"
    }
   ],
   "source": [
    "model.predict(x_eval).shape"
   ]
  },
  {
   "cell_type": "code",
   "execution_count": 92,
   "metadata": {},
   "outputs": [
    {
     "data": {
      "text/plain": [
       "182.0"
      ]
     },
     "execution_count": 92,
     "metadata": {},
     "output_type": "execute_result"
    }
   ],
   "source": [
    "m = tf.keras.metrics.TrueNegatives()\n",
    "m.update_state(y_eval, model.predict(x_eval))\n",
    "m.result().numpy()"
   ]
  },
  {
   "cell_type": "code",
   "execution_count": 93,
   "metadata": {},
   "outputs": [
    {
     "data": {
      "text/plain": [
       "182.0"
      ]
     },
     "execution_count": 93,
     "metadata": {},
     "output_type": "execute_result"
    }
   ],
   "source": [
    "m = tf.keras.metrics.TruePositives()\n",
    "m.update_state(y_eval, model.predict(x_eval))\n",
    "m.result().numpy()"
   ]
  },
  {
   "cell_type": "code",
   "execution_count": 84,
   "metadata": {},
   "outputs": [
    {
     "data": {
      "text/plain": [
       "0.90740395"
      ]
     },
     "execution_count": 84,
     "metadata": {},
     "output_type": "execute_result"
    }
   ],
   "source": [
    "m = tf.keras.metrics.AUC()\n",
    "m.update_state(y_eval, model.predict(x_eval))\n",
    "m.result().numpy()"
   ]
  },
  {
   "cell_type": "code",
   "execution_count": null,
   "metadata": {},
   "outputs": [
    {
     "data": {
      "text/plain": [
       "0.8310502"
      ]
     },
     "metadata": {},
     "output_type": "display_data"
    }
   ],
   "source": [
    "m = tf.keras.metrics.Precision()\n",
    "m.update_state(y_eval, model.predict(x_eval))\n",
    "m.result().numpy()"
   ]
  }
 ],
 "metadata": {
  "kernelspec": {
   "display_name": "Python 3.7.9 ('weibo': venv)",
   "language": "python",
   "name": "python3"
  },
  "language_info": {
   "codemirror_mode": {
    "name": "ipython",
    "version": 3
   },
   "file_extension": ".py",
   "mimetype": "text/x-python",
   "name": "python",
   "nbconvert_exporter": "python",
   "pygments_lexer": "ipython3",
   "version": "3.7.9"
  },
  "vscode": {
   "interpreter": {
    "hash": "980e5277f2db5a768bb75a54045553d8a5c45dc8426da588e067f30919fe5369"
   }
  }
 },
 "nbformat": 4,
 "nbformat_minor": 2
}
