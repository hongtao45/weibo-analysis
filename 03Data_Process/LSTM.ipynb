{
 "cells": [
  {
   "cell_type": "markdown",
   "metadata": {},
   "source": [
    "# LSTM实现中文商品评论二分类"
   ]
  },
  {
   "cell_type": "code",
   "execution_count": 5,
   "metadata": {},
   "outputs": [
    {
     "name": "stdout",
     "output_type": "stream",
     "text": [
      "2.0.0\n",
      "2.2.4-tf\n"
     ]
    }
   ],
   "source": [
    "import tensorflow as tf\n",
    "print(tf.__version__)\n",
    "print(tf.keras.__version__)"
   ]
  },
  {
   "cell_type": "code",
   "execution_count": 6,
   "metadata": {},
   "outputs": [],
   "source": [
    "import os\n",
    "import csv\n",
    "import time\n",
    "import datetime\n",
    "import random\n",
    "import json\n",
    "from collections import Counter\n",
    "from math import sqrt\n",
    "import gensim\n",
    "import pandas as pd\n",
    "import numpy as np\n",
    "\n",
    "import re\n",
    "import matplotlib.pyplot as plt\n",
    "plt.rcParams['font.sans-serif']=['SimHei'] #用来正常显示中文标签\n",
    "plt.rcParams['axes.unicode_minus'] = False #用来正常显示负号\n",
    "\n",
    "import pkuseg\n",
    "import jieba\n",
    "\n",
    "\n",
    "from tensorflow.keras.layers import Input,Conv2D,MaxPool2D,concatenate,Flatten,Dense,Dropout,Embedding,Reshape,LSTM\n",
    "from tensorflow.keras import Sequential,optimizers,losses\n",
    "from tensorflow.keras.models import Model\n",
    "from tensorflow.keras.preprocessing import sequence\n",
    "from tensorflow.keras import regularizers\n",
    "from tensorflow.keras.utils import to_categorical\n",
    "from tensorflow.keras.callbacks import ReduceLROnPlateau\n",
    "from tensorflow.keras.callbacks import EarlyStopping, ModelCheckpoint\n",
    "\n",
    "from sklearn.metrics import roc_auc_score, accuracy_score, precision_score, recall_score\n",
    "from bs4 import BeautifulSoup\n",
    "import logging\n",
    "import gensim\n",
    "from gensim.models import word2vec\n",
    "from gensim.models.word2vec import Word2Vec\n",
    "\n",
    "import multiprocessing\n",
    "import yaml\n",
    "import jieba"
   ]
  },
  {
   "cell_type": "code",
   "execution_count": 7,
   "metadata": {},
   "outputs": [
    {
     "data": {
      "text/plain": [
       "'1.19.2'"
      ]
     },
     "execution_count": 7,
     "metadata": {},
     "output_type": "execute_result"
    }
   ],
   "source": [
    "np.__version__"
   ]
  },
  {
   "cell_type": "markdown",
   "metadata": {},
   "source": [
    "# 参数配置"
   ]
  },
  {
   "cell_type": "code",
   "execution_count": 8,
   "metadata": {},
   "outputs": [],
   "source": [
    "class Config(object):\n",
    "    \n",
    "    #数据集路径\n",
    "    dataSource = \"../02Data/goods_zh.txt\"\n",
    "    labelSource = \"../02Data/完整数据_暴雨_交通_pre_tweets_TFIDF_Label.xlsx\"\n",
    "    labelSource = \"../02Data/5006_final_微博数据集.xlsx\"\n",
    "    \n",
    "    #分词后保留大于等于最低词频的词\n",
    "    miniFreq=1\n",
    "    \n",
    "    \n",
    "    #统一输入文本序列的定长，取了所有序列长度的均值。超出将被截断，不足则补0\n",
    "    sequenceLength = 30\n",
    "    batchSize= 8\n",
    "    epochs= 30\n",
    "    \n",
    "    \n",
    "    numClasses = 2\n",
    "    #训练集的比例\n",
    "    rate = 0.8  \n",
    "    \n",
    "    \n",
    "    #生成嵌入词向量的维度\n",
    "    embeddingSize = 30\n",
    "    \n",
    "    #卷积核数\n",
    "    numFilters = 30\n",
    "    \n",
    "    #卷积核大小\n",
    "    filterSizes = [2,3,4,5]\n",
    "    dropoutKeepProb = 0.5\n",
    "    \n",
    "    #L2正则系数\n",
    "    l2RegLambda = 0.1\n",
    "\n",
    "    \n",
    "# 实例化配置参数对象\n",
    "config = Config()"
   ]
  },
  {
   "cell_type": "code",
   "execution_count": 9,
   "metadata": {},
   "outputs": [
    {
     "data": {
      "text/plain": [
       "'../02Data/5006_final_微博数据集.xlsx'"
      ]
     },
     "execution_count": 9,
     "metadata": {},
     "output_type": "execute_result"
    }
   ],
   "source": [
    "config.labelSource"
   ]
  },
  {
   "cell_type": "markdown",
   "metadata": {},
   "source": [
    "# 文本预处理 流程（原来的一样，不做变化）\n",
    "\n",
    "1. 文本去噪\n",
    "2. 中文分词\n",
    "3. 过滤停用词\n",
    "4. 词性标注 【没有特殊需求，咱们就不用做了\n",
    "5. 文本去重 【考虑发表的用户，**官方号**\n",
    "6. 文本标记【手动整理模型输入数据\n",
    "7. 特征词选择"
   ]
  },
  {
   "cell_type": "code",
   "execution_count": 10,
   "metadata": {},
   "outputs": [
    {
     "name": "stdout",
     "output_type": "stream",
     "text": [
      "<class 'pandas.core.frame.DataFrame'>\n",
      "RangeIndex: 1093 entries, 0 to 1092\n",
      "Data columns (total 1 columns):\n",
      " #   Column  Non-Null Count  Dtype \n",
      "---  ------  --------------  ----- \n",
      " 0   微博正文    1093 non-null   string\n",
      "dtypes: string(1)\n",
      "memory usage: 8.7 KB\n"
     ]
    }
   ],
   "source": [
    "# data = pd.read_csv(\"../02Data/完整数据_暴雨_交通.csv\")\n",
    "# df = data.sample(n=500, replace=False, random_state=1) # 指定随机种子，保证都是同一个数据组合\n",
    "# df.reset_index(drop=True, inplace=True)\n",
    "df = pd.read_excel(config.labelSource)\n",
    "tweets = df.loc[:, ['微博正文']].astype(\"string\") # 取100条数据就好了\n",
    "tweets.info()"
   ]
  },
  {
   "cell_type": "markdown",
   "metadata": {},
   "source": [
    "## 1 文本去噪\n",
    "\n",
    "微博中的特殊符号，对于算法的训练来说不太有利\n",
    "\n",
    "[Python正则表达式清洗微博文本特殊符号(网址, @, 表情符等)](https://blog.csdn.net/blmoistawinde/article/details/103648044)\n",
    "\n",
    "[附：表达式全集（正则表达式手册）](https://blog.csdn.net/qq_33472765/article/details/80785441)"
   ]
  },
  {
   "cell_type": "code",
   "execution_count": 12,
   "metadata": {},
   "outputs": [],
   "source": [
    "def clear_noise(text):\n",
    "    \"\"\"\n",
    "    text 待去噪的原始文本\n",
    "    \"\"\"\n",
    "    text = text.replace(u'\\xa0', u' ')      # 去除 \\xa0     不间断空白符 \n",
    "    text = text.replace(u'\\u3000', u' ')    # 去除 \\u3000   全角的空白符\n",
    "    \n",
    "    # 匹配这些中文标点符号 。 ？ ！ ， 、 ； ： “ ” ‘ ' （ ） 《 》 〈 〉 【 】 『 』 「 」 ﹃ ﹄ 〔 〕 … — ～ ﹏ ￥\n",
    "    reg1 = r\"@\\S*?\"\n",
    "    reg2 = r'[\\s|\\u3002|\\uff1f|\\uff01|\\uff0c|\\u3001|\\uff1b|\\uff1a|\\u201c|\\u201d|\\u2018|\\u2019|\\uff08|\\uff09|\\u300a|\\u300b|\\u3008|\\u3009|\\u3010|\\u3011|\\u300e|\\u300f|\\u300c|\\u300d|\\ufe43|\\ufe44|\\u3014|\\u3015|\\u2026|\\u2014|\\uff5e|\\ufe4f|\\uffe5]'\n",
    "    text = re.sub(r\"(回复)?(//)?\\s*\", \"\", text)  # 去除正文中的@和回复/转发中的用户名\n",
    "    text = re.sub(reg1+reg2, \"\", text)\n",
    "    text = re.sub(r\"\\[\\S+\\]\", \"\", text)     # 去除表情符号\n",
    "    # text = re.sub(r\"#\\S+\\s*#\", \"\", text)    # 去除话题内容 “#content#”\n",
    "    # text = re.sub(r\"【\\S+\\s*】\", \"\", text)  # 分类标签“【content】”\n",
    "\n",
    "    URL_REGEX = re.compile(\n",
    "        r'(?i)\\b((?:https?://|www\\d{0,3}[.]|[a-z0-9.\\-]+[.][a-z]{2,4}/)(?:[^\\s()<>]+|\\(([^\\s()<>]+|(\\([^\\s()<>]+\\)))*\\))+(?:\\(([^\\s()<>]+|(\\([^\\s()<>]+\\)))*\\)|[^\\s`!()\\[\\]{};:\\'\".,<>?«»“”‘’]))',\n",
    "        re.IGNORECASE)\n",
    "    text = re.sub(URL_REGEX, \"\", text)      # 去除网址\n",
    "    \n",
    "    EMAIL_REGEX = re.compile(r\"[-a-z0-9_.]+@(?:[-a-z0-9]+\\.)+[a-z]{2,6}\", re.IGNORECASE)\n",
    "    text = re.sub(EMAIL_REGEX, \"\", text)    # 去除邮件 \n",
    "    \n",
    "    text = text.replace(\"转发微博\", \"\")      # 去除无意义的词语\n",
    "    text = text.replace(\"网页链接\", \"\")\n",
    "    text = re.sub(r\"\\s+\", \" \", text)        # 合并正文中过多的空格\n",
    "\n",
    "    text = re.sub(r\"\\d{2,4}年|\\d{1,2}月|\\d{1,2}日|\\d{1,2}时|\\d{1,2}分| \\d{1,2}点\", \"\", text) # 去除 日期 时间\n",
    "    text = re.sub(r\"\\d\", \"\", text)\n",
    "    text = re.sub(r'[a-zA-Z]',\"\", text)\n",
    "    \n",
    "    return text.strip()"
   ]
  },
  {
   "cell_type": "code",
   "execution_count": 13,
   "metadata": {},
   "outputs": [
    {
     "data": {
      "text/plain": [
       "'#路况提示#截至，受暴雨天气影响，应交警要求，铜宜高速万宜段万载南站入口封闭，铜宜高速铜万段三兴站、罗城站、芳溪站、黄岗站、铜鼓东入口封闭。—@江西高速@江西交通@江西交通服务热线'"
      ]
     },
     "execution_count": 13,
     "metadata": {},
     "output_type": "execute_result"
    }
   ],
   "source": [
    "text = \"#路况提示#截至16时11分，受暴雨天气影响，应交警要求，S81铜宜高速万宜段万载南站入口封闭，S81铜宜高速铜万段三兴站、罗城站、芳溪站、黄岗站、铜鼓东入口封闭。—ZGL@江西高速@江西交通@江西交通服务热线\"\n",
    "clear_noise(text)"
   ]
  },
  {
   "cell_type": "code",
   "execution_count": 86,
   "metadata": {},
   "outputs": [
    {
     "data": {
      "text/html": [
       "<div>\n",
       "<style scoped>\n",
       "    .dataframe tbody tr th:only-of-type {\n",
       "        vertical-align: middle;\n",
       "    }\n",
       "\n",
       "    .dataframe tbody tr th {\n",
       "        vertical-align: top;\n",
       "    }\n",
       "\n",
       "    .dataframe thead th {\n",
       "        text-align: right;\n",
       "    }\n",
       "</style>\n",
       "<table border=\"1\" class=\"dataframe\">\n",
       "  <thead>\n",
       "    <tr style=\"text-align: right;\">\n",
       "      <th></th>\n",
       "      <th>微博正文</th>\n",
       "      <th>去噪</th>\n",
       "    </tr>\n",
       "  </thead>\n",
       "  <tbody>\n",
       "    <tr>\n",
       "      <th>0</th>\n",
       "      <td>路况信息：2021年5月29日17时05分，许广高速潭衡段射埠、回龙桥、青山桥收费站入口因暴...</td>\n",
       "      <td>路况信息：，许广高速潭衡段射埠、回龙桥、青山桥收费站入口因暴雨实行交通管制，至已解除交通管制...</td>\n",
       "    </tr>\n",
       "    <tr>\n",
       "      <th>1</th>\n",
       "      <td>路况信息：2021年5月29日10时25分，许广高速长湘段铜官、望城、乌山收费站入口因暴雨实...</td>\n",
       "      <td>路况信息：，许广高速长湘段铜官、望城、乌山收费站入口因暴雨实行交通管制，至已解除交通管制，恢...</td>\n",
       "    </tr>\n",
       "    <tr>\n",
       "      <th>2</th>\n",
       "      <td>路况信息：2021年5月29日10时24分，许广高速岳望段茶亭收费站入口因暴雨实行交通管制，...</td>\n",
       "      <td>路况信息：，许广高速岳望段茶亭收费站入口因暴雨实行交通管制，至已解除交通管制，恢复正常通行。</td>\n",
       "    </tr>\n",
       "    <tr>\n",
       "      <th>3</th>\n",
       "      <td>路况信息：2021年5月29日10时50分，许广高速潭衡段湘潭西、杨嘉桥、射埠、回龙桥收费站...</td>\n",
       "      <td>路况信息：，许广高速潭衡段湘潭西、杨嘉桥、射埠、回龙桥收费站入口因暴雨实行交通管制，至均已解...</td>\n",
       "    </tr>\n",
       "    <tr>\n",
       "      <th>4</th>\n",
       "      <td>路况信息：2021年5月29日10时50分，许广高速长湘段南谷收费站入口因暴雨实行交通管制，...</td>\n",
       "      <td>路况信息：，许广高速长湘段南谷收费站入口因暴雨实行交通管制，至已解除交通管制，恢复正常通行。</td>\n",
       "    </tr>\n",
       "  </tbody>\n",
       "</table>\n",
       "</div>"
      ],
      "text/plain": [
       "                                                微博正文  \\\n",
       "0  路况信息：2021年5月29日17时05分，许广高速潭衡段射埠、回龙桥、青山桥收费站入口因暴...   \n",
       "1  路况信息：2021年5月29日10时25分，许广高速长湘段铜官、望城、乌山收费站入口因暴雨实...   \n",
       "2  路况信息：2021年5月29日10时24分，许广高速岳望段茶亭收费站入口因暴雨实行交通管制，...   \n",
       "3  路况信息：2021年5月29日10时50分，许广高速潭衡段湘潭西、杨嘉桥、射埠、回龙桥收费站...   \n",
       "4  路况信息：2021年5月29日10时50分，许广高速长湘段南谷收费站入口因暴雨实行交通管制，...   \n",
       "\n",
       "                                                  去噪  \n",
       "0  路况信息：，许广高速潭衡段射埠、回龙桥、青山桥收费站入口因暴雨实行交通管制，至已解除交通管制...  \n",
       "1  路况信息：，许广高速长湘段铜官、望城、乌山收费站入口因暴雨实行交通管制，至已解除交通管制，恢...  \n",
       "2     路况信息：，许广高速岳望段茶亭收费站入口因暴雨实行交通管制，至已解除交通管制，恢复正常通行。  \n",
       "3  路况信息：，许广高速潭衡段湘潭西、杨嘉桥、射埠、回龙桥收费站入口因暴雨实行交通管制，至均已解...  \n",
       "4     路况信息：，许广高速长湘段南谷收费站入口因暴雨实行交通管制，至已解除交通管制，恢复正常通行。  "
      ]
     },
     "execution_count": 86,
     "metadata": {},
     "output_type": "execute_result"
    }
   ],
   "source": [
    "tweets[\"去噪\"] = tweets[\"微博正文\"].apply(clear_noise).astype(\"string\")\n",
    "tweets.head()"
   ]
  },
  {
   "cell_type": "markdown",
   "metadata": {},
   "source": [
    "## 2 中文分词\n",
    "\n",
    "[pkuseg: 一个多领域中文分词工具包](https://github.com/lancopku/pkuseg-python)\n",
    "\n",
    "[jieba: 结巴中文分词](https://github.com/fxsjy/jieba)\n",
    "\n",
    "从github下载的用户则需要自己下载对应的预训练模型，并设置model_name字段为预训练模型路径。预训练模型可以在[release](https://github.com/lancopku/pkuseg-python/releases)部分下载。以下是对预训练模型的说明：\n",
    "\n",
    "- **news**: 在MSRA（新闻语料）上训练的模型。【可以测试\n",
    "- **web**: 在微博（网络文本语料）上训练的模型。【可以测试\n",
    "- **medicine**: 在医药领域上训练的模型。\n",
    "- **tourism**: 在旅游领域上训练的模型。\n",
    "- **mixed**: 混合数据集训练的通用模型。随pip包附带的是此模型。【可以测试\n",
    "\n",
    "我们还通过领域自适应的方法，利用维基百科的未标注数据实现了几个细领域预训练模型的自动构建以及通用模型的优化，这些模型目前仅可以在release中下载：\n",
    "\n",
    "- **art**: 在艺术与文化领域上训练的模型。\n",
    "- **entertainment**: 在娱乐与体育领域上训练的模型。\n",
    "- **science**: 在科学领域上训练的模型。\n",
    "- **default_v2**: 使用领域自适应方法得到的优化后的通用模型，相较于默认模型规模更大，但泛化性能更好。"
   ]
  },
  {
   "cell_type": "code",
   "execution_count": 87,
   "metadata": {},
   "outputs": [
    {
     "data": {
      "text/plain": [
       "['我', '爱', '北京', '天安门']"
      ]
     },
     "execution_count": 87,
     "metadata": {},
     "output_type": "execute_result"
    }
   ],
   "source": [
    "# jieba分词\n",
    "\n",
    "def jieba_segment(str, use_paddle=True):\n",
    "    \"\"\"\n",
    "    jieba分词:\n",
    "    str         : 待分词的文本\n",
    "    use_paddle  : 是否使用paddle模型\n",
    "    \"\"\"\n",
    "    word_list = jieba.cut(str, use_paddle=use_paddle)   # 分词后返回一个列表  jieba.cut(）   返回的是一个迭代器\n",
    "    res = list(word_list)\n",
    "   \n",
    "    return res\n",
    "\n",
    "#! 测试\n",
    "jieba_segment('我爱北京天安门')\n"
   ]
  },
  {
   "cell_type": "code",
   "execution_count": 88,
   "metadata": {},
   "outputs": [
    {
     "data": {
      "text/plain": [
       "['我', '爱', '北京', '天安门']"
      ]
     },
     "execution_count": 88,
     "metadata": {},
     "output_type": "execute_result"
    }
   ],
   "source": [
    "# pkuseg 分词 \n",
    "\n",
    "def pkuseg_segment(str, m_name=\"web\", u_dict=\"default\"):\n",
    "    \"\"\"\n",
    "    pkuseg分词:\n",
    "    str     :待分词的文本\n",
    "    m_name  : 选择使用的预训练模型\n",
    "    u_dict  : 用户自定义的分词设置用户词典。\n",
    "    \"\"\"\n",
    "    # m_name= \"news\"\n",
    "    # m_name= \"mixed\"\n",
    "    # p_tag= True # 是否包含词性\n",
    "    seg = pkuseg.pkuseg(model_name=m_name, user_dict=u_dict)           # 以默认配置加载模型    \n",
    "    res = seg.cut(str)  # 进行分词\n",
    "   \n",
    "    return res\n",
    "\n",
    "#! 测试\n",
    "pkuseg_segment('我爱北京天安门')"
   ]
  },
  {
   "cell_type": "code",
   "execution_count": 89,
   "metadata": {},
   "outputs": [],
   "source": [
    "\n",
    "tweets[\"jieba\"] = tweets[\"去噪\"].apply(jieba_segment)"
   ]
  },
  {
   "cell_type": "code",
   "execution_count": 90,
   "metadata": {},
   "outputs": [],
   "source": [
    "#! 时间比较3min，轻易不尝试\n",
    "# tweets[\"pkuseg\"] = tweets[\"去噪\"].apply(pkuseg_segment)"
   ]
  },
  {
   "cell_type": "code",
   "execution_count": 91,
   "metadata": {},
   "outputs": [
    {
     "name": "stdout",
     "output_type": "stream",
     "text": [
      "<class 'pandas.core.frame.DataFrame'>\n",
      "RangeIndex: 1093 entries, 0 to 1092\n",
      "Data columns (total 3 columns):\n",
      " #   Column  Non-Null Count  Dtype \n",
      "---  ------  --------------  ----- \n",
      " 0   微博正文    1093 non-null   string\n",
      " 1   去噪      1093 non-null   string\n",
      " 2   jieba   1093 non-null   object\n",
      "dtypes: object(1), string(2)\n",
      "memory usage: 25.7+ KB\n"
     ]
    }
   ],
   "source": [
    "# tweets.to_excel(\"../02Data/jieba_pkuseg.xlsx\")\n",
    "tweets.info()"
   ]
  },
  {
   "cell_type": "code",
   "execution_count": null,
   "metadata": {},
   "outputs": [],
   "source": []
  },
  {
   "cell_type": "markdown",
   "metadata": {},
   "source": [
    "## 3 过滤停用词\n",
    "\n",
    "- 支持新增停用词库\n",
    "- 考虑词性标准时的去停用词\n",
    "- 支持删除指定词性的词"
   ]
  },
  {
   "cell_type": "code",
   "execution_count": 92,
   "metadata": {},
   "outputs": [
    {
     "name": "stdout",
     "output_type": "stream",
     "text": [
      "['三明', '路段', '多次', '发生', '山体', '滑坡', '泥石流', '交通', '中断', '连日', '暴雨', '线', '过境', '线', '上行', '梅列区', '徐碧', '街道', '翁墩', '互通', '三角区', '多次', '发生', '山体', '滑坡', '泥石流', '共计', '约', '立方米', '溜方', '造成', '交通', '中断', '目前', '暂', '无法', '预计', '恢复', '通行', '时间', '过往', '车辆', '市区', '绕行', '三明', '路段', '多次', '发生', '山体', '滑坡', '泥石流', '交通', '中断', '东南', '网', '三明', '站', '微博', '视频']\n"
     ]
    }
   ],
   "source": [
    "def clear_stopword(word_ls, stopword_file, postag=False, stop_postag=[], user_file=\"../05stopwords/user_stopwords.txt\"):\n",
    "    \"\"\"\n",
    "    word_ls         :待去停用词的词汇列表【word 或者是 tuple(word, postag) 组成的list\n",
    "    stopword_file   :选择使用的停用词库\n",
    "    user_file       :用户自定义的停用词库\n",
    "    postag          :是否有词性标注\n",
    "    stop_postag     :指定删除的词性\n",
    "    \"\"\"\n",
    "    with open(stopword_file, 'r', encoding='utf-8') as f1, open(user_file, 'r' , encoding='utf-8') as f2:    # \n",
    "        \n",
    "        stopword_ls = [word.strip('\\n') for word in f1.readlines()] # 默认词库\n",
    "        user_ls = [word.strip('\\n') for word in f2.readlines()]     # 自定义词库\n",
    "\n",
    "        stopword_ls.extend(user_ls)\n",
    "        \n",
    "        res = []\n",
    "        if postag: # 有词性标注\n",
    "            for word_tag in word_ls:\n",
    "                w, t = word_tag\n",
    "                if w not in stopword_ls  and t not in stop_postag: # 仅保留2个字符及以上的词\n",
    "                    res.append((w, t))\n",
    "        else:\n",
    "            for w in word_ls:\n",
    "                if w not in stopword_ls : # 仅保留2个字符及以上的词\n",
    "                    res.append(w)\n",
    "    \n",
    "    return res\n",
    "\n",
    "\n",
    "#! 测试\n",
    "word_ls = tweets[\"jieba\"][9]\n",
    "stopword_file = \"../05stopwords/hit_stopwords.txt\"\n",
    "postag = False\n",
    "stop_postag = []\n",
    "user_file = \"../05stopwords/user_stopwords.txt\"\n",
    "\n",
    "res = clear_stopword(word_ls, stopword_file, postag, stop_postag, user_file)\n",
    "print(res)"
   ]
  },
  {
   "cell_type": "code",
   "execution_count": 93,
   "metadata": {},
   "outputs": [],
   "source": [
    "stopword_file = \"../05stopwords/hit_stopwords.txt\"\n",
    "postag = False\n",
    "stop_postag = []\n",
    "\n",
    "user_file = \"../05stopwords/user_stopwords.txt\"\n",
    "\n",
    "tweets[\"jieba_stop\"] = tweets[\"jieba\"].apply(clear_stopword, args=[stopword_file, postag, stop_postag, user_file])\n",
    "# tweets[\"pkuseg_stop\"] = tweets[\"pkuseg\"].apply(clear_stopword, args=[stopword_file, postag, stop_postag, user_file])\n"
   ]
  },
  {
   "cell_type": "code",
   "execution_count": 94,
   "metadata": {},
   "outputs": [
    {
     "name": "stdout",
     "output_type": "stream",
     "text": [
      "<class 'pandas.core.frame.DataFrame'>\n",
      "RangeIndex: 1093 entries, 0 to 1092\n",
      "Data columns (total 4 columns):\n",
      " #   Column      Non-Null Count  Dtype \n",
      "---  ------      --------------  ----- \n",
      " 0   微博正文        1093 non-null   string\n",
      " 1   去噪          1093 non-null   string\n",
      " 2   jieba       1093 non-null   object\n",
      " 3   jieba_stop  1093 non-null   object\n",
      "dtypes: object(2), string(2)\n",
      "memory usage: 34.3+ KB\n"
     ]
    }
   ],
   "source": [
    "# tweets.to_excel(\"../02Data/jieba_pkuseg.xlsx\")\n",
    "tweets.info()"
   ]
  },
  {
   "cell_type": "markdown",
   "metadata": {},
   "source": [
    "## 4 分词+词性标注 \n",
    "\n",
    "\n",
    "[pkuseg: 一个多领域中文分词工具包](https://github.com/lancopku/pkuseg-python)\n",
    "\n",
    "[jieba: 结巴中文分词](https://github.com/fxsjy/jieba)\n",
    "\n"
   ]
  },
  {
   "cell_type": "code",
   "execution_count": 95,
   "metadata": {},
   "outputs": [
    {
     "data": {
      "text/plain": [
       "[('我', 'r'), ('爱', 'v'), ('北京', 'ns'), ('天安门', 'ns')]"
      ]
     },
     "execution_count": 95,
     "metadata": {},
     "output_type": "execute_result"
    }
   ],
   "source": [
    "# jieba 词性标注（part-of-speech tagging）\n",
    "\n",
    "def jieba_postag(str, use_paddle=True):\n",
    "    \"\"\"\n",
    "    jieba分词:\n",
    "    str         : 待分词的文本\n",
    "    use_paddle  : 是否使用paddle模型\n",
    "    \"\"\"\n",
    "    import jieba.posseg as pseg\n",
    "    word_tag_ls = pseg.lcut(str, use_paddle=use_paddle)\n",
    "    \n",
    "    res = [] # 将词语与词性从pair对象转换为 元组，方便索引\n",
    "    for w_t in word_tag_ls:\n",
    "        w, t = w_t\n",
    "        res.append((w, t))\n",
    "    return res\n",
    "\n",
    "\n",
    "#! 测试\n",
    "res = jieba_postag('我爱北京天安门')\n",
    "res"
   ]
  },
  {
   "cell_type": "code",
   "execution_count": 96,
   "metadata": {},
   "outputs": [
    {
     "data": {
      "text/plain": [
       "[('我', 'r'), ('爱', 'v'), ('北京', 'ns'), ('天安门', 'ns')]"
      ]
     },
     "execution_count": 96,
     "metadata": {},
     "output_type": "execute_result"
    }
   ],
   "source": [
    "# pkuseg 词性标注（part-of-speech tagging）\n",
    "# pkuseg 分词 \n",
    "\n",
    "def pkuseg_postag(str, m_name=\"web\", u_dict=\"default\", postag=True):\n",
    "    \"\"\"\n",
    "    pkuseg分词:\n",
    "    str     :待分词的文本\n",
    "    m_name  : 选择使用的预训练模型\n",
    "    u_dict  : 用户自定义的分词设置用户词典。\n",
    "    postag   : 是否进行词性标准（是的话，需要在自定义的词典中，也要添加相应的词性 tab键隔开在一行\n",
    "    \"\"\"\n",
    "    # m_name= \"news\"\n",
    "    # m_name= \"mixed\"\n",
    "    # postag= True # 是否包含词性\n",
    "    seg = pkuseg.pkuseg(model_name=m_name, user_dict=u_dict, postag=postag)           # 以默认配置加载模型    \n",
    "    res = seg.cut(str)  # 进行分词\n",
    "   \n",
    "    return seg.cut(str)  # 进行分词\n",
    "\n",
    "#! 测试\n",
    "res = pkuseg_postag('我爱北京天安门')\n",
    "res"
   ]
  },
  {
   "cell_type": "code",
   "execution_count": 97,
   "metadata": {},
   "outputs": [
    {
     "name": "stdout",
     "output_type": "stream",
     "text": [
      "路况信息：，许广高速潭衡段射埠、回龙桥、青山桥收费站入口因暴雨实行交通管制，至已解除交通管制，恢复正常通行。\n",
      "jieba:\n",
      "[('路况', 'n'), ('信息', 'n'), ('：', 'x'), ('，', 'x'), ('许广', 'nr'), ('高速', 'd'), ('潭衡段', 'n'), ('射埠', 'n'), ('、', 'x'), ('回', 'v'), ('龙桥', 'ns'), ('、', 'x'), ('青山', 'ns'), ('桥', 'n'), ('收费站', 'n'), ('入口', 'ns'), ('因', 'p'), ('暴雨', 'n'), ('实行', 'v'), ('交通管制', 'n'), ('，', 'x'), ('至已', 'd'), ('解除', 'v'), ('交通管制', 'n'), ('，', 'x'), ('恢复正常', 'b'), ('通行', 'j'), ('。', 'x')]\n",
      "pkuseg:\n",
      "[('路况', 'n'), ('信息', 'n'), ('：', 'w'), ('，', 'w'), ('许广', 'nr'), ('高速', 'd'), ('潭衡', 'v'), ('段', 'n'), ('射埠', 'ns'), ('、', 'w'), ('回龙桥', 'n'), ('、', 'w'), ('青山桥', 'ns'), ('收费站', 'n'), ('入口', 'n'), ('因', 'c'), ('暴雨', 'n'), ('实行', 'v'), ('交通', 'n'), ('管制', 'vn'), ('，', 'w'), ('至', 'p'), ('已', 'd'), ('解除', 'v'), ('交通', 'n'), ('管制', 'vn'), ('，', 'w'), ('恢复', 'v'), ('正常', 'a'), ('通行', 'vn'), ('。', 'w')]\n"
     ]
    }
   ],
   "source": [
    "#! 测试\n",
    "word_str = tweets[\"去噪\"][0]\n",
    "print(word_str)\n",
    "\n",
    "print(\"jieba:\")\n",
    "res = jieba_postag(word_str)\n",
    "print(res)\n",
    "\n",
    "print(\"pkuseg:\")\n",
    "res = pkuseg_postag(word_str)\n",
    "print(res)\n"
   ]
  },
  {
   "cell_type": "code",
   "execution_count": 98,
   "metadata": {},
   "outputs": [
    {
     "name": "stdout",
     "output_type": "stream",
     "text": [
      "<class 'pandas.core.frame.DataFrame'>\n",
      "RangeIndex: 1093 entries, 0 to 1092\n",
      "Data columns (total 4 columns):\n",
      " #   Column      Non-Null Count  Dtype \n",
      "---  ------      --------------  ----- \n",
      " 0   微博正文        1093 non-null   string\n",
      " 1   去噪          1093 non-null   string\n",
      " 2   jieba       1093 non-null   object\n",
      " 3   jieba_stop  1093 non-null   object\n",
      "dtypes: object(2), string(2)\n",
      "memory usage: 34.3+ KB\n"
     ]
    }
   ],
   "source": [
    "tweets.info()"
   ]
  },
  {
   "cell_type": "code",
   "execution_count": 99,
   "metadata": {},
   "outputs": [
    {
     "name": "stdout",
     "output_type": "stream",
     "text": [
      "<class 'pandas.core.frame.DataFrame'>\n",
      "RangeIndex: 1093 entries, 0 to 1092\n",
      "Data columns (total 5 columns):\n",
      " #   Column        Non-Null Count  Dtype \n",
      "---  ------        --------------  ----- \n",
      " 0   微博正文          1093 non-null   string\n",
      " 1   去噪            1093 non-null   string\n",
      " 2   jieba         1093 non-null   object\n",
      " 3   jieba_stop    1093 non-null   object\n",
      " 4   jieba_postag  1093 non-null   object\n",
      "dtypes: object(3), string(2)\n",
      "memory usage: 42.8+ KB\n"
     ]
    }
   ],
   "source": [
    "tweets[\"jieba_postag\"] = tweets[\"去噪\"].apply(jieba_postag)\n",
    "# tweets[\"pkuseg_postag\"] = tweets[\"去噪\"].apply(pkuseg_postag)\n",
    "tweets.info()"
   ]
  },
  {
   "cell_type": "code",
   "execution_count": 100,
   "metadata": {},
   "outputs": [],
   "source": [
    "stopword_file = \"../05stopwords/hit_stopwords.txt\"\n",
    "postag = True\n",
    "\n",
    "stop_postag = []\n",
    "\n",
    "stop_postag= ['c', 'd', 'df', 'f', 'm', 'mq', 'ns', 'nt', 'nz', 'o','p','q','r','s',',t','nrfg'] # 指定词性删除\n",
    "\n",
    "user_file = \"../05stopwords/user_stopwords.txt\"\n",
    "\n",
    "tweets[\"jieba_postag_stop\"] = tweets[\"jieba_postag\"].apply(clear_stopword, args=[stopword_file, postag, stop_postag, user_file])\n",
    "# tweets[\"pkuseg_postag_stop\"] = tweets[\"pkuseg_postag\"].apply(clear_stopword, args=[stopword_file, postag, stop_postag, user_file])"
   ]
  },
  {
   "cell_type": "code",
   "execution_count": 101,
   "metadata": {},
   "outputs": [
    {
     "name": "stdout",
     "output_type": "stream",
     "text": [
      "<class 'pandas.core.frame.DataFrame'>\n",
      "RangeIndex: 1093 entries, 0 to 1092\n",
      "Data columns (total 6 columns):\n",
      " #   Column             Non-Null Count  Dtype \n",
      "---  ------             --------------  ----- \n",
      " 0   微博正文               1093 non-null   string\n",
      " 1   去噪                 1093 non-null   string\n",
      " 2   jieba              1093 non-null   object\n",
      " 3   jieba_stop         1093 non-null   object\n",
      " 4   jieba_postag       1093 non-null   object\n",
      " 5   jieba_postag_stop  1093 non-null   object\n",
      "dtypes: object(4), string(2)\n",
      "memory usage: 51.4+ KB\n"
     ]
    }
   ],
   "source": [
    "# tweets.to_excel(\"../02Data/jieba_pkuseg.xlsx\")\n",
    "tweets.info()"
   ]
  },
  {
   "cell_type": "code",
   "execution_count": 102,
   "metadata": {},
   "outputs": [
    {
     "data": {
      "text/html": [
       "<div>\n",
       "<style scoped>\n",
       "    .dataframe tbody tr th:only-of-type {\n",
       "        vertical-align: middle;\n",
       "    }\n",
       "\n",
       "    .dataframe tbody tr th {\n",
       "        vertical-align: top;\n",
       "    }\n",
       "\n",
       "    .dataframe thead th {\n",
       "        text-align: right;\n",
       "    }\n",
       "</style>\n",
       "<table border=\"1\" class=\"dataframe\">\n",
       "  <thead>\n",
       "    <tr style=\"text-align: right;\">\n",
       "      <th></th>\n",
       "      <th>微博正文</th>\n",
       "      <th>去噪</th>\n",
       "      <th>jieba</th>\n",
       "      <th>jieba_stop</th>\n",
       "      <th>jieba_postag</th>\n",
       "      <th>jieba_postag_stop</th>\n",
       "      <th>jieba_stop_len</th>\n",
       "      <th>jieba_stop_postag_len</th>\n",
       "    </tr>\n",
       "  </thead>\n",
       "  <tbody>\n",
       "    <tr>\n",
       "      <th>0</th>\n",
       "      <td>路况信息：2021年5月29日17时05分，许广高速潭衡段射埠、回龙桥、青山桥收费站入口因暴...</td>\n",
       "      <td>路况信息：，许广高速潭衡段射埠、回龙桥、青山桥收费站入口因暴雨实行交通管制，至已解除交通管制...</td>\n",
       "      <td>[路况, 信息, ：, ，, 许广, 高速, 潭衡, 段, 射埠, 、, 回, 龙桥, 、,...</td>\n",
       "      <td>[路况, 信息, 许广, 高速, 潭衡, 段, 射埠, 回, 龙桥, 青山, 桥, 收费站,...</td>\n",
       "      <td>[(路况, n), (信息, n), (：, x), (，, x), (许广, nr), (...</td>\n",
       "      <td>[(路况, n), (信息, n), (许广, nr), (潭衡段, n), (射埠, n)...</td>\n",
       "      <td>21</td>\n",
       "      <td>15</td>\n",
       "    </tr>\n",
       "    <tr>\n",
       "      <th>1</th>\n",
       "      <td>路况信息：2021年5月29日10时25分，许广高速长湘段铜官、望城、乌山收费站入口因暴雨实...</td>\n",
       "      <td>路况信息：，许广高速长湘段铜官、望城、乌山收费站入口因暴雨实行交通管制，至已解除交通管制，恢...</td>\n",
       "      <td>[路况, 信息, ：, ，, 许广, 高速, 长湘段, 铜官, 、, 望城, 、, 乌山, ...</td>\n",
       "      <td>[路况, 信息, 许广, 高速, 长湘段, 铜官, 望城, 乌山, 收费站, 入口, 暴雨,...</td>\n",
       "      <td>[(路况, n), (信息, n), (：, x), (，, x), (许广, nr), (...</td>\n",
       "      <td>[(路况, n), (信息, n), (许广, nr), (长, a), (湘, j), (...</td>\n",
       "      <td>18</td>\n",
       "      <td>15</td>\n",
       "    </tr>\n",
       "    <tr>\n",
       "      <th>2</th>\n",
       "      <td>路况信息：2021年5月29日10时24分，许广高速岳望段茶亭收费站入口因暴雨实行交通管制，...</td>\n",
       "      <td>路况信息：，许广高速岳望段茶亭收费站入口因暴雨实行交通管制，至已解除交通管制，恢复正常通行。</td>\n",
       "      <td>[路况, 信息, ：, ，, 许广, 高速, 岳望, 段, 茶亭, 收费站, 入口, 因, ...</td>\n",
       "      <td>[路况, 信息, 许广, 高速, 岳望, 段, 茶亭, 收费站, 入口, 暴雨, 实行, 交...</td>\n",
       "      <td>[(路况, n), (信息, n), (：, x), (，, x), (许广, nr), (...</td>\n",
       "      <td>[(路况, n), (信息, n), (许广, nr), (岳望, nr), (茶亭, n)...</td>\n",
       "      <td>17</td>\n",
       "      <td>13</td>\n",
       "    </tr>\n",
       "    <tr>\n",
       "      <th>3</th>\n",
       "      <td>路况信息：2021年5月29日10时50分，许广高速潭衡段湘潭西、杨嘉桥、射埠、回龙桥收费站...</td>\n",
       "      <td>路况信息：，许广高速潭衡段湘潭西、杨嘉桥、射埠、回龙桥收费站入口因暴雨实行交通管制，至均已解...</td>\n",
       "      <td>[路况, 信息, ：, ，, 许广, 高速, 潭衡, 段, 湘潭, 西, 、, 杨嘉桥, 、...</td>\n",
       "      <td>[路况, 信息, 许广, 高速, 潭衡, 段, 湘潭, 西, 杨嘉桥, 射埠, 回, 龙桥,...</td>\n",
       "      <td>[(路况, n), (信息, n), (：, x), (，, x), (许广, nr), (...</td>\n",
       "      <td>[(路况, n), (信息, n), (许广, nr), (潭衡段, n), (杨嘉桥, n...</td>\n",
       "      <td>23</td>\n",
       "      <td>15</td>\n",
       "    </tr>\n",
       "    <tr>\n",
       "      <th>4</th>\n",
       "      <td>路况信息：2021年5月29日10时50分，许广高速长湘段南谷收费站入口因暴雨实行交通管制，...</td>\n",
       "      <td>路况信息：，许广高速长湘段南谷收费站入口因暴雨实行交通管制，至已解除交通管制，恢复正常通行。</td>\n",
       "      <td>[路况, 信息, ：, ，, 许广, 高速, 长湘段, 南谷, 收费站, 入口, 因, 暴雨...</td>\n",
       "      <td>[路况, 信息, 许广, 高速, 长湘段, 南谷, 收费站, 入口, 暴雨, 实行, 交通管...</td>\n",
       "      <td>[(路况, n), (信息, n), (：, x), (，, x), (许广, nr), (...</td>\n",
       "      <td>[(路况, n), (信息, n), (许广, nr), (段南谷, nr), (收费站, ...</td>\n",
       "      <td>16</td>\n",
       "      <td>12</td>\n",
       "    </tr>\n",
       "  </tbody>\n",
       "</table>\n",
       "</div>"
      ],
      "text/plain": [
       "                                                微博正文  \\\n",
       "0  路况信息：2021年5月29日17时05分，许广高速潭衡段射埠、回龙桥、青山桥收费站入口因暴...   \n",
       "1  路况信息：2021年5月29日10时25分，许广高速长湘段铜官、望城、乌山收费站入口因暴雨实...   \n",
       "2  路况信息：2021年5月29日10时24分，许广高速岳望段茶亭收费站入口因暴雨实行交通管制，...   \n",
       "3  路况信息：2021年5月29日10时50分，许广高速潭衡段湘潭西、杨嘉桥、射埠、回龙桥收费站...   \n",
       "4  路况信息：2021年5月29日10时50分，许广高速长湘段南谷收费站入口因暴雨实行交通管制，...   \n",
       "\n",
       "                                                  去噪  \\\n",
       "0  路况信息：，许广高速潭衡段射埠、回龙桥、青山桥收费站入口因暴雨实行交通管制，至已解除交通管制...   \n",
       "1  路况信息：，许广高速长湘段铜官、望城、乌山收费站入口因暴雨实行交通管制，至已解除交通管制，恢...   \n",
       "2     路况信息：，许广高速岳望段茶亭收费站入口因暴雨实行交通管制，至已解除交通管制，恢复正常通行。   \n",
       "3  路况信息：，许广高速潭衡段湘潭西、杨嘉桥、射埠、回龙桥收费站入口因暴雨实行交通管制，至均已解...   \n",
       "4     路况信息：，许广高速长湘段南谷收费站入口因暴雨实行交通管制，至已解除交通管制，恢复正常通行。   \n",
       "\n",
       "                                               jieba  \\\n",
       "0  [路况, 信息, ：, ，, 许广, 高速, 潭衡, 段, 射埠, 、, 回, 龙桥, 、,...   \n",
       "1  [路况, 信息, ：, ，, 许广, 高速, 长湘段, 铜官, 、, 望城, 、, 乌山, ...   \n",
       "2  [路况, 信息, ：, ，, 许广, 高速, 岳望, 段, 茶亭, 收费站, 入口, 因, ...   \n",
       "3  [路况, 信息, ：, ，, 许广, 高速, 潭衡, 段, 湘潭, 西, 、, 杨嘉桥, 、...   \n",
       "4  [路况, 信息, ：, ，, 许广, 高速, 长湘段, 南谷, 收费站, 入口, 因, 暴雨...   \n",
       "\n",
       "                                          jieba_stop  \\\n",
       "0  [路况, 信息, 许广, 高速, 潭衡, 段, 射埠, 回, 龙桥, 青山, 桥, 收费站,...   \n",
       "1  [路况, 信息, 许广, 高速, 长湘段, 铜官, 望城, 乌山, 收费站, 入口, 暴雨,...   \n",
       "2  [路况, 信息, 许广, 高速, 岳望, 段, 茶亭, 收费站, 入口, 暴雨, 实行, 交...   \n",
       "3  [路况, 信息, 许广, 高速, 潭衡, 段, 湘潭, 西, 杨嘉桥, 射埠, 回, 龙桥,...   \n",
       "4  [路况, 信息, 许广, 高速, 长湘段, 南谷, 收费站, 入口, 暴雨, 实行, 交通管...   \n",
       "\n",
       "                                        jieba_postag  \\\n",
       "0  [(路况, n), (信息, n), (：, x), (，, x), (许广, nr), (...   \n",
       "1  [(路况, n), (信息, n), (：, x), (，, x), (许广, nr), (...   \n",
       "2  [(路况, n), (信息, n), (：, x), (，, x), (许广, nr), (...   \n",
       "3  [(路况, n), (信息, n), (：, x), (，, x), (许广, nr), (...   \n",
       "4  [(路况, n), (信息, n), (：, x), (，, x), (许广, nr), (...   \n",
       "\n",
       "                                   jieba_postag_stop  jieba_stop_len  \\\n",
       "0  [(路况, n), (信息, n), (许广, nr), (潭衡段, n), (射埠, n)...              21   \n",
       "1  [(路况, n), (信息, n), (许广, nr), (长, a), (湘, j), (...              18   \n",
       "2  [(路况, n), (信息, n), (许广, nr), (岳望, nr), (茶亭, n)...              17   \n",
       "3  [(路况, n), (信息, n), (许广, nr), (潭衡段, n), (杨嘉桥, n...              23   \n",
       "4  [(路况, n), (信息, n), (许广, nr), (段南谷, nr), (收费站, ...              16   \n",
       "\n",
       "   jieba_stop_postag_len  \n",
       "0                     15  \n",
       "1                     15  \n",
       "2                     13  \n",
       "3                     15  \n",
       "4                     12  "
      ]
     },
     "execution_count": 102,
     "metadata": {},
     "output_type": "execute_result"
    }
   ],
   "source": [
    "\n",
    "tweets['jieba_stop_len'] = tweets['jieba_stop'].apply(len)\n",
    "tweets['jieba_stop_postag_len'] = tweets['jieba_postag_stop'].apply(len)\n",
    "\n",
    "tweets.head()"
   ]
  },
  {
   "cell_type": "code",
   "execution_count": 103,
   "metadata": {},
   "outputs": [
    {
     "data": {
      "text/plain": [
       "jieba_stop_postag_len    23.152790\n",
       "jieba_stop_len           29.642269\n",
       "dtype: float64"
      ]
     },
     "execution_count": 103,
     "metadata": {},
     "output_type": "execute_result"
    }
   ],
   "source": [
    "# 长度均值\n",
    "\n",
    "tweets[['jieba_stop_postag_len', 'jieba_stop_len']].mean()\n"
   ]
  },
  {
   "cell_type": "markdown",
   "metadata": {},
   "source": [
    "## 5 保存数据"
   ]
  },
  {
   "cell_type": "code",
   "execution_count": 104,
   "metadata": {},
   "outputs": [],
   "source": [
    "dataSource = config.dataSource\n",
    "# 词汇信息\n",
    "word_ls_column = tweets[\"jieba_postag_stop\"] # 从excel再读取回来，就不是[(),()] 和数据了\n",
    "word  =[]\n",
    "tag = []\n",
    "for word_tag_ls in word_ls_column: # 遍历一整列的每一行\n",
    "    word_ls = np.array(word_tag_ls)[:, 0].tolist() # 词\n",
    "    tag_ls = np.array(word_tag_ls)[:, 1].tolist() # 词性\n",
    "    word.append(word_ls)\n",
    "    tag.append(tag_ls)\n",
    "\n",
    "len(word)\n",
    "\n",
    "# # 换一列\n",
    "word = tweets[\"jieba_stop\"].tolist()\n",
    "\n",
    "with open(dataSource, 'w',encoding='utf-8') as outfile:\n",
    "    for w in word:\n",
    "        temp = ','.join(w)\n",
    "        outfile.write(temp)\n",
    "        outfile.write('\\n')"
   ]
  },
  {
   "cell_type": "code",
   "execution_count": 146,
   "metadata": {},
   "outputs": [],
   "source": [
    "# 向量化\n",
    "import pandas as pd\n",
    "import numpy as np\n",
    "from sklearn.feature_extraction.text import CountVectorizer\n",
    "from sklearn.feature_extraction.text import TfidfVectorizer\n",
    "\n",
    "def wordVectorizer(word_ls_column, v_type, postag=True):\n",
    "    ls_str=[]\n",
    "    if postag:\n",
    "        for word_tag_ls in word_ls_column:\n",
    "            if word_tag_ls == []:\n",
    "                word_tag_ls = [('','')]\n",
    "            word_ls = np.array(word_tag_ls)[:, 0].tolist()\n",
    "            tag_ls = np.array(word_tag_ls)[:, 1].tolist()\n",
    "            \n",
    "            strs = ' '.join(word_ls)\n",
    "            ls_str.append(strs)\n",
    "    else:\n",
    "        for word_ls in word_ls_column:\n",
    "            strs = ' '.join(word_ls) \n",
    "            ls_str.append(strs)\n",
    "    \n",
    "    if v_type.upper() == \"TFIDF\":\n",
    "    # TF-IDF(term frequency—inverse document frequency)\n",
    "        transfer = TfidfVectorizer() #实例化一个转换器类\n",
    "    else:\n",
    "        transfer = CountVectorizer()\n",
    "    data_new = transfer.fit_transform(ls_str) #调用fit_transform()\n",
    "    #构建成一个二维表：\n",
    "    df=pd.DataFrame(data_new.toarray(), columns=transfer.get_feature_names_out())\n",
    "    \n",
    "    withWeight = transfer.vocabulary_\n",
    "    return df, withWeight"
   ]
  },
  {
   "cell_type": "code",
   "execution_count": 151,
   "metadata": {},
   "outputs": [],
   "source": [
    "\n",
    "# 向量化\n",
    "\n",
    "word_ls_column = tweets['jieba_postag_stop']\n",
    "postag = True\n",
    "\n",
    "# word_ls_column = tweets['jieba_stop']\n",
    "# postag = False\n",
    "\n",
    "v_type = 'TFIDF'\n",
    "word_v, withWeight = wordVectorizer(word_ls_column, v_type, postag)\n",
    "res_file = \"../02Data/5006_final_微博数据集-TFIDF.csv\"\n",
    "word_v.to_csv(res_file, index=None)"
   ]
  },
  {
   "cell_type": "code",
   "execution_count": 152,
   "metadata": {},
   "outputs": [
    {
     "data": {
      "text/plain": [
       "(1093, 3521)"
      ]
     },
     "execution_count": 152,
     "metadata": {},
     "output_type": "execute_result"
    }
   ],
   "source": [
    "word_v.shape"
   ]
  },
  {
   "cell_type": "markdown",
   "metadata": {},
   "source": [
    "# 预训练词向量"
   ]
  },
  {
   "cell_type": "code",
   "execution_count": 127,
   "metadata": {},
   "outputs": [],
   "source": [
    "#中文语料\n",
    "#设置输出日志\n",
    "#logging.basicConfig(format='%(asctime)s : %(levelname)s : %(message)s', level=logging.INFO)\n",
    "\n",
    "# file = open(\"../data/goods_zh.txt\", encoding='utf-8') \n",
    "# sentences=[]\n",
    "# for line in file:\n",
    "#     temp=line.replace('\\n','').split(',,')\n",
    "#     sentences.append(jieba.lcut(temp[0]))\n",
    "# file.close()\n",
    "\n",
    "sentences = word"
   ]
  },
  {
   "cell_type": "code",
   "execution_count": 128,
   "metadata": {},
   "outputs": [
    {
     "name": "stdout",
     "output_type": "stream",
     "text": [
      "['路况', '信息', '许广', '高速', '潭衡', '段', '射埠', '回', '龙桥', '青山', '桥', '收费站', '入口', '暴雨', '实行', '交通管制', '已', '解除', '交通管制', '恢复正常', '通行']\n",
      "1093\n"
     ]
    }
   ],
   "source": [
    "print(sentences[0])\n",
    "print(len(sentences))"
   ]
  },
  {
   "cell_type": "code",
   "execution_count": 129,
   "metadata": {},
   "outputs": [],
   "source": [
    "word2VecModel_file = '../02Data/word2VecModel'\n",
    "model = word2vec.Word2Vec(sentences,\n",
    "                    #  size=config.embeddingSize,\n",
    "                     vector_size=config.embeddingSize,\n",
    "                     min_count=config.miniFreq,\n",
    "                     window=10,\n",
    "                     workers=multiprocessing.cpu_count(),\n",
    "                     sg=1,\n",
    "                    #  iter=20,\n",
    "                     epochs=20\n",
    "                     )\n",
    "model.save(word2VecModel_file)\n"
   ]
  },
  {
   "cell_type": "code",
   "execution_count": 130,
   "metadata": {},
   "outputs": [],
   "source": [
    "# help(word2vec.Word2Vec)"
   ]
  },
  {
   "cell_type": "code",
   "execution_count": 131,
   "metadata": {},
   "outputs": [
    {
     "data": {
      "text/plain": [
       "5657"
      ]
     },
     "execution_count": 131,
     "metadata": {},
     "output_type": "execute_result"
    }
   ],
   "source": [
    "model = gensim.models.Word2Vec.load(word2VecModel_file)\n",
    "\n",
    "keys = model.wv.index_to_key\n",
    "len(keys)\n",
    "# keys\n",
    "# model.wv.vocab.keys()\n",
    "# key_to_index()"
   ]
  },
  {
   "cell_type": "code",
   "execution_count": 132,
   "metadata": {},
   "outputs": [],
   "source": [
    "# help(model.wv.key_to_index)"
   ]
  },
  {
   "cell_type": "code",
   "execution_count": 133,
   "metadata": {},
   "outputs": [
    {
     "data": {
      "text/plain": [
       "array([-0.419994  , -0.5792639 ,  0.45151553,  1.0119973 , -0.11630163,\n",
       "       -0.20092054,  0.77790517,  1.0163444 , -0.7766697 , -0.307387  ,\n",
       "        0.17888422,  0.37273785, -0.46540403,  0.4890284 ,  0.3979262 ,\n",
       "       -0.11717456, -0.10698257, -0.734322  ,  0.01641443,  0.73694265,\n",
       "        0.30064058,  0.42214268,  0.39464733,  0.63104206, -0.18064132,\n",
       "       -0.5421013 ,  0.8978401 , -0.28479648, -0.28979754, -0.58586144],\n",
       "      dtype=float32)"
      ]
     },
     "execution_count": 133,
     "metadata": {},
     "output_type": "execute_result"
    }
   ],
   "source": [
    "model.wv['暴雨']"
   ]
  },
  {
   "cell_type": "code",
   "execution_count": 134,
   "metadata": {},
   "outputs": [],
   "source": [
    "# help(model)"
   ]
  },
  {
   "cell_type": "markdown",
   "metadata": {},
   "source": [
    "# 数据预处理 - 输入LSTM"
   ]
  },
  {
   "cell_type": "code",
   "execution_count": 135,
   "metadata": {},
   "outputs": [
    {
     "name": "stdout",
     "output_type": "stream",
     "text": [
      "data: 1093 1093\n"
     ]
    }
   ],
   "source": [
    "# 数据预处理的类，生成训练集和测试集\n",
    "class Dataset(object):\n",
    "    def __init__(self, config):\n",
    "        self.dataSource = config.dataSource  \n",
    "        self.labelSource = config.labelSource\n",
    "\n",
    "        # 每条输入的序列处理为定长\n",
    "        self.sequenceLength = config.sequenceLength  \n",
    "        \n",
    "        self.embeddingSize = config.embeddingSize\n",
    "        self.batchSize = config.batchSize\n",
    "        self.rate = config.rate\n",
    "        self.miniFreq=config.miniFreq\n",
    "        \n",
    "        \n",
    "        self.trainReviews = []\n",
    "        self.trainLabels = []\n",
    "        \n",
    "        self.evalReviews = []\n",
    "        self.evalLabels = []\n",
    "        \n",
    "        self.wordEmbedding =None\n",
    "        self.n_symbols=0\n",
    "        \n",
    "        self.wordToIndex = {}\n",
    "        self.indexToWord = {}\n",
    "        \n",
    "        \n",
    "        \n",
    "    def readData(self, dataFilePath, labelFilePath):\n",
    "        file = open(dataFilePath, encoding='utf-8') \n",
    "        texts=[]\n",
    "        for line in file:\n",
    "            temp=line.replace('\\n','').split(',')\n",
    "            texts.append(temp)\n",
    "        file.close()\n",
    "        \n",
    "        df = pd.read_excel(labelFilePath, index_col=0)\n",
    "        labels = df.iloc[:, -1].tolist()\n",
    "\n",
    "        print('data:',len(texts),len(labels))\n",
    "        \n",
    "        return texts, labels\n",
    "\n",
    "    \n",
    "    def getWordEmbedding(self, words):\n",
    "        \"\"\"\n",
    "        按照我们的数据集中的单词取出预训练好的word2vec中的词向量\n",
    "        \"\"\"\n",
    "        \n",
    "        #中文\n",
    "        word2VecModel_file = '../02Data/word2VecModel'\n",
    "        model = gensim.models.Word2Vec.load(word2VecModel_file)\n",
    "        \n",
    "        vocab = []\n",
    "        wordEmbedding = []\n",
    "        \n",
    "        # 添加 \"pad\" 和 \"UNK\", \n",
    "        vocab.append(\"pad\")\n",
    "        wordEmbedding.append(np.zeros(self.embeddingSize))\n",
    "        \n",
    "        vocab.append(\"UNK\")\n",
    "        wordEmbedding.append(np.random.randn(self.embeddingSize))\n",
    "        \n",
    "        for word in words:\n",
    "            try:        \n",
    "                #中文\n",
    "                vector =model.wv[word]\n",
    "                \n",
    "                vocab.append(word)\n",
    "                wordEmbedding.append(vector)\n",
    "            except:\n",
    "                \n",
    "                print(word + \" : 不存在于词向量中\")\n",
    "                \n",
    "        return vocab, np.array(wordEmbedding)\n",
    "    \n",
    "    \n",
    "    \n",
    "    def genVocabulary(self, reviews):\n",
    "        \"\"\"\n",
    "        生成词向量和词汇-索引映射字典，可以用全数据集\n",
    "        \"\"\"\n",
    "        \n",
    "        allWords = [word for review in reviews for word in review]\n",
    "        \n",
    "        # # 去掉停用词\n",
    "        # subWords = [word for word in allWords if word not in self.stopWordDict]\n",
    "        \n",
    "        wordCount = Counter(allWords)  # 统计词频，排序\n",
    "        sortWordCount = sorted(wordCount.items(), key=lambda x: x[1], reverse=True)\n",
    "        \n",
    "        # 去除低频词\n",
    "        words = [item[0] for item in sortWordCount if item[1] >= self.miniFreq ]\n",
    "        \n",
    "        \n",
    "        #获取词列表和顺序对应的预训练权重矩阵\n",
    "        vocab, wordEmbedding = self.getWordEmbedding(words)\n",
    "        \n",
    "        self.wordEmbedding = wordEmbedding\n",
    "        \n",
    "        self.wordToIndex = dict(zip(vocab, list(range(len(vocab)))))\n",
    "        self.indexToWord = dict(zip(list(range(len(vocab))), vocab))\n",
    "        self.n_symbols = len(self.wordToIndex) + 1\n",
    "        \n",
    "        # 将词汇-索引映射表保存为json数据，之后做inference时直接加载来处理数据\n",
    "        with open(\"../02Data/wordJson/wordToIndex.json\", \"w\", encoding=\"utf-8\") as f:\n",
    "            json.dump(self.wordToIndex, f)\n",
    "        \n",
    "        with open(\"../02Data/wordJson/indexToWord.json\", \"w\", encoding=\"utf-8\") as f:\n",
    "            json.dump(self.indexToWord, f)\n",
    "            \n",
    "            \n",
    "            \n",
    "            \n",
    "    \n",
    "    def reviewProcess(self, review, sequenceLength, wordToIndex):\n",
    "        \"\"\"\n",
    "        将数据集中的每条评论里面的词，根据词表，映射为index表示\n",
    "        每条评论 用index组成的定长数组来表示\n",
    "        review ： 一条文本\n",
    "        \"\"\"\n",
    "        \n",
    "        reviewVec = np.zeros((sequenceLength))\n",
    "        sequenceLen = sequenceLength\n",
    "        \n",
    "        # 判断当前的序列是否小于定义的固定序列长度\n",
    "        if len(review) < sequenceLength:\n",
    "            sequenceLen = len(review)\n",
    "            \n",
    "        for i in range(sequenceLen):\n",
    "            if review[i] in wordToIndex:\n",
    "                reviewVec[i] = wordToIndex[review[i]]\n",
    "            else:\n",
    "                reviewVec[i] = wordToIndex[\"UNK\"]\n",
    "\n",
    "        return reviewVec\n",
    "\n",
    "    \n",
    "    \n",
    "    \n",
    "    def genTrainEvalData(self, x, y, rate):\n",
    "        \"\"\"\n",
    "        生成训练集和验证集\n",
    "        x 所有样本\n",
    "        \"\"\"\n",
    "        \n",
    "        reviews = [] # 样本\n",
    "        labels = [] # 标签\n",
    "        \n",
    "        # 遍历所有的文本，将文本中的词转换成index表示\n",
    "        for i in range(len(x)):\n",
    "            \n",
    "            reviewVec = self.reviewProcess(x[i], self.sequenceLength, self.wordToIndex)\n",
    "            reviews.append(reviewVec)\n",
    "            \n",
    "            labels.append([y[i]])\n",
    "            \n",
    "        trainIndex = int(len(x) * rate)\n",
    "        \n",
    "       \n",
    "        #trainReviews = sequence.pad_sequences(reviews[:trainIndex], maxlen=self.sequenceLength)\n",
    "        trainReviews = np.asarray(reviews[:trainIndex], dtype=\"int64\")\n",
    "        trainLabels = np.array(labels[:trainIndex], dtype=\"float32\")\n",
    "        trainLabels = to_categorical(trainLabels,num_classes=2) \n",
    "        \n",
    "        #evalReviews = sequence.pad_sequences(reviews[trainIndex:], maxlen=self.sequenceLength)\n",
    "        evalReviews = np.asarray(reviews[trainIndex:], dtype=\"int64\")\n",
    "        evalLabels = np.array(labels[trainIndex:], dtype=\"float32\")\n",
    "        evalLabels = to_categorical(evalLabels,num_classes=2)  #　转换为分类变量\n",
    "\n",
    "        return trainReviews, trainLabels, evalReviews, evalLabels\n",
    "        \n",
    "        \n",
    "        \n",
    " \n",
    "            \n",
    "    def dataGen(self):\n",
    "        \"\"\"\n",
    "        初始化训练集和验证集\n",
    "        \"\"\"\n",
    "        \n",
    "        \n",
    "        #读取数据集\n",
    "        reviews, labels = self.readData(self.dataSource, self.labelSource)\n",
    "        \n",
    "        \n",
    "        #生成 词汇-索引 映射表和预训练权重矩阵，并保存\n",
    "        self.genVocabulary(reviews)\n",
    "        \n",
    "        \n",
    "        #初始化训练集和测试集\n",
    "        trainReviews, trainLabels, evalReviews, evalLabels = self.genTrainEvalData(reviews, labels, self.rate)\n",
    "        self.trainReviews = trainReviews\n",
    "        self.trainLabels = trainLabels\n",
    "        \n",
    "        self.evalReviews = evalReviews\n",
    "        self.evalLabels = evalLabels\n",
    "        \n",
    "        \n",
    "data = Dataset(config)\n",
    "data.dataGen()"
   ]
  },
  {
   "cell_type": "code",
   "execution_count": 136,
   "metadata": {},
   "outputs": [
    {
     "name": "stdout",
     "output_type": "stream",
     "text": [
      "train data shape: (874, 30)\n",
      "train label shape: (874, 2)\n",
      "eval data shape: (219, 30)\n",
      "eval label shape: (219, 2)\n"
     ]
    }
   ],
   "source": [
    "print(\"train data shape: {}\".format(data.trainReviews.shape))\n",
    "print(\"train label shape: {}\".format(data.trainLabels.shape))\n",
    "print(\"eval data shape: {}\".format(data.evalReviews.shape))\n",
    "print(\"eval label shape: {}\".format(data.evalLabels.shape))"
   ]
  },
  {
   "cell_type": "code",
   "execution_count": 137,
   "metadata": {},
   "outputs": [
    {
     "data": {
      "text/plain": [
       "array([[0., 1.],\n",
       "       [0., 1.],\n",
       "       [0., 1.],\n",
       "       ...,\n",
       "       [0., 1.],\n",
       "       [0., 1.],\n",
       "       [1., 0.]], dtype=float32)"
      ]
     },
     "execution_count": 137,
     "metadata": {},
     "output_type": "execute_result"
    }
   ],
   "source": [
    "y_train"
   ]
  },
  {
   "cell_type": "markdown",
   "metadata": {},
   "source": [
    "# 定义网络结构"
   ]
  },
  {
   "cell_type": "code",
   "execution_count": 138,
   "metadata": {},
   "outputs": [
    {
     "name": "stdout",
     "output_type": "stream",
     "text": [
      "(5659, 30)\n",
      "5659\n",
      "Model: \"sequential_4\"\n",
      "_________________________________________________________________\n",
      "Layer (type)                 Output Shape              Param #   \n",
      "=================================================================\n",
      "embedding_4 (Embedding)      (None, 30, 30)            169770    \n",
      "_________________________________________________________________\n",
      "lstm_4 (LSTM)                (None, 50)                16200     \n",
      "_________________________________________________________________\n",
      "dropout_4 (Dropout)          (None, 50)                0         \n",
      "_________________________________________________________________\n",
      "dense_4 (Dense)              (None, 2)                 102       \n",
      "=================================================================\n",
      "Total params: 186,072\n",
      "Trainable params: 186,072\n",
      "Non-trainable params: 0\n",
      "_________________________________________________________________\n"
     ]
    }
   ],
   "source": [
    "\n",
    "def lstm(n_symbols,embedding_weights,config):\n",
    "    \n",
    "    model =Sequential([\n",
    "        Embedding(input_dim=n_symbols, output_dim=config.embeddingSize,\n",
    "                        weights=[embedding_weights],\n",
    "                        input_length=config.sequenceLength),\n",
    "        \n",
    "        #LSTM层\n",
    "        #LSTM(50,activation='tanh', dropout=0.5, recurrent_dropout=0.5,kernel_regularizer=regularizers.l2(config.model.l2RegLambda)),\n",
    "        LSTM(50,activation='tanh', dropout=0.5, recurrent_dropout=0.5),\n",
    "\n",
    "        Dropout(config.dropoutKeepProb),\n",
    "        Dense(2, activation='softmax')\n",
    "                    ])\n",
    "    \n",
    "    model.compile(loss='categorical_crossentropy',optimizer='adam',metrics=['accuracy'])\n",
    "\n",
    "    return model\n",
    "    \n",
    "    \n",
    "wordEmbedding = data.wordEmbedding\n",
    "# n_symbols=data.n_symbols # 前面搞不懂为啥加了1 但是对不上\n",
    "n_symbols=data.n_symbols -1\n",
    "print(np.shape(wordEmbedding))\n",
    "print(n_symbols)\n",
    "model = lstm(n_symbols, wordEmbedding, config)\n",
    "model.summary()"
   ]
  },
  {
   "cell_type": "code",
   "execution_count": 139,
   "metadata": {},
   "outputs": [
    {
     "data": {
      "text/plain": [
       "(5659, 30)"
      ]
     },
     "execution_count": 139,
     "metadata": {},
     "output_type": "execute_result"
    }
   ],
   "source": [
    "np.shape(wordEmbedding)\n"
   ]
  },
  {
   "cell_type": "markdown",
   "metadata": {},
   "source": [
    "# 训练模型"
   ]
  },
  {
   "cell_type": "code",
   "execution_count": 140,
   "metadata": {},
   "outputs": [
    {
     "name": "stdout",
     "output_type": "stream",
     "text": [
      "Train on 699 samples, validate on 175 samples\n",
      "Epoch 1/30\n",
      "699/699 [==============================] - 2s 2ms/sample - loss: 0.6080 - accuracy: 0.6423 - val_loss: 0.4069 - val_accuracy: 0.8571\n",
      "Epoch 2/30\n",
      "699/699 [==============================] - 1s 839us/sample - loss: 0.4341 - accuracy: 0.8169 - val_loss: 0.2772 - val_accuracy: 0.8971\n",
      "Epoch 3/30\n",
      "699/699 [==============================] - 1s 853us/sample - loss: 0.3927 - accuracy: 0.8441 - val_loss: 0.2629 - val_accuracy: 0.9143\n",
      "Epoch 4/30\n",
      "699/699 [==============================] - 1s 827us/sample - loss: 0.4071 - accuracy: 0.8441 - val_loss: 0.2846 - val_accuracy: 0.9029\n",
      "Epoch 5/30\n",
      "699/699 [==============================] - 1s 814us/sample - loss: 0.3801 - accuracy: 0.8412 - val_loss: 0.2684 - val_accuracy: 0.9143\n",
      "Epoch 6/30\n",
      "699/699 [==============================] - 1s 829us/sample - loss: 0.3161 - accuracy: 0.8798 - val_loss: 0.2554 - val_accuracy: 0.9029\n",
      "Epoch 7/30\n",
      "699/699 [==============================] - 1s 846us/sample - loss: 0.3299 - accuracy: 0.8727 - val_loss: 0.2970 - val_accuracy: 0.9086\n",
      "Epoch 8/30\n",
      "699/699 [==============================] - 1s 830us/sample - loss: 0.3197 - accuracy: 0.8784 - val_loss: 0.2704 - val_accuracy: 0.9029\n",
      "Epoch 9/30\n",
      "699/699 [==============================] - 1s 842us/sample - loss: 0.3299 - accuracy: 0.8798 - val_loss: 0.2687 - val_accuracy: 0.9143\n",
      "Epoch 10/30\n",
      "699/699 [==============================] - 1s 818us/sample - loss: 0.3090 - accuracy: 0.8984 - val_loss: 0.2773 - val_accuracy: 0.8914\n",
      "Epoch 11/30\n",
      "699/699 [==============================] - 1s 816us/sample - loss: 0.2771 - accuracy: 0.9070 - val_loss: 0.2851 - val_accuracy: 0.8857\n",
      "Epoch 12/30\n",
      "699/699 [==============================] - 1s 812us/sample - loss: 0.2737 - accuracy: 0.9084 - val_loss: 0.2843 - val_accuracy: 0.8914\n",
      "Epoch 13/30\n",
      "699/699 [==============================] - 1s 808us/sample - loss: 0.2721 - accuracy: 0.8956 - val_loss: 0.2920 - val_accuracy: 0.9029\n",
      "Epoch 14/30\n",
      "699/699 [==============================] - 1s 819us/sample - loss: 0.2841 - accuracy: 0.8970 - val_loss: 0.2750 - val_accuracy: 0.8971\n",
      "Epoch 15/30\n",
      "699/699 [==============================] - 1s 807us/sample - loss: 0.2359 - accuracy: 0.9070 - val_loss: 0.2926 - val_accuracy: 0.9029\n",
      "Epoch 16/30\n",
      "699/699 [==============================] - 1s 809us/sample - loss: 0.2747 - accuracy: 0.8970 - val_loss: 0.2826 - val_accuracy: 0.9086\n",
      "Epoch 17/30\n",
      "699/699 [==============================] - 1s 844us/sample - loss: 0.2355 - accuracy: 0.9213 - val_loss: 0.2829 - val_accuracy: 0.9086\n",
      "Epoch 18/30\n",
      "699/699 [==============================] - 1s 820us/sample - loss: 0.2404 - accuracy: 0.9127 - val_loss: 0.2840 - val_accuracy: 0.9086\n",
      "Epoch 19/30\n",
      "699/699 [==============================] - 1s 809us/sample - loss: 0.2337 - accuracy: 0.9170 - val_loss: 0.2848 - val_accuracy: 0.9086\n",
      "Epoch 20/30\n",
      "699/699 [==============================] - 1s 811us/sample - loss: 0.2713 - accuracy: 0.9084 - val_loss: 0.2855 - val_accuracy: 0.9143\n",
      "Epoch 21/30\n",
      "699/699 [==============================] - 1s 819us/sample - loss: 0.2342 - accuracy: 0.9227 - val_loss: 0.2856 - val_accuracy: 0.9143\n",
      "Epoch 22/30\n",
      "699/699 [==============================] - 1s 809us/sample - loss: 0.2106 - accuracy: 0.9342 - val_loss: 0.2858 - val_accuracy: 0.9143\n",
      "Epoch 23/30\n",
      "699/699 [==============================] - 1s 809us/sample - loss: 0.2376 - accuracy: 0.9256 - val_loss: 0.2872 - val_accuracy: 0.9143\n",
      "Epoch 24/30\n",
      "699/699 [==============================] - 1s 825us/sample - loss: 0.2233 - accuracy: 0.9185 - val_loss: 0.2881 - val_accuracy: 0.9143\n",
      "Epoch 25/30\n",
      "699/699 [==============================] - 1s 821us/sample - loss: 0.2595 - accuracy: 0.9084 - val_loss: 0.2894 - val_accuracy: 0.9029\n",
      "Epoch 26/30\n",
      "699/699 [==============================] - 1s 853us/sample - loss: 0.2420 - accuracy: 0.9113 - val_loss: 0.2905 - val_accuracy: 0.9029\n",
      "Epoch 27/30\n",
      "699/699 [==============================] - 1s 835us/sample - loss: 0.2311 - accuracy: 0.9213 - val_loss: 0.2908 - val_accuracy: 0.9029\n",
      "Epoch 28/30\n",
      "699/699 [==============================] - 1s 832us/sample - loss: 0.2079 - accuracy: 0.9299 - val_loss: 0.2908 - val_accuracy: 0.9029\n",
      "Epoch 29/30\n",
      "699/699 [==============================] - 1s 839us/sample - loss: 0.2335 - accuracy: 0.9156 - val_loss: 0.2909 - val_accuracy: 0.9029\n",
      "Epoch 30/30\n",
      "699/699 [==============================] - 1s 870us/sample - loss: 0.2603 - accuracy: 0.9127 - val_loss: 0.2909 - val_accuracy: 0.9029\n",
      "219/1 [==========================================================================================================================================================================================================================================================================================================================================================================================================================================================================================================================================================================================================================================================================================================================================================================================================================================================================================================================================================================================================================================================================================================================================================================================================================================================================================================================================================================================================================================================================================================================================================================================================================================================================================================================================================================================================================================================================================================================================================================================================================================================================================================================================================================================================================================================================================================================================================================================================================================================================================================================================================================================================================================================================================================================================================================================================================================================================================================================================================================================================================================================================================================================================================================================================================================================================================================================================================================================================================================================================================================================================================================================================================================================================================================================================================================================================================================================================================================================================================================================================================================================================================================================================================================================================================================================================================================================================================================================================================================================================================================================================================================================================================================================================================================================================================================================================================================================================================================================================================================================================================================================================================================================================================================================================================================================================================================================================================================================================================================================================================================================================================================================================================================================================================================================================================================================================================================================================================================================================================================================================================================================================================================================================================================================================================================================================================================================================================================================================================================================================================================================================================================================================================================================================================================================================================================================================================================] - 0s 83us/sample - loss: 0.4694 - accuracy: 0.8311\n",
      "test_loss: 0.432563, accuracy: 0.831050\n"
     ]
    }
   ],
   "source": [
    "x_train = data.trainReviews\n",
    "y_train = data.trainLabels\n",
    "x_eval = data.evalReviews\n",
    "y_eval = data.evalLabels\n",
    "\n",
    "wordEmbedding = data.wordEmbedding\n",
    "n_symbols=data.n_symbols\n",
    "\n",
    "\n",
    "reduce_lr = ReduceLROnPlateau(monitor='val_loss', patience=10, mode='auto')\n",
    "\n",
    "early_stopping = EarlyStopping(monitor='val_loss', patience=100)\n",
    "model_checkpoint = ModelCheckpoint('./lstm_model/best_model/model_{epoch:02d}-{val_accuracy:.2f}.hdf5', save_best_only=True, save_weights_only=True)\n",
    "history = model.fit(x_train, y_train, batch_size=config.batchSize, epochs=config.epochs, validation_split=0.2,shuffle=True, callbacks=[reduce_lr,early_stopping,model_checkpoint])\n",
    "#验证\n",
    "\n",
    "scores = model.evaluate(x_eval, y_eval)\n",
    "\n",
    "#保存模型\n",
    "yaml_string = model.to_yaml()\n",
    "with open('./lstm_model/lstm.yml', 'w') as outfile:\n",
    "    outfile.write( yaml.dump(yaml_string, default_flow_style=True) )\n",
    "model.save_weights('./lstm_model/lstm.h5')\n",
    "\n",
    "print('test_loss: %f, accuracy: %f' % (scores[0], scores[1]))"
   ]
  },
  {
   "cell_type": "code",
   "execution_count": 119,
   "metadata": {},
   "outputs": [],
   "source": [
    "# help( model.fit)"
   ]
  },
  {
   "cell_type": "code",
   "execution_count": 141,
   "metadata": {},
   "outputs": [
    {
     "data": {
      "text/plain": [
       "dict_keys(['loss', 'accuracy', 'val_loss', 'val_accuracy', 'lr'])"
      ]
     },
     "execution_count": 141,
     "metadata": {},
     "output_type": "execute_result"
    }
   ],
   "source": [
    "history_dict = history.history\n",
    "history_dict.keys()"
   ]
  },
  {
   "cell_type": "code",
   "execution_count": 142,
   "metadata": {},
   "outputs": [
    {
     "data": {
      "image/png": "[encoded data removed]",
      "text/plain": [
       "<Figure size 432x288 with 1 Axes>"
      ]
     },
     "metadata": {
      "needs_background": "light"
     },
     "output_type": "display_data"
    },
    {
     "name": "stdout",
     "output_type": "stream",
     "text": [
      "min loss: 0.6079561432799556\n",
      "min val loss: 0.4069052175113133\n"
     ]
    }
   ],
   "source": [
    "import matplotlib.pyplot as plt\n",
    "%matplotlib inline\n",
    "acc = history.history['accuracy']\n",
    "val_acc = history.history['val_accuracy']\n",
    "loss = history.history['loss']\n",
    "val_loss = history.history['val_loss']\n",
    "\n",
    "epochs = range(1, len(acc) + 1)\n",
    "\n",
    "# \"bo\" is for \"blue dot\"\n",
    "plt.plot(epochs, loss, ':bo', label='Training loss')\n",
    "# b is for \"solid blue line\"\n",
    "plt.plot(epochs, val_loss, '-r*', label='Validation loss')\n",
    "plt.title('Training and validation loss')\n",
    "plt.xlabel('Epochs')\n",
    "plt.ylabel('Loss')\n",
    "plt.legend()\n",
    "\n",
    "plt.show()\n",
    "\n",
    "print(f\"min train loss: {np.max(loss)}\")\n",
    "print(f\"min val loss: {np.max(val_loss)}\")"
   ]
  },
  {
   "cell_type": "code",
   "execution_count": 143,
   "metadata": {},
   "outputs": [
    {
     "data": {
      "image/png": "[encoded data removed]",
      "text/plain": [
       "<Figure size 432x288 with 1 Axes>"
      ]
     },
     "metadata": {
      "needs_background": "light"
     },
     "output_type": "display_data"
    },
    {
     "name": "stdout",
     "output_type": "stream",
     "text": [
      "max acc: 0.9341917037963867\n",
      "max val acc: 0.9142857193946838\n"
     ]
    }
   ],
   "source": [
    "plt.clf()   # clear figure\n",
    "acc_values = history_dict['accuracy']\n",
    "val_acc_values = history_dict['val_accuracy']\n",
    "\n",
    "plt.plot(epochs, acc, ':bo', label='Training acc')\n",
    "plt.plot(epochs, val_acc, '-r*', label='Validation acc')\n",
    "plt.title('Training and validation accuracy')\n",
    "plt.xlabel('Epochs')\n",
    "plt.ylabel('Accuracy')\n",
    "plt.legend()\n",
    "\n",
    "plt.show()\n",
    "\n",
    "print(f\"max train acc: {np.max(acc)}\")\n",
    "print(f\"max val acc: {np.max(val_acc)}\")"
   ]
  },
  {
   "cell_type": "code",
   "execution_count": null,
   "metadata": {},
   "outputs": [],
   "source": []
  }
 ],
 "metadata": {
  "kernelspec": {
   "display_name": "Python 3.7.9 ('weibo': venv)",
   "language": "python",
   "name": "python3"
  },
  "language_info": {
   "codemirror_mode": {
    "name": "ipython",
    "version": 3
   },
   "file_extension": ".py",
   "mimetype": "text/x-python",
   "name": "python",
   "nbconvert_exporter": "python",
   "pygments_lexer": "ipython3",
   "version": "3.7.9"
  },
  "vscode": {
   "interpreter": {
    "hash": "980e5277f2db5a768bb75a54045553d8a5c45dc8426da588e067f30919fe5369"
   }
  }
 },
 "nbformat": 4,
 "nbformat_minor": 2
}
