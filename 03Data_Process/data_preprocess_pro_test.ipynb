{
 "cells": [
  {
   "cell_type": "markdown",
   "metadata": {},
   "source": [
    "# 文本预处理 流程（原来的一样，不做变化）\n",
    "\n",
    "1. 文本去噪\n",
    "2. 中文分词\n",
    "3. 过滤停用词\n",
    "4. 词性标注 【没有特殊需求，咱们就不用做了\n",
    "5. 文本去重 【考虑发表的用户，**官方号**\n",
    "6. 文本标记【手动整理模型输入数据\n",
    "7. 特征词选择"
   ]
  },
  {
   "cell_type": "code",
   "execution_count": 6,
   "metadata": {},
   "outputs": [],
   "source": [
    "# 导入包\n",
    "# 导入数据\n",
    "\n",
    "import pandas as pd\n",
    "import numpy as np\n",
    "import re\n",
    "import matplotlib.pyplot as plt\n",
    "plt.rcParams['font.sans-serif']=['SimHei'] #用来正常显示中文标签\n",
    "plt.rcParams['axes.unicode_minus'] = False #用来正常显示负号\n",
    "\n",
    "import pkuseg\n",
    "import jieba\n"
   ]
  },
  {
   "cell_type": "code",
   "execution_count": 7,
   "metadata": {},
   "outputs": [
    {
     "data": {
      "text/html": [
       "<div>\n",
       "<style scoped>\n",
       "    .dataframe tbody tr th:only-of-type {\n",
       "        vertical-align: middle;\n",
       "    }\n",
       "\n",
       "    .dataframe tbody tr th {\n",
       "        vertical-align: top;\n",
       "    }\n",
       "\n",
       "    .dataframe thead th {\n",
       "        text-align: right;\n",
       "    }\n",
       "</style>\n",
       "<table border=\"1\" class=\"dataframe\">\n",
       "  <thead>\n",
       "    <tr style=\"text-align: right;\">\n",
       "      <th></th>\n",
       "      <th>微博正文</th>\n",
       "    </tr>\n",
       "  </thead>\n",
       "  <tbody>\n",
       "    <tr>\n",
       "      <th>0</th>\n",
       "      <td>【面对暴雨，请收好这份#避险生存指南#】#蜀黍带你涨姿势#近日来，河南两小时暴雨记录又被刷新...</td>\n",
       "    </tr>\n",
       "    <tr>\n",
       "      <th>1</th>\n",
       "      <td>#河南高速路况#截至2021年9月9日,19:00，目前省内高速通行情况：1、因收费站临时抢...</td>\n",
       "    </tr>\n",
       "    <tr>\n",
       "      <th>2</th>\n",
       "      <td>郑州大暴雨灾害这波，今天回来又看到一交通事故，一个大叔满身血淋淋坐在车前，前几日杭州电瓶车骑...</td>\n",
       "    </tr>\n",
       "    <tr>\n",
       "      <th>3</th>\n",
       "      <td>【暖心！#交警暴雨中执勤频频被路人送伞#】6月10日17时许，浙江温州泰顺县一路口严重拥堵，...</td>\n",
       "    </tr>\n",
       "    <tr>\n",
       "      <th>4</th>\n",
       "      <td>【湖南多地迎暴雨！这些收费站仍在管制中】今日晚间，湖南部分地区突降暴雨，905中国交通广播派...</td>\n",
       "    </tr>\n",
       "  </tbody>\n",
       "</table>\n",
       "</div>"
      ],
      "text/plain": [
       "                                                微博正文\n",
       "0  【面对暴雨，请收好这份#避险生存指南#】#蜀黍带你涨姿势#近日来，河南两小时暴雨记录又被刷新...\n",
       "1  #河南高速路况#截至2021年9月9日,19:00，目前省内高速通行情况：1、因收费站临时抢...\n",
       "2  郑州大暴雨灾害这波，今天回来又看到一交通事故，一个大叔满身血淋淋坐在车前，前几日杭州电瓶车骑...\n",
       "3  【暖心！#交警暴雨中执勤频频被路人送伞#】6月10日17时许，浙江温州泰顺县一路口严重拥堵，...\n",
       "4  【湖南多地迎暴雨！这些收费站仍在管制中】今日晚间，湖南部分地区突降暴雨，905中国交通广播派..."
      ]
     },
     "execution_count": 7,
     "metadata": {},
     "output_type": "execute_result"
    }
   ],
   "source": [
    "data = pd.read_csv(\"../02Data/完整数据_暴雨_交通.csv\")\n",
    "df = data.sample(n=500, replace=False, random_state=1) # 指定随机种子，保证都是同一个数据组合\n",
    "df.reset_index(drop=True, inplace=True)\n",
    "\n",
    "tweets = df.loc[:99, ['微博正文']].astype(\"string\") # 取100条数据就好了\n",
    "tweets.head()"
   ]
  },
  {
   "cell_type": "code",
   "execution_count": 8,
   "metadata": {},
   "outputs": [
    {
     "data": {
      "text/plain": [
       "202.52"
      ]
     },
     "execution_count": 8,
     "metadata": {},
     "output_type": "execute_result"
    }
   ],
   "source": [
    "a = tweets['微博正文'].apply(len)\n",
    "a.mean()"
   ]
  },
  {
   "cell_type": "code",
   "execution_count": 9,
   "metadata": {},
   "outputs": [
    {
     "name": "stdout",
     "output_type": "stream",
     "text": [
      "<class 'pandas.core.frame.DataFrame'>\n",
      "RangeIndex: 100 entries, 0 to 99\n",
      "Data columns (total 1 columns):\n",
      " #   Column  Non-Null Count  Dtype \n",
      "---  ------  --------------  ----- \n",
      " 0   微博正文    100 non-null    string\n",
      "dtypes: string(1)\n",
      "memory usage: 928.0 bytes\n"
     ]
    }
   ],
   "source": [
    "tweets.info()"
   ]
  },
  {
   "cell_type": "markdown",
   "metadata": {},
   "source": [
    "## 1 文本去噪\n",
    "\n",
    "微博中的特殊符号，对于算法的训练来说不太有利\n",
    "\n",
    "[Python正则表达式清洗微博文本特殊符号(网址, @, 表情符等)](https://blog.csdn.net/blmoistawinde/article/details/103648044)\n",
    "\n",
    "[附：表达式全集（正则表达式手册）](https://blog.csdn.net/qq_33472765/article/details/80785441)"
   ]
  },
  {
   "cell_type": "code",
   "execution_count": 10,
   "metadata": {},
   "outputs": [],
   "source": [
    "def clear_noise(text):\n",
    "    \"\"\"\n",
    "    text 待去噪的原始文本\n",
    "    \"\"\"\n",
    "    text = text.replace(u'\\xa0', u' ')      # 去除 \\xa0     不间断空白符 \n",
    "    text = text.replace(u'\\u3000', u' ')    # 去除 \\u3000   全角的空白符\n",
    "    text = re.sub(r\"(回复)?(//)?\\s*@\\S*?\\s*(:| |$)\", \"\", text)  # 去除正文中的@和回复/转发中的用户名\n",
    "    # 匹配这些中文标点符号 。 ？ ！ ， 、 ； ： “ ” ‘ ' （ ） 《 》 〈 〉 【 】 『 』 「 」 ﹃ ﹄ 〔 〕 … — ～ ﹏ ￥\n",
    "    reg1 = r\"@\\S*?\"\n",
    "    reg2 = r'[\\s|\\u3002|\\uff1f|\\uff01|\\uff0c|\\u3001|\\uff1b|\\uff1a|\\u201c|\\u201d|\\u2018|\\u2019|\\uff08|\\uff09|\\u300a|\\u300b|\\u3008|\\u3009|\\u3010|\\u3011|\\u300e|\\u300f|\\u300c|\\u300d|\\ufe43|\\ufe44|\\u3014|\\u3015|\\u2026|\\u2014|\\uff5e|\\ufe4f|\\uffe5]'\n",
    "    text = re.sub(r\"(回复)?(//)?\\s*\", \"\", text)  # 去除正文中的@和回复/转发中的用户名\n",
    "    text = re.sub(reg1+reg2, \"\", text)\n",
    "    text = re.sub(r\"\\[\\S+\\]\", \"\", text)     # 去除表情符号\n",
    "    # text = re.sub(r\"#\\S+\\s*#\", \"\", text)    # 去除话题内容 “#content#”\n",
    "    # text = re.sub(r\"【\\S+\\s*】\", \"\", text)  # 分类标签“【content】”\n",
    "\n",
    "    URL_REGEX = re.compile(\n",
    "        r'(?i)\\b((?:https?://|www\\d{0,3}[.]|[a-z0-9.\\-]+[.][a-z]{2,4}/)(?:[^\\s()<>]+|\\(([^\\s()<>]+|(\\([^\\s()<>]+\\)))*\\))+(?:\\(([^\\s()<>]+|(\\([^\\s()<>]+\\)))*\\)|[^\\s`!()\\[\\]{};:\\'\".,<>?«»“”‘’]))',\n",
    "        re.IGNORECASE)\n",
    "    text = re.sub(URL_REGEX, \"\", text)      # 去除网址\n",
    "    \n",
    "    EMAIL_REGEX = re.compile(r\"[-a-z0-9_.]+@(?:[-a-z0-9]+\\.)+[a-z]{2,6}\", re.IGNORECASE)\n",
    "    text = re.sub(EMAIL_REGEX, \"\", text)    # 去除邮件 \n",
    "    \n",
    "    text = text.replace(\"转发微博\", \"\")      # 去除无意义的词语\n",
    "    text = text.replace(\"网页链接\", \"\")\n",
    "    text = re.sub(r\"\\s+\", \" \", text)        # 合并正文中过多的空格\n",
    "\n",
    "    text = re.sub(r\"\\d{2,4}年|\\d{1,2}月|\\d{1,2}日|\\d{1,2}时|\\d{1,2}分| \\d{1,2}点\", \"\", text) # 去除 日期 时间\n",
    "    text = re.sub(r\"\\d\", \"\", text)\n",
    "    text = re.sub(r'[a-zA-Z]',\"\", text)\n",
    "    \n",
    "    return text.strip()"
   ]
  },
  {
   "cell_type": "code",
   "execution_count": 11,
   "metadata": {},
   "outputs": [
    {
     "name": "stdout",
     "output_type": "stream",
     "text": [
      "匹配次数：1\n"
     ]
    },
    {
     "data": {
      "text/plain": [
       "''"
      ]
     },
     "execution_count": 11,
     "metadata": {},
     "output_type": "execute_result"
    }
   ],
   "source": [
    "# # 之间的东西也会被删\n",
    "text1 = \"#河南高速路况#截至2021年9月9日,19:00，目前省内高速通行情况高速服务电话12328求助。#河南暴雨救援#\"\n",
    "\n",
    "text1, nu = re.subn(r\"(#)?\\S+\\s*(#)?\", \"\", text1)    # 去除话题内容 “#content#”\n",
    "print(\"匹配次数：{}\".format(nu))\n",
    "text1"
   ]
  },
  {
   "cell_type": "code",
   "execution_count": 12,
   "metadata": {},
   "outputs": [
    {
     "data": {
      "text/plain": [
       "'大家卷起来！！！看看这个台风看看这个暴雨！！你们哪个先停课就是最棒的！！！'"
      ]
     },
     "execution_count": 12,
     "metadata": {},
     "output_type": "execute_result"
    }
   ],
   "source": [
    "# 匹配这些中文标点符号 。 ？ ！ ， 、 ； ： “ ” ‘ ' （ ） 《 》 〈 〉 【 】 『 』 「 」 ﹃ ﹄ 〔 〕 … — ～ ﹏ ￥\n",
    "reg1 = r\"@\\S*?\"\n",
    "reg2 = r'[\\s|\\u3002|\\uff1f|\\uff01|\\uff0c|\\u3001|\\uff1b|\\uff1a|\\u201c|\\u201d|\\u2018|\\u2019|\\uff08|\\uff09|\\u300a|\\u300b|\\u3008|\\u3009|\\u3010|\\u3011|\\u300e|\\u300f|\\u300c|\\u300d|\\ufe43|\\ufe44|\\u3014|\\u3015|\\u2026|\\u2014|\\uff5e|\\ufe4f|\\uffe5]'\n",
    "reg = r\"(回复)?(//)?\\s*\"\n",
    "text = \"@复旦大学@上海交通大学@华东师范大学@同济大学，大家卷起来！！！看看这个台风看看这个暴雨！！你们哪个先停课就是最棒的！！！\"\n",
    "text = re.sub(reg1+reg2, \"\", text)\n",
    "# text = re.sub(reg2,\"\", text)\n",
    "text"
   ]
  },
  {
   "cell_type": "code",
   "execution_count": 13,
   "metadata": {},
   "outputs": [
    {
     "name": "stdout",
     "output_type": "stream",
     "text": [
      "@\\S*?[\\s|\\u3002|\\uff1f|\\uff01|\\uff0c|\\u3001|\\uff1b|\\uff1a|\\u201c|\\u201d|\\u2018|\\u2019|\\uff08|\\uff09|\\u300a|\\u300b|\\u3008|\\u3009|\\u3010|\\u3011|\\u300e|\\u300f|\\u300c|\\u300d|\\ufe43|\\ufe44|\\u3014|\\u3015|\\u2026|\\u2014|\\uff5e|\\ufe4f|\\uffe5]\n"
     ]
    }
   ],
   "source": [
    "print(reg1 + reg2)"
   ]
  },
  {
   "cell_type": "code",
   "execution_count": 14,
   "metadata": {},
   "outputs": [
    {
     "data": {
      "text/html": [
       "<div>\n",
       "<style scoped>\n",
       "    .dataframe tbody tr th:only-of-type {\n",
       "        vertical-align: middle;\n",
       "    }\n",
       "\n",
       "    .dataframe tbody tr th {\n",
       "        vertical-align: top;\n",
       "    }\n",
       "\n",
       "    .dataframe thead th {\n",
       "        text-align: right;\n",
       "    }\n",
       "</style>\n",
       "<table border=\"1\" class=\"dataframe\">\n",
       "  <thead>\n",
       "    <tr style=\"text-align: right;\">\n",
       "      <th></th>\n",
       "      <th>微博正文</th>\n",
       "      <th>去噪</th>\n",
       "    </tr>\n",
       "  </thead>\n",
       "  <tbody>\n",
       "    <tr>\n",
       "      <th>0</th>\n",
       "      <td>【面对暴雨，请收好这份#避险生存指南#】#蜀黍带你涨姿势#近日来，河南两小时暴雨记录又被刷新...</td>\n",
       "      <td>【面对暴雨，请收好这份#避险生存指南#】#蜀黍带你涨姿势#近日来，河南两小时暴雨记录又被刷新...</td>\n",
       "    </tr>\n",
       "    <tr>\n",
       "      <th>1</th>\n",
       "      <td>#河南高速路况#截至2021年9月9日,19:00，目前省内高速通行情况：1、因收费站临时抢...</td>\n",
       "      <td>#河南高速路况#截至,:，目前省内高速通行情况：、因收费站临时抢修施工，菏宝高速新乡东站（北...</td>\n",
       "    </tr>\n",
       "    <tr>\n",
       "      <th>2</th>\n",
       "      <td>郑州大暴雨灾害这波，今天回来又看到一交通事故，一个大叔满身血淋淋坐在车前，前几日杭州电瓶车骑...</td>\n",
       "      <td>郑州大暴雨灾害这波，今天回来又看到一交通事故，一个大叔满身血淋淋坐在车前，前几日杭州电瓶车骑...</td>\n",
       "    </tr>\n",
       "    <tr>\n",
       "      <th>3</th>\n",
       "      <td>【暖心！#交警暴雨中执勤频频被路人送伞#】6月10日17时许，浙江温州泰顺县一路口严重拥堵，...</td>\n",
       "      <td>【暖心！#交警暴雨中执勤频频被路人送伞#】许，浙江温州泰顺县一路口严重拥堵，一名交警在疏导交...</td>\n",
       "    </tr>\n",
       "    <tr>\n",
       "      <th>4</th>\n",
       "      <td>【湖南多地迎暴雨！这些收费站仍在管制中】今日晚间，湖南部分地区突降暴雨，905中国交通广播派...</td>\n",
       "      <td>【湖南多地迎暴雨！这些收费站仍在管制中】今日晚间，湖南部分地区突降暴雨，中国交通广播派出四路...</td>\n",
       "    </tr>\n",
       "  </tbody>\n",
       "</table>\n",
       "</div>"
      ],
      "text/plain": [
       "                                                微博正文  \\\n",
       "0  【面对暴雨，请收好这份#避险生存指南#】#蜀黍带你涨姿势#近日来，河南两小时暴雨记录又被刷新...   \n",
       "1  #河南高速路况#截至2021年9月9日,19:00，目前省内高速通行情况：1、因收费站临时抢...   \n",
       "2  郑州大暴雨灾害这波，今天回来又看到一交通事故，一个大叔满身血淋淋坐在车前，前几日杭州电瓶车骑...   \n",
       "3  【暖心！#交警暴雨中执勤频频被路人送伞#】6月10日17时许，浙江温州泰顺县一路口严重拥堵，...   \n",
       "4  【湖南多地迎暴雨！这些收费站仍在管制中】今日晚间，湖南部分地区突降暴雨，905中国交通广播派...   \n",
       "\n",
       "                                                  去噪  \n",
       "0  【面对暴雨，请收好这份#避险生存指南#】#蜀黍带你涨姿势#近日来，河南两小时暴雨记录又被刷新...  \n",
       "1  #河南高速路况#截至,:，目前省内高速通行情况：、因收费站临时抢修施工，菏宝高速新乡东站（北...  \n",
       "2  郑州大暴雨灾害这波，今天回来又看到一交通事故，一个大叔满身血淋淋坐在车前，前几日杭州电瓶车骑...  \n",
       "3  【暖心！#交警暴雨中执勤频频被路人送伞#】许，浙江温州泰顺县一路口严重拥堵，一名交警在疏导交...  \n",
       "4  【湖南多地迎暴雨！这些收费站仍在管制中】今日晚间，湖南部分地区突降暴雨，中国交通广播派出四路...  "
      ]
     },
     "execution_count": 14,
     "metadata": {},
     "output_type": "execute_result"
    }
   ],
   "source": [
    "tweets[\"去噪\"] = tweets[\"微博正文\"].apply(clear_noise).astype(\"string\")\n",
    "tweets.head()\n"
   ]
  },
  {
   "cell_type": "code",
   "execution_count": 15,
   "metadata": {},
   "outputs": [
    {
     "name": "stdout",
     "output_type": "stream",
     "text": [
      "<class 'pandas.core.frame.DataFrame'>\n",
      "RangeIndex: 100 entries, 0 to 99\n",
      "Data columns (total 2 columns):\n",
      " #   Column  Non-Null Count  Dtype \n",
      "---  ------  --------------  ----- \n",
      " 0   微博正文    100 non-null    string\n",
      " 1   去噪      100 non-null    string\n",
      "dtypes: string(2)\n",
      "memory usage: 1.7 KB\n"
     ]
    }
   ],
   "source": [
    "tweets.info()"
   ]
  },
  {
   "cell_type": "markdown",
   "metadata": {},
   "source": [
    "## 2 中文分词\n",
    "\n",
    "[pkuseg: 一个多领域中文分词工具包](https://github.com/lancopku/pkuseg-python)\n",
    "\n",
    "[jieba: 结巴中文分词](https://github.com/fxsjy/jieba)\n",
    "\n",
    "从github下载的用户则需要自己下载对应的预训练模型，并设置model_name字段为预训练模型路径。预训练模型可以在[release](https://github.com/lancopku/pkuseg-python/releases)部分下载。以下是对预训练模型的说明：\n",
    "\n",
    "- **news**: 在MSRA（新闻语料）上训练的模型。【可以测试\n",
    "- **web**: 在微博（网络文本语料）上训练的模型。【可以测试\n",
    "- **medicine**: 在医药领域上训练的模型。\n",
    "- **tourism**: 在旅游领域上训练的模型。\n",
    "- **mixed**: 混合数据集训练的通用模型。随pip包附带的是此模型。【可以测试\n",
    "\n",
    "我们还通过领域自适应的方法，利用维基百科的未标注数据实现了几个细领域预训练模型的自动构建以及通用模型的优化，这些模型目前仅可以在release中下载：\n",
    "\n",
    "- **art**: 在艺术与文化领域上训练的模型。\n",
    "- **entertainment**: 在娱乐与体育领域上训练的模型。\n",
    "- **science**: 在科学领域上训练的模型。\n",
    "- **default_v2**: 使用领域自适应方法得到的优化后的通用模型，相较于默认模型规模更大，但泛化性能更好。"
   ]
  },
  {
   "cell_type": "code",
   "execution_count": 16,
   "metadata": {},
   "outputs": [
    {
     "name": "stderr",
     "output_type": "stream",
     "text": [
      "Building prefix dict from the default dictionary ...\n",
      "Loading model from cache C:\\Users\\HONGTA~1\\AppData\\Local\\Temp\\jieba.cache\n",
      "Loading model cost 0.508 seconds.\n",
      "Prefix dict has been built successfully.\n"
     ]
    },
    {
     "data": {
      "text/plain": [
       "['我', '爱', '北京', '天安门']"
      ]
     },
     "execution_count": 16,
     "metadata": {},
     "output_type": "execute_result"
    }
   ],
   "source": [
    "# jieba分词\n",
    "\n",
    "def jieba_segment(str, use_paddle=True):\n",
    "    \"\"\"\n",
    "    jieba分词:\n",
    "    str         : 待分词的文本\n",
    "    use_paddle  : 是否使用paddle模型\n",
    "    \"\"\"\n",
    "    word_list = jieba.cut(str, use_paddle=use_paddle)   # 分词后返回一个列表  jieba.cut(）   返回的是一个迭代器\n",
    "    res = list(word_list)\n",
    "   \n",
    "    return res\n",
    "\n",
    "#! 测试\n",
    "jieba_segment('我爱北京天安门')\n"
   ]
  },
  {
   "cell_type": "code",
   "execution_count": 17,
   "metadata": {},
   "outputs": [
    {
     "data": {
      "text/plain": [
       "['我', '爱', '北京', '天安门']"
      ]
     },
     "execution_count": 17,
     "metadata": {},
     "output_type": "execute_result"
    }
   ],
   "source": [
    "# pkuseg 分词 \n",
    "\n",
    "def pkuseg_segment(str, m_name=\"web\", u_dict=\"default\"):\n",
    "    \"\"\"\n",
    "    pkuseg分词:\n",
    "    str     :待分词的文本\n",
    "    m_name  : 选择使用的预训练模型\n",
    "    u_dict  : 用户自定义的分词设置用户词典。\n",
    "    \"\"\"\n",
    "    # m_name= \"news\"\n",
    "    # m_name= \"mixed\"\n",
    "    # p_tag= True # 是否包含词性\n",
    "    seg = pkuseg.pkuseg(model_name=m_name, user_dict=u_dict)           # 以默认配置加载模型    \n",
    "    res = seg.cut(str)  # 进行分词\n",
    "   \n",
    "    return res\n",
    "\n",
    "#! 测试\n",
    "pkuseg_segment('我爱北京天安门')"
   ]
  },
  {
   "cell_type": "code",
   "execution_count": 18,
   "metadata": {},
   "outputs": [],
   "source": [
    "\n",
    "tweets[\"jieba\"] = tweets[\"去噪\"].apply(jieba_segment)"
   ]
  },
  {
   "cell_type": "code",
   "execution_count": 19,
   "metadata": {},
   "outputs": [],
   "source": [
    "#! 时间比较3min，轻易不尝试\n",
    "tweets[\"pkuseg\"] = tweets[\"去噪\"].apply(pkuseg_segment)"
   ]
  },
  {
   "cell_type": "code",
   "execution_count": 20,
   "metadata": {},
   "outputs": [
    {
     "name": "stdout",
     "output_type": "stream",
     "text": [
      "<class 'pandas.core.frame.DataFrame'>\n",
      "RangeIndex: 100 entries, 0 to 99\n",
      "Data columns (total 4 columns):\n",
      " #   Column  Non-Null Count  Dtype \n",
      "---  ------  --------------  ----- \n",
      " 0   微博正文    100 non-null    string\n",
      " 1   去噪      100 non-null    string\n",
      " 2   jieba   100 non-null    object\n",
      " 3   pkuseg  100 non-null    object\n",
      "dtypes: object(2), string(2)\n",
      "memory usage: 3.2+ KB\n"
     ]
    }
   ],
   "source": [
    "tweets.to_excel(\"../02Data/jieba_pkuseg.xlsx\")\n",
    "tweets.info()"
   ]
  },
  {
   "cell_type": "code",
   "execution_count": null,
   "metadata": {},
   "outputs": [],
   "source": []
  },
  {
   "cell_type": "markdown",
   "metadata": {},
   "source": [
    "## 3 过滤停用词\n",
    "\n",
    "- 支持新增停用词库\n",
    "- 考虑词性标准时的去停用词\n",
    "- 支持删除指定词性的词"
   ]
  },
  {
   "cell_type": "code",
   "execution_count": 21,
   "metadata": {},
   "outputs": [
    {
     "name": "stdout",
     "output_type": "stream",
     "text": [
      "['辽宁', '天气', '我省', '大部分', '地区', '出现', '强对流', '天气', '注意', '防范', '雷雨大风', '短时', '强降水', '影响', '摘要', '预计', '我省', '大部分', '地区', '出现', '雷电', '大风', '短时', '强降水', '冰雹', '强对流', '天气', '西部', '北部', '地区', '最大', '瞬时', '风力', '局部', '可达级', '以上', '西部', '个别', '乡镇', '街道', '降雨量', '毫米', '最大', '小时', '降雨量', '毫米', '西部', '东南部', '地区', '强对流', '天气', '主要', '影响', '时段', '中午', '夜间', '北部', '地区', '夜间', '注意', '防范', '强对流', '天气', '带来', '不利', '影响', '气象条件', '分析', '蒙古', '中部', '高空槽', '东移', '过程', '加深', '高空', '冷涡', '低层', '偏南', '急流', '建立', '辽宁', '输送', '暖湿', '空气', '整层', '大气', '降水量', '水汽', '条件', '充足', '有利于', '出现', '短时', '强降水', '西部', '北部', '地区', '稳定', '能量', '充分', '积累', '对流', '有效', '逐渐', '增强', '配合', '垂直', '切变', '有利于', '对流', '系统', '发展', '出现', '大风', '冰雹', '强对流', '天气', '入海', '气旋', '影响', '白天', '夜间', '我省', '海区', '出现', '大风', '天气', '强对流', '天气预报', '我省', '大部分', '地区', '强对流', '天气', '预计', '锦州', '阜新', '铁岭', '朝阳', '盘锦', '葫芦岛', '地区', '康平', '法库', '新民', '台安', '雷电', '大风', '短时', '强降水', '冰雹', '强对流', '天气', '最大', '瞬时', '风力', '局部', '可达级', '以上', '最大', '小时', '降雨量', '毫米', '丹东', '地区', '大连市', '旅顺', '金普', '新区', '普兰店', '长海', '庄河', '岫岩', '雷电', '短时', '强降水', '最大', '小时', '降雨量', '毫米', '地区', '雷电', '西部', '东南部', '地区', '强对流', '天气', '主要', '影响', '时段', '中午', '夜间', '北部', '地区', '夜间', '白天', '夜间', '海区', '东风', '东北风', '阵风', '影响', '建议', '强对流', '天气', '突发性', '局地', '性强', '提醒', '公众', '相关', '部门', '关注', '气象部门', '滚动', '更新', '发布', '预报', '预警', '信息', '组织', '做好', '防范', '应对', '工作', '建议', '我省', '出现', '强降雨', '预计', '西部', '地区', '出现', '强降雨', '降雨', '叠加', '作用', '影响', '发生', '山洪', '滑坡', '泥石流', '中小', '河流', '洪水', '可能性', '增大', '做好', '流域', '水库', '小城镇', '防汛', '重点', '人群', '避险', '转移', '工作', '加强', '地质灾害', '隐患', '山区', '城镇', '学校', '医院', '重要', '工程', '设施', '煤矿', '尾矿库', '监测', '防范', '当有', '雷电', '天气', '发生', '尽量避免', '户外活动', '室外', '人员', '不要', '树下', '电杆', '塔吊', '避雨', '防范', '雷电', '可能', '造成', '人员伤亡', '设备', '损失', '关注', '航空运输', '影响', '加强', '国省', '干道', '区县', '乡镇', '道路', '过河', '桥梁', '隧道', '涵洞', '城市', '低洼', '路段', '管控', '防范', '短时', '强降水', '造成', '城市', '内涝', '交通', '出行', '影响', '瞬时', '风力', '较大', '注意', '防范', '可能', '造成', '搭建', '倒塌', '高空作业', '水域', '作业', '设施', '农业', '海上', '航运', '影响', '检查', '加固', '塔吊', '脚手架', '户外', '广告牌', '公众', '外出', '不要', '广告牌', '临时', '搭建', '物等', '下面', '停留', '防止', '大风', '引发', '倒塌', '坠物', '触电', '事件', '海上', '航运', '需注意', '安全', '妥善', '保护', '易受', '冰雹', '袭击', '汽车', '室外', '物品', '设备', '防范', '冰雹', '农作物', '果蔬', '农业', '设施', '造成', '不利', '影响', '提前', '驱赶', '家禽', '牲畜', '进入', '顶棚', '场所', '土壤', '饱和', '地区', '提前', '疏通', '沟渠', '及时', '排除', '田间', '积水', '防范', '强降雨', '引发', '农田', '渍涝', '辽宁', '辽宁', '暴雨', '辽宁', '身边', '辽宁', '生活', '天气', '强对流', '天气']\n"
     ]
    }
   ],
   "source": [
    "def clear_stopword(word_ls, stopword_file, postag=False, stop_postag=[], user_file=\"../05stopwords/user_stopwords.txt\"):\n",
    "    \"\"\"\n",
    "    word_ls         :待去停用词的词汇列表【word 或者是 tuple(word, postag) 组成的list\n",
    "    stopword_file   :选择使用的停用词库\n",
    "    user_file       :用户自定义的停用词库\n",
    "    postag          :是否有词性标注\n",
    "    stop_postag     :指定删除的词性\n",
    "    \"\"\"\n",
    "    with open(stopword_file, 'r', encoding='utf-8') as f1, open(user_file, 'r' , encoding='utf-8') as f2:    # \n",
    "        \n",
    "        stopword_ls = [word.strip('\\n') for word in f1.readlines()] # 默认词库\n",
    "        user_ls = [word.strip('\\n') for word in f2.readlines()]     # 自定义词库\n",
    "\n",
    "        stopword_ls.extend(user_ls)\n",
    "        \n",
    "        res = []\n",
    "        if postag: # 有词性标注\n",
    "            for word_tag in word_ls:\n",
    "                w, t = word_tag\n",
    "                if w not in stopword_ls and len(w) > 1 and t not in stop_postag: # 仅保留2个字符及以上的词\n",
    "                    res.append((w, t))\n",
    "        else:\n",
    "            for w in word_ls:\n",
    "                if w not in stopword_ls and len(w) > 1: # 仅保留2个字符及以上的词\n",
    "                    res.append(w)\n",
    "    \n",
    "    return res\n",
    "\n",
    "\n",
    "#! 测试\n",
    "word_ls = tweets[\"jieba\"][9]\n",
    "stopword_file = \"../05stopwords/hit_stopwords.txt\"\n",
    "postag = False\n",
    "stop_postag = []\n",
    "user_file = \"../05stopwords/user_stopwords.txt\"\n",
    "\n",
    "res = clear_stopword(word_ls, stopword_file, postag, stop_postag, user_file)\n",
    "print(res)"
   ]
  },
  {
   "cell_type": "code",
   "execution_count": 22,
   "metadata": {},
   "outputs": [],
   "source": [
    "stopword_file = \"../05stopwords/hit_stopwords.txt\"\n",
    "postag = False\n",
    "stop_postag = []\n",
    "user_file = \"../05stopwords/user_stopwords.txt\"\n",
    "\n",
    "tweets[\"jieba_stop\"] = tweets[\"jieba\"].apply(clear_stopword, args=[stopword_file, postag, stop_postag, user_file])\n",
    "tweets[\"pkuseg_stop\"] = tweets[\"pkuseg\"].apply(clear_stopword, args=[stopword_file, postag, stop_postag, user_file])\n"
   ]
  },
  {
   "cell_type": "code",
   "execution_count": 23,
   "metadata": {},
   "outputs": [
    {
     "name": "stdout",
     "output_type": "stream",
     "text": [
      "<class 'pandas.core.frame.DataFrame'>\n",
      "RangeIndex: 100 entries, 0 to 99\n",
      "Data columns (total 6 columns):\n",
      " #   Column       Non-Null Count  Dtype \n",
      "---  ------       --------------  ----- \n",
      " 0   微博正文         100 non-null    string\n",
      " 1   去噪           100 non-null    string\n",
      " 2   jieba        100 non-null    object\n",
      " 3   pkuseg       100 non-null    object\n",
      " 4   jieba_stop   100 non-null    object\n",
      " 5   pkuseg_stop  100 non-null    object\n",
      "dtypes: object(4), string(2)\n",
      "memory usage: 4.8+ KB\n"
     ]
    }
   ],
   "source": [
    "tweets.to_excel(\"../02Data/jieba_pkuseg.xlsx\")\n",
    "tweets.info()"
   ]
  },
  {
   "cell_type": "code",
   "execution_count": 24,
   "metadata": {},
   "outputs": [
    {
     "data": {
      "text/plain": [
       "1"
      ]
     },
     "execution_count": 24,
     "metadata": {},
     "output_type": "execute_result"
    }
   ],
   "source": [
    "# 测试特殊符号的长度\n",
    "\n",
    "a = '⚠️'\n",
    "b = '🌪️'\n",
    "c = '🌬'\n",
    "len(c)"
   ]
  },
  {
   "cell_type": "markdown",
   "metadata": {},
   "source": [
    "## 4 分词+词性标注 \n",
    "\n",
    "\n",
    "[pkuseg: 一个多领域中文分词工具包](https://github.com/lancopku/pkuseg-python)\n",
    "\n",
    "[jieba: 结巴中文分词](https://github.com/fxsjy/jieba)\n",
    "\n"
   ]
  },
  {
   "cell_type": "code",
   "execution_count": 25,
   "metadata": {},
   "outputs": [
    {
     "data": {
      "text/plain": [
       "[('我', 'r'), ('爱', 'v'), ('北京', 'ns'), ('天安门', 'ns')]"
      ]
     },
     "execution_count": 25,
     "metadata": {},
     "output_type": "execute_result"
    }
   ],
   "source": [
    "# jieba 词性标注（part-of-speech tagging）\n",
    "\n",
    "def jieba_postag(str, use_paddle=True):\n",
    "    \"\"\"\n",
    "    jieba分词:\n",
    "    str         : 待分词的文本\n",
    "    use_paddle  : 是否使用paddle模型\n",
    "    \"\"\"\n",
    "    import jieba.posseg as pseg\n",
    "    word_tag_ls = pseg.lcut(str, use_paddle=use_paddle)\n",
    "    \n",
    "    res = [] # 将词语与词性从pair对象转换为 元组，方便索引\n",
    "    for w_t in word_tag_ls:\n",
    "        w, t = w_t\n",
    "        res.append((w, t))\n",
    "    return res\n",
    "\n",
    "\n",
    "#! 测试\n",
    "res = jieba_postag('我爱北京天安门')\n",
    "res"
   ]
  },
  {
   "cell_type": "code",
   "execution_count": 26,
   "metadata": {},
   "outputs": [
    {
     "data": {
      "text/plain": [
       "[('我', 'r'), ('爱', 'v'), ('北京', 'ns'), ('天安门', 'ns')]"
      ]
     },
     "execution_count": 26,
     "metadata": {},
     "output_type": "execute_result"
    }
   ],
   "source": [
    "# pkuseg 词性标注（part-of-speech tagging）\n",
    "# pkuseg 分词 \n",
    "\n",
    "def pkuseg_postag(str, m_name=\"web\", u_dict=\"default\", postag=True):\n",
    "    \"\"\"\n",
    "    pkuseg分词:\n",
    "    str     :待分词的文本\n",
    "    m_name  : 选择使用的预训练模型\n",
    "    u_dict  : 用户自定义的分词设置用户词典。\n",
    "    postag   : 是否进行词性标准（是的话，需要在自定义的词典中，也要添加相应的词性 tab键隔开在一行\n",
    "    \"\"\"\n",
    "    # m_name= \"news\"\n",
    "    # m_name= \"mixed\"\n",
    "    # postag= True # 是否包含词性\n",
    "    seg = pkuseg.pkuseg(model_name=m_name, user_dict=u_dict, postag=postag)           # 以默认配置加载模型    \n",
    "    res = seg.cut(str)  # 进行分词\n",
    "   \n",
    "    return seg.cut(str)  # 进行分词\n",
    "\n",
    "#! 测试\n",
    "res = pkuseg_postag('我爱北京天安门')\n",
    "res"
   ]
  },
  {
   "cell_type": "code",
   "execution_count": 27,
   "metadata": {},
   "outputs": [
    {
     "name": "stdout",
     "output_type": "stream",
     "text": [
      "【面对暴雨，请收好这份#避险生存指南#】#蜀黍带你涨姿势#近日来，河南两小时暴雨记录又被刷新！接连不断的罕见暴雨袭击多个城市，熟悉的交通工具都变得不再安全，该如何远离“看不见的危险”?面对暴雨该如何避险脱困?戳视频↓收下这份生存指南！小央视频的微博视频\n",
      "jieba:\n",
      "[('【', 'x'), ('面对', 'v'), ('暴雨', 'n'), ('，', 'x'), ('请', 'v'), ('收好', 'v'), ('这份', 'mq'), ('#', 'x'), ('避险', 'v'), ('生存', 'v'), ('指南', 'n'), ('#', 'x'), ('】', 'x'), ('#', 'x'), ('蜀黍', 'n'), ('带', 'v'), ('你', 'r'), ('涨', 'v'), ('姿势', 'n'), ('#', 'x'), ('近日来', 'l'), ('，', 'x'), ('河南', 'ns'), ('两', 'm'), ('小时', 'n'), ('暴雨', 'n'), ('记录', 'n'), ('又', 'd'), ('被', 'p'), ('刷新', 'v'), ('！', 'x'), ('接连不断', 'l'), ('的', 'uj'), ('罕见', 'a'), ('暴雨', 'n'), ('袭击', 'v'), ('多个', 'm'), ('城市', 'ns'), ('，', 'x'), ('熟悉', 'v'), ('的', 'uj'), ('交通工具', 'l'), ('都', 'd'), ('变得', 'v'), ('不再', 'd'), ('安全', 'an'), ('，', 'x'), ('该', 'r'), ('如何', 'r'), ('远离', 'v'), ('“', 'x'), ('看不见', 'v'), ('的', 'uj'), ('危险', 'an'), ('”', 'x'), ('?', 'x'), ('面对', 'v'), ('暴雨', 'n'), ('该', 'r'), ('如何', 'r'), ('避险', 'v'), ('脱困', 'v'), ('?', 'x'), ('戳', 'v'), ('视频', 'n'), ('↓', 'x'), ('收下', 'v'), ('这份', 'mq'), ('生存', 'v'), ('指南', 'n'), ('！', 'x'), ('小央', 'n'), ('视频', 'n'), ('的', 'uj'), ('微博', 'a'), ('视频', 'n')]\n",
      "pkuseg:\n",
      "[('【', 'nr'), ('面对', 'v'), ('暴雨', 'n'), ('，', 'w'), ('请', 'v'), ('收好', 'v'), ('这', 'r'), ('份', 'q'), ('#', 'n'), ('避险', 'v'), ('生存', 'vn'), ('指南', 'n'), ('#', 'v'), ('】', 'v'), ('#', 'n'), ('蜀黍', 'nr'), ('带', 'v'), ('你', 'r'), ('涨', 'v'), ('姿势', 'n'), ('#', 'v'), ('近日来', 'l'), ('，', 'w'), ('河南', 'ns'), ('两', 'm'), ('小时', 'n'), ('暴雨', 'n'), ('记录', 'v'), ('又', 'd'), ('被', 'p'), ('刷新', 'v'), ('！', 'w'), ('接连不断', 'l'), ('的', 'u'), ('罕见', 'a'), ('暴雨', 'n'), ('袭击', 'v'), ('多', 'm'), ('个', 'q'), ('城市', 'n'), ('，', 'w'), ('熟悉', 'v'), ('的', 'u'), ('交通', 'n'), ('工具', 'n'), ('都', 'd'), ('变', 'v'), ('得', 'u'), ('不', 'd'), ('再', 'd'), ('安全', 'a'), ('，', 'w'), ('该', 'v'), ('如何', 'r'), ('远离', 'v'), ('“', 'w'), ('看', 'v'), ('不见', 'v'), ('的', 'u'), ('危险', 'an'), ('”', 'w'), ('?', 'v'), ('面对', 'v'), ('暴雨', 'n'), ('该', 'v'), ('如何', 'r'), ('避险', 'v'), ('脱困', 'v'), ('?戳', 'v'), ('视频', 'n'), ('↓', 'v'), ('收下', 'v'), ('这', 'r'), ('份', 'q'), ('生存', 'vn'), ('指南', 'n'), ('！', 'w'), ('小央', 'nr'), ('视频', 'n'), ('的', 'u'), ('微博', 'a'), ('视频', 'n')]\n"
     ]
    }
   ],
   "source": [
    "#! 测试\n",
    "word_str = tweets[\"去噪\"][0]\n",
    "print(word_str)\n",
    "\n",
    "print(\"jieba:\")\n",
    "res = jieba_postag(word_str)\n",
    "print(res)\n",
    "\n",
    "print(\"pkuseg:\")\n",
    "res = pkuseg_postag(word_str)\n",
    "print(res)\n"
   ]
  },
  {
   "cell_type": "code",
   "execution_count": 28,
   "metadata": {},
   "outputs": [
    {
     "name": "stdout",
     "output_type": "stream",
     "text": [
      "<class 'pandas.core.frame.DataFrame'>\n",
      "RangeIndex: 100 entries, 0 to 99\n",
      "Data columns (total 6 columns):\n",
      " #   Column       Non-Null Count  Dtype \n",
      "---  ------       --------------  ----- \n",
      " 0   微博正文         100 non-null    string\n",
      " 1   去噪           100 non-null    string\n",
      " 2   jieba        100 non-null    object\n",
      " 3   pkuseg       100 non-null    object\n",
      " 4   jieba_stop   100 non-null    object\n",
      " 5   pkuseg_stop  100 non-null    object\n",
      "dtypes: object(4), string(2)\n",
      "memory usage: 4.8+ KB\n"
     ]
    }
   ],
   "source": [
    "tweets.info()"
   ]
  },
  {
   "cell_type": "code",
   "execution_count": 29,
   "metadata": {},
   "outputs": [
    {
     "name": "stdout",
     "output_type": "stream",
     "text": [
      "<class 'pandas.core.frame.DataFrame'>\n",
      "RangeIndex: 100 entries, 0 to 99\n",
      "Data columns (total 8 columns):\n",
      " #   Column         Non-Null Count  Dtype \n",
      "---  ------         --------------  ----- \n",
      " 0   微博正文           100 non-null    string\n",
      " 1   去噪             100 non-null    string\n",
      " 2   jieba          100 non-null    object\n",
      " 3   pkuseg         100 non-null    object\n",
      " 4   jieba_stop     100 non-null    object\n",
      " 5   pkuseg_stop    100 non-null    object\n",
      " 6   jieba_postag   100 non-null    object\n",
      " 7   pkuseg_postag  100 non-null    object\n",
      "dtypes: object(6), string(2)\n",
      "memory usage: 6.4+ KB\n"
     ]
    }
   ],
   "source": [
    "tweets[\"jieba_postag\"] = tweets[\"去噪\"].apply(jieba_postag)\n",
    "tweets[\"pkuseg_postag\"] = tweets[\"去噪\"].apply(pkuseg_postag)\n",
    "tweets.info()"
   ]
  },
  {
   "cell_type": "code",
   "execution_count": 30,
   "metadata": {},
   "outputs": [
    {
     "name": "stdout",
     "output_type": "stream",
     "text": [
      "[('面对', 'v'), ('暴雨', 'n'), ('收好', 'v'), ('这份', 'mq'), ('避险', 'v'), ('生存', 'v'), ('指南', 'n'), ('蜀黍', 'n'), ('姿势', 'n'), ('近日来', 'l'), ('小时', 'n'), ('暴雨', 'n'), ('记录', 'n'), ('刷新', 'v'), ('接连不断', 'l'), ('罕见', 'a'), ('暴雨', 'n'), ('袭击', 'v'), ('多个', 'm'), ('城市', 'ns'), ('熟悉', 'v'), ('交通工具', 'l'), ('变得', 'v'), ('不再', 'd'), ('安全', 'an'), ('远离', 'v'), ('看不见', 'v'), ('危险', 'an'), ('面对', 'v'), ('暴雨', 'n'), ('避险', 'v'), ('脱困', 'v'), ('视频', 'n'), ('收下', 'v'), ('这份', 'mq'), ('生存', 'v'), ('指南', 'n'), ('小央', 'n'), ('视频', 'n'), ('微博', 'a'), ('视频', 'n')]\n"
     ]
    }
   ],
   "source": [
    "#! 测试 带有词性标准的去停用词\n",
    "word_ls = tweets[\"jieba_postag\"][0]\n",
    "stopword_file = \"../05stopwords/hit_stopwords.txt\"\n",
    "postag = True\n",
    "stop_postag = []\n",
    "user_file = \"../05stopwords/user_stopwords.txt\"\n",
    "\n",
    "res = clear_stopword(word_ls, stopword_file, postag, stop_postag, user_file) # 去噪\n",
    "print(res)"
   ]
  },
  {
   "cell_type": "code",
   "execution_count": 55,
   "metadata": {},
   "outputs": [],
   "source": [
    "stopword_file = \"../05stopwords/hit_stopwords.txt\"\n",
    "postag = True\n",
    "stop_postag = []\n",
    "stop_postag= ['c', 'd', 'df', 'f', 'm', 'mq', 'ns', 'nt', 'nz', 'o','p','q','r','s',',t','nrfg']\n",
    "\n",
    "user_file = \"../05stopwords/user_stopwords.txt\"\n",
    "\n",
    "tweets[\"jieba_postag_stop\"] = tweets[\"jieba_postag\"].apply(clear_stopword, args=[stopword_file, postag, stop_postag, user_file])\n",
    "tweets[\"pkuseg_postag_stop\"] = tweets[\"pkuseg_postag\"].apply(clear_stopword, args=[stopword_file, postag, stop_postag, user_file])"
   ]
  },
  {
   "cell_type": "code",
   "execution_count": 56,
   "metadata": {},
   "outputs": [
    {
     "name": "stdout",
     "output_type": "stream",
     "text": [
      "<class 'pandas.core.frame.DataFrame'>\n",
      "RangeIndex: 100 entries, 0 to 99\n",
      "Data columns (total 10 columns):\n",
      " #   Column              Non-Null Count  Dtype \n",
      "---  ------              --------------  ----- \n",
      " 0   微博正文                100 non-null    string\n",
      " 1   去噪                  100 non-null    string\n",
      " 2   jieba               100 non-null    object\n",
      " 3   pkuseg              100 non-null    object\n",
      " 4   jieba_stop          100 non-null    object\n",
      " 5   pkuseg_stop         100 non-null    object\n",
      " 6   jieba_postag        100 non-null    object\n",
      " 7   pkuseg_postag       100 non-null    object\n",
      " 8   jieba_postag_stop   100 non-null    object\n",
      " 9   pkuseg_postag_stop  100 non-null    object\n",
      "dtypes: object(8), string(2)\n",
      "memory usage: 7.9+ KB\n"
     ]
    }
   ],
   "source": [
    "tweets.to_excel(\"../02Data/jieba_pkuseg.xlsx\")\n",
    "tweets.info()"
   ]
  },
  {
   "cell_type": "code",
   "execution_count": 58,
   "metadata": {},
   "outputs": [
    {
     "data": {
      "text/plain": [
       "47.02"
      ]
     },
     "execution_count": 58,
     "metadata": {},
     "output_type": "execute_result"
    }
   ],
   "source": [
    "a = tweets['jieba_postag_stop'].apply(len)\n",
    "a.mean()"
   ]
  },
  {
   "cell_type": "markdown",
   "metadata": {},
   "source": [
    "## 5 文本去重 【考虑发表的用户，**官方号**\n"
   ]
  },
  {
   "cell_type": "code",
   "execution_count": null,
   "metadata": {},
   "outputs": [],
   "source": []
  },
  {
   "cell_type": "markdown",
   "metadata": {},
   "source": [
    "## 6 文本标记\n",
    "\n",
    "- 手动整理标记，模型输入数据\n",
    "\n",
    "- 主题建模\n"
   ]
  },
  {
   "cell_type": "code",
   "execution_count": 33,
   "metadata": {},
   "outputs": [
    {
     "data": {
      "text/plain": [
       "['']"
      ]
     },
     "execution_count": 33,
     "metadata": {},
     "output_type": "execute_result"
    }
   ],
   "source": [
    "\n",
    "a = [('面对', 'v')]\n",
    "a = []\n",
    "if a ==[]:\n",
    "    a= [('','')]\n",
    "np.array(a)[:, 0].tolist()"
   ]
  },
  {
   "cell_type": "code",
   "execution_count": 34,
   "metadata": {},
   "outputs": [
    {
     "data": {
      "text/html": [
       "<div>\n",
       "<style scoped>\n",
       "    .dataframe tbody tr th:only-of-type {\n",
       "        vertical-align: middle;\n",
       "    }\n",
       "\n",
       "    .dataframe tbody tr th {\n",
       "        vertical-align: top;\n",
       "    }\n",
       "\n",
       "    .dataframe thead th {\n",
       "        text-align: right;\n",
       "    }\n",
       "</style>\n",
       "<table border=\"1\" class=\"dataframe\">\n",
       "  <thead>\n",
       "    <tr style=\"text-align: right;\">\n",
       "      <th></th>\n",
       "      <th>同学</th>\n",
       "      <th>同心</th>\n",
       "      <th>同志</th>\n",
       "      <th>同意</th>\n",
       "      <th>同比</th>\n",
       "      <th>同舟</th>\n",
       "      <th>同行</th>\n",
       "      <th>同袍</th>\n",
       "      <th>同观路</th>\n",
       "      <th>同途</th>\n",
       "      <th>...</th>\n",
       "      <th>龙口市</th>\n",
       "      <th>龙吉</th>\n",
       "      <th>龙城</th>\n",
       "      <th>龙山</th>\n",
       "      <th>龙山镇</th>\n",
       "      <th>龙庭</th>\n",
       "      <th>龙桥</th>\n",
       "      <th>龙永段</th>\n",
       "      <th>龙背</th>\n",
       "      <th>龙舟</th>\n",
       "    </tr>\n",
       "  </thead>\n",
       "  <tbody>\n",
       "    <tr>\n",
       "      <th>0</th>\n",
       "      <td>0.0</td>\n",
       "      <td>0.0</td>\n",
       "      <td>0.0</td>\n",
       "      <td>0.0</td>\n",
       "      <td>0.0</td>\n",
       "      <td>0.0</td>\n",
       "      <td>0.0</td>\n",
       "      <td>0.0</td>\n",
       "      <td>0.0</td>\n",
       "      <td>0.0</td>\n",
       "      <td>...</td>\n",
       "      <td>0.0</td>\n",
       "      <td>0.0</td>\n",
       "      <td>0.0</td>\n",
       "      <td>0.0</td>\n",
       "      <td>0.0</td>\n",
       "      <td>0.0</td>\n",
       "      <td>0.0</td>\n",
       "      <td>0.0</td>\n",
       "      <td>0.0</td>\n",
       "      <td>0.0</td>\n",
       "    </tr>\n",
       "    <tr>\n",
       "      <th>1</th>\n",
       "      <td>0.0</td>\n",
       "      <td>0.0</td>\n",
       "      <td>0.0</td>\n",
       "      <td>0.0</td>\n",
       "      <td>0.0</td>\n",
       "      <td>0.0</td>\n",
       "      <td>0.0</td>\n",
       "      <td>0.0</td>\n",
       "      <td>0.0</td>\n",
       "      <td>0.0</td>\n",
       "      <td>...</td>\n",
       "      <td>0.0</td>\n",
       "      <td>0.0</td>\n",
       "      <td>0.0</td>\n",
       "      <td>0.0</td>\n",
       "      <td>0.0</td>\n",
       "      <td>0.0</td>\n",
       "      <td>0.0</td>\n",
       "      <td>0.0</td>\n",
       "      <td>0.0</td>\n",
       "      <td>0.0</td>\n",
       "    </tr>\n",
       "    <tr>\n",
       "      <th>2</th>\n",
       "      <td>0.0</td>\n",
       "      <td>0.0</td>\n",
       "      <td>0.0</td>\n",
       "      <td>0.0</td>\n",
       "      <td>0.0</td>\n",
       "      <td>0.0</td>\n",
       "      <td>0.0</td>\n",
       "      <td>0.0</td>\n",
       "      <td>0.0</td>\n",
       "      <td>0.0</td>\n",
       "      <td>...</td>\n",
       "      <td>0.0</td>\n",
       "      <td>0.0</td>\n",
       "      <td>0.0</td>\n",
       "      <td>0.0</td>\n",
       "      <td>0.0</td>\n",
       "      <td>0.0</td>\n",
       "      <td>0.0</td>\n",
       "      <td>0.0</td>\n",
       "      <td>0.0</td>\n",
       "      <td>0.0</td>\n",
       "    </tr>\n",
       "    <tr>\n",
       "      <th>3</th>\n",
       "      <td>0.0</td>\n",
       "      <td>0.0</td>\n",
       "      <td>0.0</td>\n",
       "      <td>0.0</td>\n",
       "      <td>0.0</td>\n",
       "      <td>0.0</td>\n",
       "      <td>0.0</td>\n",
       "      <td>0.0</td>\n",
       "      <td>0.0</td>\n",
       "      <td>0.0</td>\n",
       "      <td>...</td>\n",
       "      <td>0.0</td>\n",
       "      <td>0.0</td>\n",
       "      <td>0.0</td>\n",
       "      <td>0.0</td>\n",
       "      <td>0.0</td>\n",
       "      <td>0.0</td>\n",
       "      <td>0.0</td>\n",
       "      <td>0.0</td>\n",
       "      <td>0.0</td>\n",
       "      <td>0.0</td>\n",
       "    </tr>\n",
       "    <tr>\n",
       "      <th>4</th>\n",
       "      <td>0.0</td>\n",
       "      <td>0.0</td>\n",
       "      <td>0.0</td>\n",
       "      <td>0.0</td>\n",
       "      <td>0.0</td>\n",
       "      <td>0.0</td>\n",
       "      <td>0.0</td>\n",
       "      <td>0.0</td>\n",
       "      <td>0.0</td>\n",
       "      <td>0.0</td>\n",
       "      <td>...</td>\n",
       "      <td>0.0</td>\n",
       "      <td>0.0</td>\n",
       "      <td>0.0</td>\n",
       "      <td>0.0</td>\n",
       "      <td>0.0</td>\n",
       "      <td>0.0</td>\n",
       "      <td>0.0</td>\n",
       "      <td>0.0</td>\n",
       "      <td>0.0</td>\n",
       "      <td>0.0</td>\n",
       "    </tr>\n",
       "  </tbody>\n",
       "</table>\n",
       "<p>5 rows × 4548 columns</p>\n",
       "</div>"
      ],
      "text/plain": [
       "    同学   同心   同志   同意   同比   同舟   同行   同袍  同观路   同途  ...  龙口市   龙吉   龙城   龙山  \\\n",
       "0  0.0  0.0  0.0  0.0  0.0  0.0  0.0  0.0  0.0  0.0  ...  0.0  0.0  0.0  0.0   \n",
       "1  0.0  0.0  0.0  0.0  0.0  0.0  0.0  0.0  0.0  0.0  ...  0.0  0.0  0.0  0.0   \n",
       "2  0.0  0.0  0.0  0.0  0.0  0.0  0.0  0.0  0.0  0.0  ...  0.0  0.0  0.0  0.0   \n",
       "3  0.0  0.0  0.0  0.0  0.0  0.0  0.0  0.0  0.0  0.0  ...  0.0  0.0  0.0  0.0   \n",
       "4  0.0  0.0  0.0  0.0  0.0  0.0  0.0  0.0  0.0  0.0  ...  0.0  0.0  0.0  0.0   \n",
       "\n",
       "   龙山镇   龙庭   龙桥  龙永段   龙背   龙舟  \n",
       "0  0.0  0.0  0.0  0.0  0.0  0.0  \n",
       "1  0.0  0.0  0.0  0.0  0.0  0.0  \n",
       "2  0.0  0.0  0.0  0.0  0.0  0.0  \n",
       "3  0.0  0.0  0.0  0.0  0.0  0.0  \n",
       "4  0.0  0.0  0.0  0.0  0.0  0.0  \n",
       "\n",
       "[5 rows x 4548 columns]"
      ]
     },
     "execution_count": 34,
     "metadata": {},
     "output_type": "execute_result"
    }
   ],
   "source": [
    "a = pd.read_csv('../02Data/完整数据_暴雨_交通_pre_vec_TFIDF.csv')\n",
    "a.head()"
   ]
  },
  {
   "cell_type": "markdown",
   "metadata": {},
   "source": [
    "## 7 特征词选择"
   ]
  },
  {
   "cell_type": "code",
   "execution_count": 35,
   "metadata": {},
   "outputs": [
    {
     "name": "stdout",
     "output_type": "stream",
     "text": [
      "移动 共享 ， 共享 汽车 ， 共享 经济 ， 共享 单车\n",
      "财经 栏目 ， 财经 政策 ， 经济 政策 ， 共享 经济\n",
      "+++++使用 CountVectorizer\n",
      "  (0, 5)\t1\n",
      "  (0, 0)\t4\n",
      "  (0, 4)\t1\n",
      "  (0, 6)\t1\n",
      "  (0, 1)\t1\n",
      "  (1, 0)\t1\n",
      "  (1, 6)\t2\n",
      "  (1, 7)\t2\n",
      "  (1, 3)\t1\n",
      "  (1, 2)\t2\n",
      "['共享' '单车' '政策' '栏目' '汽车' '移动' '经济' '财经']\n",
      "[[4 1 0 0 1 1 1 0]\n",
      " [1 0 2 1 0 0 2 2]]\n",
      "   共享  单车  政策  栏目  汽车  移动  经济  财经\n",
      "0   4   1   0   0   1   1   1   0\n",
      "1   1   0   2   1   0   0   2   2\n",
      "+++++使用 TfidfVectorizer\n",
      "  (0, 1)\t0.2935323404273021\n",
      "  (0, 6)\t0.20885067778197156\n",
      "  (0, 4)\t0.2935323404273021\n",
      "  (0, 0)\t0.8354027111278862\n",
      "  (0, 5)\t0.2935323404273021\n",
      "  (1, 2)\t0.5889689090267317\n",
      "  (1, 3)\t0.29448445451336586\n",
      "  (1, 7)\t0.5889689090267317\n",
      "  (1, 6)\t0.41905622959186595\n",
      "  (1, 0)\t0.20952811479593297\n",
      "['共享' '单车' '政策' '栏目' '汽车' '移动' '经济' '财经']\n",
      "[[0.83540271 0.29353234 0.         0.         0.29353234 0.29353234\n",
      "  0.20885068 0.        ]\n",
      " [0.20952811 0.         0.58896891 0.29448445 0.         0.\n",
      "  0.41905623 0.58896891]]\n",
      "         共享        单车        政策        栏目        汽车        移动        经济  \\\n",
      "0  0.835403  0.293532  0.000000  0.000000  0.293532  0.293532  0.208851   \n",
      "1  0.209528  0.000000  0.588969  0.294484  0.000000  0.000000  0.419056   \n",
      "\n",
      "         财经  \n",
      "0  0.000000  \n",
      "1  0.588969  \n"
     ]
    }
   ],
   "source": [
    "# 测试学习\n",
    "import pandas as pd\n",
    "import numpy as np\n",
    "from  sklearn.feature_extraction.text import CountVectorizer\n",
    "from sklearn.feature_extraction.text import TfidfVectorizer\n",
    "import jieba\n",
    "\n",
    "data=[\"移动共享，共享汽车，共享经济，共享单车\",\n",
    "     \"财经栏目，财经政策，经济政策，共享经济\"] \n",
    "\n",
    "# 需要提前分词\n",
    "\n",
    "# 分词\n",
    "cut_data=[]\n",
    "for s in data:\n",
    "    cut_s = jieba.cut(s)\n",
    "    l_cut_s=' '.join(list(cut_s))    \n",
    "    cut_data.append(l_cut_s)\n",
    "    print(l_cut_s)\n",
    "    \n",
    "# 使用 CountVectorizer\n",
    "print(\"+++++使用 CountVectorizer\")\n",
    "transfer = CountVectorizer(stop_words=[\"打算\",\"就是\"]) \n",
    "#实例化一个转换器类,\n",
    "# # stop_words=[\"打算\",\"就是\"],去除不想要的词\n",
    "data_new = transfer.fit_transform(cut_data)  #调用fit_transform()\n",
    "print(data_new)\n",
    "print(transfer.get_feature_names_out())\n",
    "print(data_new.toarray()) \n",
    "#构建成一个二维表：\n",
    "df=pd.DataFrame(data_new.toarray(),columns=transfer.get_feature_names_out())\n",
    "print(df)   \n",
    "\n",
    "# 使用 TfidfVectorizer\n",
    "print(\"+++++使用 TfidfVectorizer\")\n",
    "transfer = TfidfVectorizer() #实例化一个转换器类\n",
    "data_new = transfer.fit_transform(cut_data) #调用fit_transform()\n",
    "print(data_new)\n",
    "print(transfer.get_feature_names_out())\n",
    "print(data_new.toarray()) \n",
    "#构建成一个二维表：\n",
    "df=pd.DataFrame(data_new.toarray(),columns=transfer.get_feature_names_out())\n",
    "print(df)"
   ]
  },
  {
   "cell_type": "code",
   "execution_count": 36,
   "metadata": {},
   "outputs": [],
   "source": [
    "# 使用封装\n",
    "import pandas as pd\n",
    "import numpy as np\n",
    "from sklearn.feature_extraction.text import CountVectorizer\n",
    "from sklearn.feature_extraction.text import TfidfVectorizer\n",
    "\n",
    "def wordVectorizer(word_ls_column, v_type, postag=True):\n",
    "    ls_str=[]\n",
    "    if postag:\n",
    "        for word_tag_ls in word_ls_column:\n",
    "            if word_tag_ls == []: # 避免空的词\n",
    "                word_tag_ls = [('','')]\n",
    "            word_ls = np.array(word_tag_ls)[:, 0].tolist()\n",
    "            tag_ls = np.array(word_tag_ls)[:, 1].tolist()\n",
    "            \n",
    "            strs = ' '.join(word_ls)\n",
    "            ls_str.append(strs)\n",
    "    else:\n",
    "        for word_ls in word_ls_column:\n",
    "            strs = ' '.join(word_ls) \n",
    "            ls_str.append(strs)\n",
    "    \n",
    "    if v_type.upper() == \"TFIDF\":\n",
    "    # TF-IDF(term frequency—inverse document frequency)\n",
    "        transfer = TfidfVectorizer() #实例化一个转换器类\n",
    "    else:\n",
    "        transfer = CountVectorizer()\n",
    "    data_new = transfer.fit_transform(ls_str) #调用fit_transform()\n",
    "    #构建成一个二维表：\n",
    "    df=pd.DataFrame(data_new.toarray(), columns=transfer.get_feature_names_out())\n",
    "    \n",
    "    withWeight = transfer.vocabulary_\n",
    "    return df, withWeight"
   ]
  },
  {
   "cell_type": "code",
   "execution_count": 37,
   "metadata": {},
   "outputs": [
    {
     "name": "stdout",
     "output_type": "stream",
     "text": [
      "<class 'pandas.core.frame.DataFrame'>\n",
      "RangeIndex: 100 entries, 0 to 99\n",
      "Data columns (total 10 columns):\n",
      " #   Column              Non-Null Count  Dtype \n",
      "---  ------              --------------  ----- \n",
      " 0   微博正文                100 non-null    string\n",
      " 1   去噪                  100 non-null    string\n",
      " 2   jieba               100 non-null    object\n",
      " 3   pkuseg              100 non-null    object\n",
      " 4   jieba_stop          100 non-null    object\n",
      " 5   pkuseg_stop         100 non-null    object\n",
      " 6   jieba_postag        100 non-null    object\n",
      " 7   pkuseg_postag       100 non-null    object\n",
      " 8   jieba_postag_stop   100 non-null    object\n",
      " 9   pkuseg_postag_stop  100 non-null    object\n",
      "dtypes: object(8), string(2)\n",
      "memory usage: 7.9+ KB\n"
     ]
    }
   ],
   "source": [
    "tweets.info()"
   ]
  },
  {
   "cell_type": "code",
   "execution_count": 38,
   "metadata": {},
   "outputs": [
    {
     "name": "stdout",
     "output_type": "stream",
     "text": [
      "['面对', '暴雨', '收好', '这份', '避险', '生存', '指南', '蜀黍', '姿势', '近日来', '小时', '暴雨', '记录', '刷新', '接连不断', '罕见', '暴雨', '袭击', '多个', '城市', '熟悉', '交通工具', '变得', '不再', '安全', '远离', '看不见', '危险', '面对', '暴雨', '避险', '脱困', '视频', '收下', '这份', '生存', '指南', '小央', '视频', '微博', '视频']\n",
      "['v', 'n', 'v', 'mq', 'v', 'v', 'n', 'n', 'n', 'l', 'n', 'n', 'n', 'v', 'l', 'a', 'n', 'v', 'm', 'ns', 'v', 'l', 'v', 'd', 'an', 'v', 'v', 'an', 'v', 'n', 'v', 'v', 'n', 'v', 'mq', 'v', 'n', 'n', 'n', 'a', 'n']\n"
     ]
    }
   ],
   "source": [
    "# 测试 获取 单词和词性\n",
    "word_ls_column = tweets[\"jieba_postag_stop\"] # 从excel再读取回来，就不是list 和（）数据了\n",
    "\n",
    "word_tag_ls = word_ls_column[0]\n",
    "word_ls = np.array(word_tag_ls)[:, 0].tolist()\n",
    "tag_ls = np.array(word_tag_ls)[:, 1].tolist()\n",
    "print(word_ls)\n",
    "print(tag_ls)"
   ]
  },
  {
   "cell_type": "code",
   "execution_count": 61,
   "metadata": {},
   "outputs": [
    {
     "name": "stdout",
     "output_type": "stream",
     "text": [
      "<class 'pandas.core.frame.DataFrame'>\n",
      "RangeIndex: 100 entries, 0 to 99\n",
      "Columns: 1619 entries, 一大 to 鼓楼区\n",
      "dtypes: float64(1619)\n",
      "memory usage: 1.2 MB\n"
     ]
    }
   ],
   "source": [
    "# 测试\n",
    "vec_type = \"TFIDF\"\n",
    "word_ls_column = tweets[\"jieba_postag_stop\"]\n",
    "pt = True\n",
    "\n",
    "# word_ls_column = tweets[\"jieba_stop\"]\n",
    "# pt = False\n",
    "\n",
    "word_v, withWeight = wordVectorizer(word_ls_column, vec_type, postag=pt)\n",
    "# word_v.head()\n",
    "word_v.info()\n",
    "# withWeight"
   ]
  },
  {
   "cell_type": "code",
   "execution_count": null,
   "metadata": {},
   "outputs": [],
   "source": []
  },
  {
   "cell_type": "markdown",
   "metadata": {},
   "source": [
    "# 测试"
   ]
  },
  {
   "cell_type": "markdown",
   "metadata": {},
   "source": [
    "### 查看词性的词汇 及 数量对比"
   ]
  },
  {
   "cell_type": "code",
   "execution_count": 64,
   "metadata": {},
   "outputs": [
    {
     "name": "stdout",
     "output_type": "stream",
     "text": [
      "(6237, 2)\n",
      "(6583, 2)\n",
      "['n', 'v', 'ns', 'vn', 'a', 'b', 'd', 't', 'nr', 'f', 'ad', 's', 'j', 'an', 'i', 'm', 'nz', 'r', 'q', 'z', 'l', 'vd', 'nt', 'u', 'p', 'c']\n"
     ]
    },
    {
     "data": {
      "image/png": "[encoded data removed]",
      "text/plain": [
       "<Figure size 1500x800 with 1 Axes>"
      ]
     },
     "metadata": {
      "needs_background": "light"
     },
     "output_type": "display_data"
    }
   ],
   "source": [
    "# jieba分词\n",
    "word_ls_column = tweets[\"jieba_postag_stop\"] # 从excel再读取回来，就不是[(),()] 和数据了\n",
    "word  =[]\n",
    "tag = []\n",
    "for word_tag_ls in word_ls_column: # 遍历一整列的每一行\n",
    "    word_ls = np.array(word_tag_ls)[:, 0].tolist()\n",
    "    tag_ls = np.array(word_tag_ls)[:, 1].tolist()\n",
    "    word.extend(word_ls)\n",
    "    tag.extend(tag_ls)\n",
    "df_jieba = pd.DataFrame({'word': word,\n",
    "                   'tag' : tag})        \n",
    "print(df_jieba.shape)\n",
    "\n",
    "\n",
    "# pkuseg分词\n",
    "word_ls_column = tweets[\"pkuseg_postag_stop\"] # 从excel再读取回来，就不是[(),()] 和数据了\n",
    "word  =[]\n",
    "tag = []\n",
    "for word_tag_ls in word_ls_column: # 遍历一整列的每一行\n",
    "    word_ls = np.array(word_tag_ls)[:, 0].tolist()\n",
    "    tag_ls = np.array(word_tag_ls)[:, 1].tolist()\n",
    "    word.extend(word_ls)\n",
    "    tag.extend(tag_ls)\n",
    "df_pkuseg = pd.DataFrame({'word': word,\n",
    "                   'tag' : tag})        \n",
    "print(df_pkuseg.shape)\n",
    "\n",
    "\n",
    "\n",
    "val_count_jieba = df_jieba['tag'].value_counts()\n",
    "val_count_pkuseg = df_pkuseg['tag'].value_counts()\n",
    "\n",
    "\n",
    "# 找出共同的 词性tag\n",
    "x_tag = []\n",
    "for t in val_count_pkuseg.index:\n",
    "    if t in val_count_jieba.index:\n",
    "        x_tag.append(t)\n",
    "print(x_tag)\n",
    "\n",
    "plt.figure(figsize=(15, 8), dpi=100)\n",
    "plt.plot(x_tag, val_count_jieba.loc[x_tag], marker=\"x\", c='b',ls=\":\", label=\"jiaba\")\n",
    "for a, b in zip(x_tag, val_count_jieba.loc[x_tag]):\n",
    "    plt.text(a, b, \"{}\".format(b), ha='left', va='top', fontsize=12, c='b')\n",
    "\n",
    "plt.plot(x_tag, val_count_pkuseg.loc[x_tag], marker=\"o\", c='r', ls=\"--\", label=\"pkuseg\")\n",
    "for a, b in zip(x_tag, val_count_pkuseg.loc[x_tag]):\n",
    "    plt.text(a, b, \"{}\".format(b), ha='right', va='bottom', fontsize=12, c='r')\n",
    "plt.title(\"对比jieba和pkuseg的分词效果\")\n",
    "plt.legend()\n",
    "\n",
    "plt.savefig(\"./figure/jieba-pkuseg词性分配数量对比.png\")"
   ]
  },
  {
   "cell_type": "code",
   "execution_count": 65,
   "metadata": {},
   "outputs": [
    {
     "name": "stdout",
     "output_type": "stream",
     "text": [
      "Help on function text in module matplotlib.pyplot:\n",
      "\n",
      "text(x, y, s, fontdict=None, **kwargs)\n",
      "    Add text to the Axes.\n",
      "    \n",
      "    Add the text *s* to the Axes at location *x*, *y* in data coordinates.\n",
      "    \n",
      "    Parameters\n",
      "    ----------\n",
      "    x, y : float\n",
      "        The position to place the text. By default, this is in data\n",
      "        coordinates. The coordinate system can be changed using the\n",
      "        *transform* parameter.\n",
      "    \n",
      "    s : str\n",
      "        The text.\n",
      "    \n",
      "    fontdict : dict, default: None\n",
      "        A dictionary to override the default text properties. If fontdict\n",
      "        is None, the defaults are determined by `.rcParams`.\n",
      "    \n",
      "    Returns\n",
      "    -------\n",
      "    `.Text`\n",
      "        The created `.Text` instance.\n",
      "    \n",
      "    Other Parameters\n",
      "    ----------------\n",
      "    **kwargs : `~matplotlib.text.Text` properties.\n",
      "        Other miscellaneous text parameters.\n",
      "    \n",
      "        Properties:\n",
      "        agg_filter: a filter function, which takes a (m, n, 3) float array and a dpi value, and returns a (m, n, 3) array\n",
      "        alpha: scalar or None\n",
      "        animated: bool\n",
      "        backgroundcolor: color\n",
      "        bbox: dict with properties for `.patches.FancyBboxPatch`\n",
      "        clip_box: unknown\n",
      "        clip_on: unknown\n",
      "        clip_path: unknown\n",
      "        color or c: color\n",
      "        figure: `.Figure`\n",
      "        fontfamily or family: {FONTNAME, 'serif', 'sans-serif', 'cursive', 'fantasy', 'monospace'}\n",
      "        fontproperties or font or font_properties: `.font_manager.FontProperties` or `str` or `pathlib.Path`\n",
      "        fontsize or size: float or {'xx-small', 'x-small', 'small', 'medium', 'large', 'x-large', 'xx-large'}\n",
      "        fontstretch or stretch: {a numeric value in range 0-1000, 'ultra-condensed', 'extra-condensed', 'condensed', 'semi-condensed', 'normal', 'semi-expanded', 'expanded', 'extra-expanded', 'ultra-expanded'}\n",
      "        fontstyle or style: {'normal', 'italic', 'oblique'}\n",
      "        fontvariant or variant: {'normal', 'small-caps'}\n",
      "        fontweight or weight: {a numeric value in range 0-1000, 'ultralight', 'light', 'normal', 'regular', 'book', 'medium', 'roman', 'semibold', 'demibold', 'demi', 'bold', 'heavy', 'extra bold', 'black'}\n",
      "        gid: str\n",
      "        horizontalalignment or ha: {'center', 'right', 'left'}\n",
      "        in_layout: bool\n",
      "        label: object\n",
      "        linespacing: float (multiple of font size)\n",
      "        math_fontfamily: str\n",
      "        multialignment or ma: {'left', 'right', 'center'}\n",
      "        parse_math: bool\n",
      "        path_effects: `.AbstractPathEffect`\n",
      "        picker: None or bool or float or callable\n",
      "        position: (float, float)\n",
      "        rasterized: bool\n",
      "        rotation: float or {'vertical', 'horizontal'}\n",
      "        rotation_mode: {None, 'default', 'anchor'}\n",
      "        sketch_params: (scale: float, length: float, randomness: float)\n",
      "        snap: bool or None\n",
      "        text: object\n",
      "        transform: `.Transform`\n",
      "        transform_rotates_text: bool\n",
      "        url: str\n",
      "        usetex: bool or None\n",
      "        verticalalignment or va: {'center', 'top', 'bottom', 'baseline', 'center_baseline'}\n",
      "        visible: bool\n",
      "        wrap: bool\n",
      "        x: float\n",
      "        y: float\n",
      "        zorder: float\n",
      "    \n",
      "    Examples\n",
      "    --------\n",
      "    Individual keyword arguments can be used to override any given\n",
      "    parameter::\n",
      "    \n",
      "        >>> text(x, y, s, fontsize=12)\n",
      "    \n",
      "    The default transform specifies that text is in data coords,\n",
      "    alternatively, you can specify text in axis coords ((0, 0) is\n",
      "    lower-left and (1, 1) is upper-right).  The example below places\n",
      "    text in the center of the Axes::\n",
      "    \n",
      "        >>> text(0.5, 0.5, 'matplotlib', horizontalalignment='center',\n",
      "        ...      verticalalignment='center', transform=ax.transAxes)\n",
      "    \n",
      "    You can put a rectangular box around the text instance (e.g., to\n",
      "    set a background color) by using the keyword *bbox*.  *bbox* is\n",
      "    a dictionary of `~matplotlib.patches.Rectangle`\n",
      "    properties.  For example::\n",
      "    \n",
      "        >>> text(x, y, s, bbox=dict(facecolor='red', alpha=0.5))\n",
      "\n"
     ]
    }
   ],
   "source": [
    "help(plt.text)"
   ]
  },
  {
   "cell_type": "code",
   "execution_count": null,
   "metadata": {},
   "outputs": [],
   "source": []
  },
  {
   "cell_type": "code",
   "execution_count": 66,
   "metadata": {},
   "outputs": [
    {
     "name": "stdout",
     "output_type": "stream",
     "text": [
      "组数：31\n"
     ]
    }
   ],
   "source": [
    "# 使用jieba分词的结果 输出打印\n",
    "grouped_single =  df_jieba.groupby(by='tag') # jieba为例\n",
    "# grouped_single =  df_pkuseg.groupby(by='tag') # pkuseg为例\n",
    "print(f\"组数：{grouped_single.ngroups}\")\n",
    "\n",
    "import os\n",
    "filename = \"../02Data/各词性下的具体词汇信息.txt\"\n",
    "if os.path.exists(filename):\n",
    "    os.remove(filename)\n",
    "\n",
    "with open(filename, 'a') as f:\n",
    "    for name, group in grouped_single:\n",
    "        \n",
    "        f.write(f\"词性: {name}\\n\")\n",
    "        row_len = 20 # 每行打印多少词汇\n",
    "        l = group['word'].shape[0] // row_len\n",
    "        for i in range(l):\n",
    "            f.write(' '.join(group['word'][i* row_len: (i+1)*row_len]))\n",
    "            f.write(\"\\n\")\n",
    "        f.write(' '.join(group['word'][l*row_len:]))\n",
    "        f.write(\"\\n\")\n",
    "        f.write(\"\\n\\n\")\n",
    "\n",
    "        # print(name)\n",
    "        # display(group['word'].head())"
   ]
  },
  {
   "cell_type": "code",
   "execution_count": 67,
   "metadata": {},
   "outputs": [
    {
     "data": {
      "text/plain": [
       "[0, 1, 2, 3, 4, 5]"
      ]
     },
     "execution_count": 67,
     "metadata": {},
     "output_type": "execute_result"
    }
   ],
   "source": [
    "list(range(6))"
   ]
  },
  {
   "cell_type": "code",
   "execution_count": null,
   "metadata": {},
   "outputs": [],
   "source": []
  },
  {
   "cell_type": "markdown",
   "metadata": {},
   "source": [
    "# 最终 Technical Paper"
   ]
  },
  {
   "cell_type": "code",
   "execution_count": 108,
   "metadata": {},
   "outputs": [],
   "source": [
    "text = \"#路况提示#截至16时11分，受暴雨天气影响，应交警要求，S81铜宜高速万宜段万载南站入口封闭，S81铜宜高速铜万段三兴站、罗城站、芳溪站、黄岗站、铜鼓东入口封闭。—ZGL@江西高速@江西交通@江西交通服务热线\"\n"
   ]
  },
  {
   "cell_type": "code",
   "execution_count": 109,
   "metadata": {},
   "outputs": [
    {
     "data": {
      "text/plain": [
       "'截至，受暴雨天气影响，应交警要求，铜宜高速万宜段万载南站入口封闭，铜宜高速铜万段三兴站、罗城站、芳溪站、黄岗站、铜鼓东入口封闭。—'"
      ]
     },
     "execution_count": 109,
     "metadata": {},
     "output_type": "execute_result"
    }
   ],
   "source": [
    "text2 = clear_noise(text)\n",
    "text2"
   ]
  },
  {
   "cell_type": "code",
   "execution_count": 91,
   "metadata": {},
   "outputs": [
    {
     "name": "stdout",
     "output_type": "stream",
     "text": [
      "['#', '路况', '提示', '#', '截至', '，', '受', '暴雨', '天气', '影响', '，', '应', '交警', '要求', '，', '铜宜', '高速', '万宜段', '万载', '南站', '入口', '封闭', '，', '铜宜', '高速', '铜万段', '三兴站', '、', '罗城', '站', '、', '芳溪', '站', '、', '黄岗站', '、', '铜鼓', '东', '入口', '封闭', '。', '—']\n"
     ]
    }
   ],
   "source": [
    "text3 = jieba_segment(text2)\n",
    "print(text3)"
   ]
  },
  {
   "cell_type": "code",
   "execution_count": 106,
   "metadata": {},
   "outputs": [
    {
     "name": "stdout",
     "output_type": "stream",
     "text": [
      "[('#', 'v'), ('路况', 'n'), ('提示', 'v'), ('#', 'n'), ('截至', 'v'), ('，', 'w'), ('受', 'v'), ('暴雨', 'n'), ('天气', 'n'), ('影响', 'vn'), ('，', 'w'), ('应', 'v'), ('交警', 'n'), ('要求', 'v'), ('，', 'w'), ('铜宜', 'ns'), ('高速', 'b'), ('万宜', 'ns'), ('段', 'n'), ('万载', 'b'), ('南站', 'ns'), ('入口', 'n'), ('封闭', 'v'), ('，', 'w'), ('铜宜', 'n'), ('高速', 'b'), ('铜', 'n'), ('万', 'm'), ('段', 'q'), ('三兴站', 'j'), ('、', 'w'), ('罗城站', 'ns'), ('、', 'w'), ('芳溪站', 'n'), ('、', 'w'), ('黄岗站', 'ns'), ('、', 'w'), ('铜鼓东', 'ns'), ('入口', 'n'), ('封闭', 'v'), ('。', 'w'), ('—', 'w')]\n"
     ]
    }
   ],
   "source": [
    "text3_1 = pkuseg_postag(text2)\n",
    "print(text3_1)"
   ]
  },
  {
   "cell_type": "code",
   "execution_count": null,
   "metadata": {},
   "outputs": [],
   "source": [
    "text3_2 = jieba_postag(text2)\n",
    "print(text3_1)"
   ]
  },
  {
   "cell_type": "code",
   "execution_count": 104,
   "metadata": {},
   "outputs": [
    {
     "name": "stdout",
     "output_type": "stream",
     "text": [
      "[('路况', 'n'), ('提示', 'v'), ('截至', 'v'), ('暴雨', 'n'), ('天气', 'n'), ('影响', 'vn'), ('交警', 'j'), ('要求', 'v'), ('高速', 'd'), ('万载', 'm'), ('南站', 'ns'), ('入口', 'ns'), ('封闭', 'v'), ('高速', 'd'), ('万段', 'm'), ('三兴', 'b'), ('罗城', 'ns'), ('黄岗', 'nr'), ('铜鼓', 'n'), ('入口', 'ns'), ('封闭', 'v')]\n"
     ]
    }
   ],
   "source": [
    "\n",
    "stopword_file = \"../05stopwords/hit_stopwords.txt\"\n",
    "postag = True\n",
    "stop_postag = []\n",
    "user_file = \"../05stopwords/user_stopwords.txt\"\n",
    "\n",
    "res = clear_stopword(text3_1, stopword_file, postag, stop_postag, user_file) # 去噪\n",
    "print(res)"
   ]
  }
 ],
 "metadata": {
  "kernelspec": {
   "display_name": "Python 3.7.9 ('weibo': venv)",
   "language": "python",
   "name": "python3"
  },
  "language_info": {
   "codemirror_mode": {
    "name": "ipython",
    "version": 3
   },
   "file_extension": ".py",
   "mimetype": "text/x-python",
   "name": "python",
   "nbconvert_exporter": "python",
   "pygments_lexer": "ipython3",
   "version": "3.7.9"
  },
  "orig_nbformat": 4,
  "vscode": {
   "interpreter": {
    "hash": "980e5277f2db5a768bb75a54045553d8a5c45dc8426da588e067f30919fe5369"
   }
  }
 },
 "nbformat": 4,
 "nbformat_minor": 2
}
