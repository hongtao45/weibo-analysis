{
 "cells": [
  {
   "cell_type": "markdown",
   "metadata": {},
   "source": [
    "## 导入数据\n",
    "\n",
    "导入包，导入数据（两个不同文件"
   ]
  },
  {
   "cell_type": "code",
   "execution_count": 1,
   "metadata": {},
   "outputs": [],
   "source": [
    "import pandas as pd\n",
    "import numpy as np\n",
    "import matplotlib.pyplot as plt"
   ]
  },
  {
   "cell_type": "code",
   "execution_count": 5,
   "metadata": {},
   "outputs": [
    {
     "data": {
      "text/html": [
       "<div>\n",
       "<style scoped>\n",
       "    .dataframe tbody tr th:only-of-type {\n",
       "        vertical-align: middle;\n",
       "    }\n",
       "\n",
       "    .dataframe tbody tr th {\n",
       "        vertical-align: top;\n",
       "    }\n",
       "\n",
       "    .dataframe thead th {\n",
       "        text-align: right;\n",
       "    }\n",
       "</style>\n",
       "<table border=\"1\" class=\"dataframe\">\n",
       "  <thead>\n",
       "    <tr style=\"text-align: right;\">\n",
       "      <th></th>\n",
       "      <th>微博正文</th>\n",
       "      <th>clean_word</th>\n",
       "      <th>clean_stopwords</th>\n",
       "      <th>Label</th>\n",
       "    </tr>\n",
       "  </thead>\n",
       "  <tbody>\n",
       "    <tr>\n",
       "      <th>0</th>\n",
       "      <td>【面对暴雨，请收好这份#避险生存指南#】#蜀黍带你涨姿势#近日来，河南两小时暴雨记录又被刷新...</td>\n",
       "      <td>【面对暴雨，请收好这份#避险生存指南#】#蜀黍带你涨姿势#近日来，河南两小时暴雨记录又被刷新...</td>\n",
       "      <td>['面对', '暴雨', '请', '收好', '这份', '避险', '生存', '指南'...</td>\n",
       "      <td>0</td>\n",
       "    </tr>\n",
       "    <tr>\n",
       "      <th>1</th>\n",
       "      <td>#河南高速路况#截至2021年9月9日,19:00，目前省内高速通行情况：1、因收费站临时抢...</td>\n",
       "      <td>#河南高速路况#截至,:，目前省内高速通行情况：、因收费站临时抢修施工，菏宝高速新乡东站（北...</td>\n",
       "      <td>['河南', '高速', '路况', '截至', '目前', '省内', '高速', '通行...</td>\n",
       "      <td>1</td>\n",
       "    </tr>\n",
       "  </tbody>\n",
       "</table>\n",
       "</div>"
      ],
      "text/plain": [
       "                                                微博正文  \\\n",
       "0  【面对暴雨，请收好这份#避险生存指南#】#蜀黍带你涨姿势#近日来，河南两小时暴雨记录又被刷新...   \n",
       "1  #河南高速路况#截至2021年9月9日,19:00，目前省内高速通行情况：1、因收费站临时抢...   \n",
       "\n",
       "                                          clean_word  \\\n",
       "0  【面对暴雨，请收好这份#避险生存指南#】#蜀黍带你涨姿势#近日来，河南两小时暴雨记录又被刷新...   \n",
       "1  #河南高速路况#截至,:，目前省内高速通行情况：、因收费站临时抢修施工，菏宝高速新乡东站（北...   \n",
       "\n",
       "                                     clean_stopwords  Label  \n",
       "0  ['面对', '暴雨', '请', '收好', '这份', '避险', '生存', '指南'...      0  \n",
       "1  ['河南', '高速', '路况', '截至', '目前', '省内', '高速', '通行...      1  "
      ]
     },
     "execution_count": 5,
     "metadata": {},
     "output_type": "execute_result"
    }
   ],
   "source": [
    "data1 = pd.read_excel(\"../02Data/完整数据_暴雨_交通_pre_tweets_TFIDF_Label.xlsx\", index_col=0)\n",
    "data1.head(2)"
   ]
  },
  {
   "cell_type": "code",
   "execution_count": 6,
   "metadata": {},
   "outputs": [
    {
     "data": {
      "text/html": [
       "<div>\n",
       "<style scoped>\n",
       "    .dataframe tbody tr th:only-of-type {\n",
       "        vertical-align: middle;\n",
       "    }\n",
       "\n",
       "    .dataframe tbody tr th {\n",
       "        vertical-align: top;\n",
       "    }\n",
       "\n",
       "    .dataframe thead th {\n",
       "        text-align: right;\n",
       "    }\n",
       "</style>\n",
       "<table border=\"1\" class=\"dataframe\">\n",
       "  <thead>\n",
       "    <tr style=\"text-align: right;\">\n",
       "      <th></th>\n",
       "      <th>同学</th>\n",
       "      <th>同心</th>\n",
       "      <th>同志</th>\n",
       "      <th>同意</th>\n",
       "      <th>同比</th>\n",
       "      <th>同舟</th>\n",
       "      <th>同行</th>\n",
       "      <th>同袍</th>\n",
       "      <th>同观路</th>\n",
       "      <th>同途</th>\n",
       "      <th>...</th>\n",
       "      <th>龙口市</th>\n",
       "      <th>龙吉</th>\n",
       "      <th>龙城</th>\n",
       "      <th>龙山</th>\n",
       "      <th>龙山镇</th>\n",
       "      <th>龙庭</th>\n",
       "      <th>龙桥</th>\n",
       "      <th>龙永段</th>\n",
       "      <th>龙背</th>\n",
       "      <th>龙舟</th>\n",
       "    </tr>\n",
       "  </thead>\n",
       "  <tbody>\n",
       "    <tr>\n",
       "      <th>0</th>\n",
       "      <td>0.0</td>\n",
       "      <td>0.0</td>\n",
       "      <td>0.0</td>\n",
       "      <td>0.0</td>\n",
       "      <td>0.0</td>\n",
       "      <td>0.0</td>\n",
       "      <td>0.0</td>\n",
       "      <td>0.0</td>\n",
       "      <td>0.0</td>\n",
       "      <td>0.0</td>\n",
       "      <td>...</td>\n",
       "      <td>0.0</td>\n",
       "      <td>0.0</td>\n",
       "      <td>0.0</td>\n",
       "      <td>0.0</td>\n",
       "      <td>0.0</td>\n",
       "      <td>0.0</td>\n",
       "      <td>0.0</td>\n",
       "      <td>0.0</td>\n",
       "      <td>0.0</td>\n",
       "      <td>0.0</td>\n",
       "    </tr>\n",
       "    <tr>\n",
       "      <th>1</th>\n",
       "      <td>0.0</td>\n",
       "      <td>0.0</td>\n",
       "      <td>0.0</td>\n",
       "      <td>0.0</td>\n",
       "      <td>0.0</td>\n",
       "      <td>0.0</td>\n",
       "      <td>0.0</td>\n",
       "      <td>0.0</td>\n",
       "      <td>0.0</td>\n",
       "      <td>0.0</td>\n",
       "      <td>...</td>\n",
       "      <td>0.0</td>\n",
       "      <td>0.0</td>\n",
       "      <td>0.0</td>\n",
       "      <td>0.0</td>\n",
       "      <td>0.0</td>\n",
       "      <td>0.0</td>\n",
       "      <td>0.0</td>\n",
       "      <td>0.0</td>\n",
       "      <td>0.0</td>\n",
       "      <td>0.0</td>\n",
       "    </tr>\n",
       "  </tbody>\n",
       "</table>\n",
       "<p>2 rows × 4548 columns</p>\n",
       "</div>"
      ],
      "text/plain": [
       "    同学   同心   同志   同意   同比   同舟   同行   同袍  同观路   同途  ...  龙口市   龙吉   龙城   龙山  \\\n",
       "0  0.0  0.0  0.0  0.0  0.0  0.0  0.0  0.0  0.0  0.0  ...  0.0  0.0  0.0  0.0   \n",
       "1  0.0  0.0  0.0  0.0  0.0  0.0  0.0  0.0  0.0  0.0  ...  0.0  0.0  0.0  0.0   \n",
       "\n",
       "   龙山镇   龙庭   龙桥  龙永段   龙背   龙舟  \n",
       "0  0.0  0.0  0.0  0.0  0.0  0.0  \n",
       "1  0.0  0.0  0.0  0.0  0.0  0.0  \n",
       "\n",
       "[2 rows x 4548 columns]"
      ]
     },
     "execution_count": 6,
     "metadata": {},
     "output_type": "execute_result"
    }
   ],
   "source": [
    "data2 = pd.read_csv(\"../02Data/完整数据_暴雨_交通_pre_vec_TFIDF.csv\")\n",
    "data2.head(2)"
   ]
  },
  {
   "cell_type": "code",
   "execution_count": 7,
   "metadata": {},
   "outputs": [],
   "source": [
    "y= data1.iloc[:, -1]\n",
    "x = data2"
   ]
  },
  {
   "cell_type": "code",
   "execution_count": 8,
   "metadata": {},
   "outputs": [
    {
     "name": "stdout",
     "output_type": "stream",
     "text": [
      "(1093, 3521)\n",
      "(1093,)\n"
     ]
    }
   ],
   "source": [
    "x = pd.read_csv('../02Data/5006_final_微博数据集-TFIDF.csv')\n",
    "y = pd.read_excel('../02Data/5006_final_微博数据集.xlsx').iloc[:, -1]\n",
    "print(x.shape)\n",
    "print(y.shape)"
   ]
  },
  {
   "cell_type": "markdown",
   "metadata": {},
   "source": [
    "## 决策树\n",
    "decision_tree"
   ]
  },
  {
   "cell_type": "code",
   "execution_count": 9,
   "metadata": {},
   "outputs": [],
   "source": [
    "from sklearn.tree import DecisionTreeClassifier\n",
    "from sklearn.model_selection import train_test_split\n",
    "from sklearn.model_selection import GridSearchCV\n",
    "from sklearn.model_selection import cross_val_score"
   ]
  },
  {
   "cell_type": "code",
   "execution_count": 10,
   "metadata": {},
   "outputs": [],
   "source": [
    "Xtrain, Xtest, Ytrain, Ytest = train_test_split(x, y, test_size=0.3, random_state=420)"
   ]
  },
  {
   "cell_type": "code",
   "execution_count": 11,
   "metadata": {},
   "outputs": [],
   "source": [
    "from sklearn.metrics import roc_auc_score, recall_score,precision_score,f1_score"
   ]
  },
  {
   "cell_type": "code",
   "execution_count": 12,
   "metadata": {},
   "outputs": [
    {
     "name": "stdout",
     "output_type": "stream",
     "text": [
      "0.8445121951219512\n",
      "0.782608695652174\n",
      "0.8495575221238938\n",
      "0.9290322580645162\n",
      "0.8531099033816425\n"
     ]
    }
   ],
   "source": [
    "clf = DecisionTreeClassifier(random_state=25,max_depth=4,criterion=\"entropy\")\n",
    "\n",
    "clf = clf.fit(Xtrain, Ytrain)\n",
    "score_ = clf.score(Xtest, Ytest)\n",
    "result=clf.predict(Xtest)\n",
    "precision_score_=precision_score(Ytest, result)\n",
    "recall_=recall_score(Ytest, result)\n",
    "f1_score_=f1_score(Ytest, result)\n",
    "auc=roc_auc_score(Ytest,result)\n",
    "print(score_)\n",
    "print(recall_)\n",
    "print(f1_score_)\n",
    "print(precision_score_)\n",
    "print(auc)\n",
    "\n"
   ]
  },
  {
   "cell_type": "code",
   "execution_count": 13,
   "metadata": {},
   "outputs": [],
   "source": [
    "from sklearn.ensemble import  AdaBoostClassifier\n",
    "import warnings\n",
    "warnings.filterwarnings('ignore') # 这种最好还是不要用，不报错了，但结果容易有问题"
   ]
  },
  {
   "cell_type": "code",
   "execution_count": 14,
   "metadata": {},
   "outputs": [
    {
     "data": {
      "text/plain": [
       "0.8963414634146342"
      ]
     },
     "execution_count": 14,
     "metadata": {},
     "output_type": "execute_result"
    }
   ],
   "source": [
    "model = AdaBoostClassifier(DecisionTreeClassifier(random_state=25,max_depth=4,criterion=\"entropy\"),\n",
    "                           algorithm=\"SAMME\",\n",
    "                           learning_rate=0.3,\n",
    "                           n_estimators=50,\n",
    "                           random_state=420)\n",
    "model = model.fit(Xtrain, Ytrain)\n",
    "score_AdaDTC = model.score(Xtest, Ytest)\n",
    "score_AdaDTC"
   ]
  },
  {
   "cell_type": "code",
   "execution_count": 15,
   "metadata": {},
   "outputs": [
    {
     "data": {
      "text/plain": [
       "DecisionTreeClassifier(criterion='entropy', max_depth=4, random_state=25)"
      ]
     },
     "execution_count": 15,
     "metadata": {},
     "output_type": "execute_result"
    }
   ],
   "source": [
    "model.base_estimator_"
   ]
  },
  {
   "cell_type": "code",
   "execution_count": 16,
   "metadata": {},
   "outputs": [
    {
     "data": {
      "text/plain": [
       "[DecisionTreeClassifier(criterion='entropy', max_depth=4,\n",
       "                        random_state=1355688881),\n",
       " DecisionTreeClassifier(criterion='entropy', max_depth=4, random_state=36893768),\n",
       " DecisionTreeClassifier(criterion='entropy', max_depth=4,\n",
       "                        random_state=1945751942),\n",
       " DecisionTreeClassifier(criterion='entropy', max_depth=4, random_state=689590847),\n",
       " DecisionTreeClassifier(criterion='entropy', max_depth=4,\n",
       "                        random_state=1146680095),\n",
       " DecisionTreeClassifier(criterion='entropy', max_depth=4,\n",
       "                        random_state=1613220467),\n",
       " DecisionTreeClassifier(criterion='entropy', max_depth=4, random_state=467842990),\n",
       " DecisionTreeClassifier(criterion='entropy', max_depth=4, random_state=464520377),\n",
       " DecisionTreeClassifier(criterion='entropy', max_depth=4,\n",
       "                        random_state=1581263002),\n",
       " DecisionTreeClassifier(criterion='entropy', max_depth=4,\n",
       "                        random_state=1612513546),\n",
       " DecisionTreeClassifier(criterion='entropy', max_depth=4, random_state=557179720),\n",
       " DecisionTreeClassifier(criterion='entropy', max_depth=4,\n",
       "                        random_state=1801932414),\n",
       " DecisionTreeClassifier(criterion='entropy', max_depth=4,\n",
       "                        random_state=1514056343),\n",
       " DecisionTreeClassifier(criterion='entropy', max_depth=4, random_state=232605326),\n",
       " DecisionTreeClassifier(criterion='entropy', max_depth=4, random_state=290071782),\n",
       " DecisionTreeClassifier(criterion='entropy', max_depth=4, random_state=606880468),\n",
       " DecisionTreeClassifier(criterion='entropy', max_depth=4, random_state=542671651),\n",
       " DecisionTreeClassifier(criterion='entropy', max_depth=4,\n",
       "                        random_state=1594032280),\n",
       " DecisionTreeClassifier(criterion='entropy', max_depth=4, random_state=423745156),\n",
       " DecisionTreeClassifier(criterion='entropy', max_depth=4,\n",
       "                        random_state=1966746453),\n",
       " DecisionTreeClassifier(criterion='entropy', max_depth=4, random_state=396070070),\n",
       " DecisionTreeClassifier(criterion='entropy', max_depth=4,\n",
       "                        random_state=1827150272),\n",
       " DecisionTreeClassifier(criterion='entropy', max_depth=4, random_state=244175565),\n",
       " DecisionTreeClassifier(criterion='entropy', max_depth=4, random_state=255157981),\n",
       " DecisionTreeClassifier(criterion='entropy', max_depth=4,\n",
       "                        random_state=1018475045),\n",
       " DecisionTreeClassifier(criterion='entropy', max_depth=4, random_state=357138629),\n",
       " DecisionTreeClassifier(criterion='entropy', max_depth=4,\n",
       "                        random_state=1011051055),\n",
       " DecisionTreeClassifier(criterion='entropy', max_depth=4,\n",
       "                        random_state=1298626636),\n",
       " DecisionTreeClassifier(criterion='entropy', max_depth=4,\n",
       "                        random_state=1178416120),\n",
       " DecisionTreeClassifier(criterion='entropy', max_depth=4, random_state=126751263),\n",
       " DecisionTreeClassifier(criterion='entropy', max_depth=4, random_state=182970475),\n",
       " DecisionTreeClassifier(criterion='entropy', max_depth=4, random_state=93418888),\n",
       " DecisionTreeClassifier(criterion='entropy', max_depth=4,\n",
       "                        random_state=1523404639),\n",
       " DecisionTreeClassifier(criterion='entropy', max_depth=4,\n",
       "                        random_state=2047921538),\n",
       " DecisionTreeClassifier(criterion='entropy', max_depth=4,\n",
       "                        random_state=2015055225),\n",
       " DecisionTreeClassifier(criterion='entropy', max_depth=4, random_state=393148475),\n",
       " DecisionTreeClassifier(criterion='entropy', max_depth=4,\n",
       "                        random_state=1149246981),\n",
       " DecisionTreeClassifier(criterion='entropy', max_depth=4,\n",
       "                        random_state=1523574006),\n",
       " DecisionTreeClassifier(criterion='entropy', max_depth=4,\n",
       "                        random_state=1561292084),\n",
       " DecisionTreeClassifier(criterion='entropy', max_depth=4, random_state=934635365),\n",
       " DecisionTreeClassifier(criterion='entropy', max_depth=4,\n",
       "                        random_state=1192370879),\n",
       " DecisionTreeClassifier(criterion='entropy', max_depth=4, random_state=345286093),\n",
       " DecisionTreeClassifier(criterion='entropy', max_depth=4, random_state=970233785),\n",
       " DecisionTreeClassifier(criterion='entropy', max_depth=4, random_state=831629340),\n",
       " DecisionTreeClassifier(criterion='entropy', max_depth=4,\n",
       "                        random_state=1118363159),\n",
       " DecisionTreeClassifier(criterion='entropy', max_depth=4,\n",
       "                        random_state=1557225839),\n",
       " DecisionTreeClassifier(criterion='entropy', max_depth=4,\n",
       "                        random_state=1895735727),\n",
       " DecisionTreeClassifier(criterion='entropy', max_depth=4,\n",
       "                        random_state=1009757320),\n",
       " DecisionTreeClassifier(criterion='entropy', max_depth=4, random_state=933883657),\n",
       " DecisionTreeClassifier(criterion='entropy', max_depth=4, random_state=317284731)]"
      ]
     },
     "execution_count": 16,
     "metadata": {},
     "output_type": "execute_result"
    }
   ],
   "source": [
    "model.estimators_"
   ]
  },
  {
   "cell_type": "code",
   "execution_count": 17,
   "metadata": {},
   "outputs": [
    {
     "data": {
      "text/plain": [
       "array([  5,  10,  15,  20,  25,  30,  35,  40,  45,  50,  55,  60,  65,\n",
       "        70,  75,  80,  85,  90,  95, 100, 105, 110, 115, 120, 125, 130,\n",
       "       135, 140, 145, 150, 155, 160, 165, 170, 175, 180, 185, 190, 195,\n",
       "       200, 205, 210, 215, 220, 225, 230, 235, 240, 245, 250, 255, 260,\n",
       "       265, 270, 275, 280, 285, 290, 295, 300, 305, 310, 315, 320, 325,\n",
       "       330, 335, 340, 345, 350, 355, 360, 365, 370, 375, 380, 385, 390,\n",
       "       395, 400, 405, 410, 415, 420, 425, 430, 435, 440, 445, 450, 455,\n",
       "       460, 465, 470, 475, 480, 485, 490, 495, 500])"
      ]
     },
     "execution_count": 17,
     "metadata": {},
     "output_type": "execute_result"
    }
   ],
   "source": [
    "a=np.arange(5,505,5)\n",
    "a"
   ]
  },
  {
   "cell_type": "markdown",
   "metadata": {},
   "source": [
    "### 集成学习测试 clf = AdaBoost"
   ]
  },
  {
   "cell_type": "code",
   "execution_count": 19,
   "metadata": {},
   "outputs": [
    {
     "name": "stderr",
     "output_type": "stream",
     "text": [
      "100%|██████████| 10/10 [00:10<00:00,  1.09s/it]\n"
     ]
    }
   ],
   "source": [
    "AdaDTC_score = []\n",
    "n_estimators_range = np.arange(5,55,5)\n",
    "from tqdm import tqdm # 给你加一个进度条，跑得慢的就可以加，不然干等\n",
    "for i in tqdm(n_estimators_range):\n",
    "    clf = AdaBoostClassifier(DecisionTreeClassifier(random_state=25,max_depth=4,criterion=\"entropy\"),\n",
    "                           algorithm=\"SAMME\",\n",
    "                           learning_rate=0.3,\n",
    "                           n_estimators = i, # 这一行是我加的\n",
    "                           random_state=420).fit(Xtrain, Ytrain)\n",
    "    AdaDTC_score.append(clf.score(Xtest, Ytest))"
   ]
  },
  {
   "cell_type": "code",
   "execution_count": 20,
   "metadata": {},
   "outputs": [
    {
     "name": "stdout",
     "output_type": "stream",
     "text": [
      "0.899390243902439 25\n"
     ]
    },
    {
     "data": {
      "image/png": "[encoded data removed]",
      "text/plain": [
       "<Figure size 600x400 with 1 Axes>"
      ]
     },
     "metadata": {
      "needs_background": "light"
     },
     "output_type": "display_data"
    }
   ],
   "source": [
    "print(max(AdaDTC_score), n_estimators_range[AdaDTC_score.index(max(AdaDTC_score))])\n",
    "plt.figure(dpi=100)\n",
    "plt.plot(n_estimators_range, AdaDTC_score, marker='o')\n",
    "\n",
    "#for a, b in zip(n_estimators_range, AdaDTC_score):\n",
    "    #plt.text(a, b, \"{:.3f}\".format(b), ha='center', va='bottom', fontsize=8)\n",
    "\n",
    "plt.title('AdaBoost-accuracy-learn-curve')\n",
    "plt.xlabel('n_estimators')\n",
    "plt.ylabel('accuracy')\n",
    "#plt.savefig('SVC(kernel=rbf)-Learn-curve2.png',facecolor='white')\n",
    "plt.show()"
   ]
  },
  {
   "cell_type": "markdown",
   "metadata": {},
   "source": [
    "### 测试 max_depth"
   ]
  },
  {
   "cell_type": "code",
   "execution_count": 24,
   "metadata": {},
   "outputs": [
    {
     "name": "stderr",
     "output_type": "stream",
     "text": [
      "100%|██████████| 15/15 [00:14<00:00,  1.02it/s]"
     ]
    },
    {
     "name": "stdout",
     "output_type": "stream",
     "text": [
      "0.9647058823529412\n",
      "0.8526355296080068\n"
     ]
    },
    {
     "name": "stderr",
     "output_type": "stream",
     "text": [
      "\n"
     ]
    }
   ],
   "source": [
    "tr = []\n",
    "te = []\n",
    "for i in tqdm(range(15)):\n",
    "    clf = DecisionTreeClassifier(random_state=25\n",
    "                                 ,max_depth=i+1\n",
    "                                 ,criterion=\"entropy\"\n",
    "                                )\n",
    "    clf = clf.fit(Xtrain, Ytrain)\n",
    "    score_tr = clf.score(Xtrain,Ytrain)\n",
    "    score_te = cross_val_score(clf,x,y,cv=10).mean()\n",
    "    tr.append(score_tr)\n",
    "    te.append(score_te)\n",
    "\n",
    "print(np.max(tr))\n",
    "print(np.max(te))"
   ]
  },
  {
   "cell_type": "code",
   "execution_count": 23,
   "metadata": {},
   "outputs": [
    {
     "name": "stdout",
     "output_type": "stream",
     "text": [
      "0.8526355296080068\n"
     ]
    },
    {
     "data": {
      "image/png": "[encoded data removed]",
      "text/plain": [
       "<Figure size 720x480 with 1 Axes>"
      ]
     },
     "metadata": {
      "needs_background": "light"
     },
     "output_type": "display_data"
    }
   ],
   "source": [
    "print(max(te))\n",
    "plt.figure(dpi=120)\n",
    "x_rng = np.arange(1, len(tr)+1)\n",
    "plt.plot(x_rng, tr,  marker='o', label=\"train\")\n",
    "plt.plot(x_rng, te,  marker='v', label=\"test\")\n",
    "plt.xticks(x_rng)\n",
    "\n",
    "# 设置数字标签\n",
    "for a, b in zip(x_rng, te):\n",
    "    plt.text(a, b, \"{:.3f}\".format(b), ha='center', va='bottom', fontsize=8)\n",
    "\n",
    "for a, b in zip(x_rng, tr):\n",
    "    plt.text(a, b, \"{:.3f}\".format(b), ha='center', va='bottom', fontsize=8)\n",
    "\n",
    "plt.title('DecisionTree-max_depth-accuracy-learn-curve')\n",
    "plt.xlabel('max_depth')\n",
    "plt.ylabel('accuracy')\n",
    "\n",
    "plt.legend()\n",
    "plt.savefig('Decision-learn-curve.png',facecolor='white') # 保存图片用的\n",
    "plt.show()"
   ]
  },
  {
   "cell_type": "markdown",
   "metadata": {},
   "source": [
    "### 多测试测试\n",
    "    ! 轻易不要跑这个数据"
   ]
  },
  {
   "cell_type": "code",
   "execution_count": null,
   "metadata": {},
   "outputs": [],
   "source": [
    "# #! 轻易不要跑这个数据\n",
    "gini_thresholds = np.linspace(0,0.5,20)\n",
    "\n",
    "parameters = {'splitter':('best','random')\n",
    "              ,'criterion':(\"gini\",\"entropy\")\n",
    "              ,\"max_depth\":[*range(1,10)]\n",
    "              ,'min_samples_leaf':[*range(1,50,5)]\n",
    "              ,'min_impurity_decrease':[*np.linspace(0,0.5,20)]\n",
    "             }\n",
    "\n",
    "clf = DecisionTreeClassifier(random_state=25)\n",
    "GS = GridSearchCV(clf, parameters, cv=10)\n",
    "GS.fit(Xtrain,Ytrain)\n",
    "\n",
    "GS.best_params_\n",
    "\n",
    "GS.best_score_"
   ]
  },
  {
   "cell_type": "code",
   "execution_count": null,
   "metadata": {},
   "outputs": [],
   "source": [
    "GS.best_params_"
   ]
  },
  {
   "cell_type": "markdown",
   "metadata": {},
   "source": [
    "## 朴素贝叶斯"
   ]
  },
  {
   "cell_type": "code",
   "execution_count": 14,
   "metadata": {},
   "outputs": [],
   "source": [
    "from time import time \n",
    "import datetime\n",
    "from sklearn.model_selection import cross_val_score\n",
    "from sklearn.metrics import roc_auc_score, recall_score\n",
    "from sklearn.model_selection import train_test_split"
   ]
  },
  {
   "cell_type": "code",
   "execution_count": 15,
   "metadata": {},
   "outputs": [],
   "source": [
    "Xtrain, Xtest, Ytrain, Ytest = train_test_split(x,y,test_size=0.3,random_state=420)"
   ]
  },
  {
   "cell_type": "code",
   "execution_count": 16,
   "metadata": {},
   "outputs": [],
   "source": [
    "from sklearn.naive_bayes import MultinomialNB, ComplementNB, BernoulliNB\n",
    "from sklearn.metrics import brier_score_loss as BS\n",
    "\n",
    "\n",
    "name = [\"Multinomial\",\"Complement\",\"Bournulli\"]\n",
    "models = [MultinomialNB(),ComplementNB(),BernoulliNB()]"
   ]
  },
  {
   "cell_type": "markdown",
   "metadata": {},
   "source": [
    "### 测试"
   ]
  },
  {
   "cell_type": "code",
   "execution_count": 18,
   "metadata": {},
   "outputs": [
    {
     "name": "stdout",
     "output_type": "stream",
     "text": [
      "Multinomial\n",
      "\tBrier under 0:0.224\n",
      "\tBrier under 1:0.224\n",
      "\tAverage Brier:0.224\n",
      "\tAccuracy:0.640\n",
      "\n",
      "\n",
      "Complement\n",
      "\tBrier under 0:0.222\n",
      "\tBrier under 1:0.222\n",
      "\tAverage Brier:0.222\n",
      "\tAccuracy:0.627\n",
      "\n",
      "\n",
      "Bournulli\n",
      "\tBrier under 0:0.383\n",
      "\tBrier under 1:0.383\n",
      "\tAverage Brier:0.383\n",
      "\tAccuracy:0.573\n",
      "\n",
      "\n"
     ]
    }
   ],
   "source": [
    "for name, clf in zip(name, models):\n",
    "    clf.fit(Xtrain, Ytrain)\n",
    "    y_pred = clf.predict(Xtest)\n",
    "    proba = clf.predict_proba(Xtest)\n",
    "    score = clf.score(Xtest,Ytest)\n",
    "    print(name)\n",
    "    \n",
    "    #2个标签下的布里尔分数\n",
    "    Bscore = []\n",
    "    for i in range(len(np.unique(Ytrain))):\n",
    "        bs = BS(Ytest,proba[:,i],pos_label=i)\n",
    "        Bscore.append(bs)\n",
    "        print(\"\\tBrier under {}:{:.3f}\".format(y[i],bs))\n",
    "        \n",
    "    print(\"\\tAverage Brier:{:.3f}\".format(np.mean(Bscore)))\n",
    "    print(\"\\tAccuracy:{:.3f}\".format(score))\n",
    "    print(\"\\n\")"
   ]
  },
  {
   "cell_type": "code",
   "execution_count": 17,
   "metadata": {},
   "outputs": [
    {
     "name": "stdout",
     "output_type": "stream",
     "text": [
      "0.64\n",
      "0.825\n",
      "0.7096774193548386\n",
      "0.6226415094339622\n",
      "0.6267857142857143\n"
     ]
    }
   ],
   "source": [
    "clf=MultinomialNB().fit(Xtrain, Ytrain)\n",
    "score_ = clf.score(Xtest, Ytest)\n",
    "result=clf.predict(Xtest)\n",
    "precision_score_=precision_score(Ytest, result)\n",
    "recall_=recall_score(Ytest, result)\n",
    "f1_score_=f1_score(Ytest, result)\n",
    "auc=roc_auc_score(Ytest,result)\n",
    "print(score_)\n",
    "print(recall_)\n",
    "print(f1_score_)\n",
    "print(precision_score_)\n",
    "print(auc)"
   ]
  },
  {
   "cell_type": "code",
   "execution_count": 20,
   "metadata": {},
   "outputs": [
    {
     "data": {
      "text/plain": [
       "0.6"
      ]
     },
     "execution_count": 20,
     "metadata": {},
     "output_type": "execute_result"
    }
   ],
   "source": [
    "model = AdaBoostClassifier(MultinomialNB(),\n",
    "                           algorithm=\"SAMME\",\n",
    "                           learning_rate=0.3,\n",
    "                           n_estimators=1000)\n",
    "model = model.fit(Xtrain, Ytrain)\n",
    "score_AdaMulti = model.score(Xtest, Ytest)\n",
    "score_AdaMulti"
   ]
  },
  {
   "cell_type": "code",
   "execution_count": 16,
   "metadata": {},
   "outputs": [],
   "source": [
    "from sklearn.calibration import CalibratedClassifierCV\n",
    "\n",
    "name = [\"Multinomial\"\n",
    "        ,\"Multinomial + Isotonic\"\n",
    "        ,\"Multinomial + Sigmoid\"\n",
    "        ,\"Complement\"\n",
    "        ,\"Complement + Isotonic\"\n",
    "        ,\"Complement + Sigmoid\"\n",
    "        ,\"Bernoulli\"\n",
    "        ,\"Bernoulli + Isotonic\"\n",
    "        ,\"Bernoulli + Sigmoid\"]\n",
    "\n",
    "models = [MultinomialNB()\n",
    "          ,CalibratedClassifierCV(MultinomialNB(), cv=2, method='isotonic')\n",
    "          ,CalibratedClassifierCV(MultinomialNB(), cv=2, method='sigmoid')\n",
    "          ,ComplementNB()\n",
    "          ,CalibratedClassifierCV(ComplementNB(), cv=2, method='isotonic')\n",
    "          ,CalibratedClassifierCV(ComplementNB(), cv=2, method='sigmoid')\n",
    "          ,BernoulliNB()\n",
    "          ,CalibratedClassifierCV(BernoulliNB(), cv=2, method='isotonic')\n",
    "          ,CalibratedClassifierCV(BernoulliNB(), cv=2, method='sigmoid')\n",
    "         ]"
   ]
  },
  {
   "cell_type": "code",
   "execution_count": null,
   "metadata": {},
   "outputs": [
    {
     "name": "stdout",
     "output_type": "stream",
     "text": [
      "Multinomial\n",
      "\tBrier under 0:0.224\n",
      "\tBrier under 1:0.224\n",
      "\tAverage Brier:0.224\n",
      "\tAccuracy:0.640\n",
      "\n",
      "\n",
      "Multinomial + Isotonic\n",
      "\tBrier under 0:0.228\n",
      "\tBrier under 1:0.228\n",
      "\tAverage Brier:0.228\n",
      "\tAccuracy:0.607\n",
      "\n",
      "\n",
      "Multinomial + Sigmoid\n",
      "\tBrier under 0:0.220\n",
      "\tBrier under 1:0.220\n",
      "\tAverage Brier:0.220\n",
      "\tAccuracy:0.600\n",
      "\n",
      "\n",
      "Complement\n",
      "\tBrier under 0:0.222\n",
      "\tBrier under 1:0.222\n",
      "\tAverage Brier:0.222\n",
      "\tAccuracy:0.627\n",
      "\n",
      "\n",
      "Complement + Isotonic\n",
      "\tBrier under 0:0.228\n",
      "\tBrier under 1:0.228\n",
      "\tAverage Brier:0.228\n",
      "\tAccuracy:0.607\n",
      "\n",
      "\n",
      "Complement + Sigmoid\n",
      "\tBrier under 0:0.221\n",
      "\tBrier under 1:0.221\n",
      "\tAverage Brier:0.221\n",
      "\tAccuracy:0.600\n",
      "\n",
      "\n",
      "Bernoulli\n",
      "\tBrier under 0:0.383\n",
      "\tBrier under 1:0.383\n",
      "\tAverage Brier:0.383\n",
      "\tAccuracy:0.573\n",
      "\n",
      "\n",
      "Bernoulli + Isotonic\n",
      "\tBrier under 0:0.234\n",
      "\tBrier under 1:0.234\n",
      "\tAverage Brier:0.234\n",
      "\tAccuracy:0.627\n",
      "\n",
      "\n",
      "Bernoulli + Sigmoid\n",
      "\tBrier under 0:0.239\n",
      "\tBrier under 1:0.239\n",
      "\tAverage Brier:0.239\n",
      "\tAccuracy:0.540\n",
      "\n",
      "\n"
     ]
    }
   ],
   "source": [
    "for name,clf in zip(name,models):\n",
    "    clf.fit(Xtrain,Ytrain)\n",
    "    y_pred = clf.predict(Xtest)\n",
    "    proba = clf.predict_proba(Xtest)\n",
    "    score = clf.score(Xtest,Ytest)\n",
    "    print(name)\n",
    "    Bscore = []\n",
    "    for i in range(len(np.unique(Ytrain))):\n",
    "        bs = BS(Ytest,proba[:,i],pos_label=i)\n",
    "        Bscore.append(bs)\n",
    "        print(\"\\tBrier under {}:{:.3f}\".format(y[i],bs))\n",
    "    print(\"\\tAverage Brier:{:.3f}\".format(np.mean(Bscore)))\n",
    "    print(\"\\tAccuracy:{:.3f}\".format(score))\n",
    "    print(\"\\n\")"
   ]
  },
  {
   "cell_type": "markdown",
   "metadata": {},
   "source": [
    "## 支持向量机"
   ]
  },
  {
   "cell_type": "code",
   "execution_count": 21,
   "metadata": {},
   "outputs": [
    {
     "data": {
      "text/plain": [
       "(500, 4548)"
      ]
     },
     "execution_count": 21,
     "metadata": {},
     "output_type": "execute_result"
    }
   ],
   "source": [
    "from sklearn.feature_selection import VarianceThreshold #删除方差为0的特征\n",
    "selector =VarianceThreshold()\n",
    "x_var0=selector.fit_transform(x)\n",
    "x_var0.shape"
   ]
  },
  {
   "cell_type": "code",
   "execution_count": 21,
   "metadata": {},
   "outputs": [
    {
     "data": {
      "text/plain": [
       "5.499672641527924e-05"
      ]
     },
     "execution_count": 21,
     "metadata": {},
     "output_type": "execute_result"
    }
   ],
   "source": [
    "import numpy as np\n",
    "x.var()\n",
    "np.median(x.var().values)"
   ]
  },
  {
   "cell_type": "code",
   "execution_count": 22,
   "metadata": {},
   "outputs": [],
   "source": [
    "from time import time \n",
    "import datetime\n",
    "from sklearn.svm import SVC\n",
    "from sklearn.model_selection import cross_val_score\n",
    "from sklearn.metrics import roc_auc_score, recall_score\n",
    "from sklearn.model_selection import train_test_split\n",
    "import matplotlib.pyplot as plt"
   ]
  },
  {
   "cell_type": "code",
   "execution_count": 23,
   "metadata": {},
   "outputs": [],
   "source": [
    "Xtrain, Xtest, Ytrain, Ytest = train_test_split(x,y,test_size=0.3,random_state=420)"
   ]
  },
  {
   "cell_type": "code",
   "execution_count": 24,
   "metadata": {},
   "outputs": [
    {
     "name": "stdout",
     "output_type": "stream",
     "text": [
      "linear 's testing accuracy 0.640000, recall is 0.587500', auc is 0.685536\n",
      "00:00:631268\n",
      "poly 's testing accuracy 0.533333, recall is 1.000000', auc is 0.695000\n",
      "00:01:046972\n",
      "rbf 's testing accuracy 0.533333, recall is 1.000000', auc is 0.694464\n",
      "00:01:701575\n",
      "sigmoid 's testing accuracy 0.533333, recall is 1.000000', auc is 0.695000\n",
      "00:02:125669\n"
     ]
    }
   ],
   "source": [
    "times = time() \n",
    "\n",
    "for kernel in [\"linear\",\"poly\",\"rbf\",\"sigmoid\"]:\n",
    "    clf = SVC(kernel = kernel\n",
    "              ,gamma=\"auto\"\n",
    "              ,degree = 1\n",
    "              ,cache_size = 5000\n",
    "             ).fit(Xtrain, Ytrain)\n",
    "    result = clf.predict(Xtest)\n",
    "    score = clf.score(Xtest,Ytest)\n",
    "    recall = recall_score(Ytest, result)\n",
    "    auc = roc_auc_score(Ytest,clf.decision_function(Xtest))\n",
    "    print(\"%s 's testing accuracy %f, recall is %f', auc is %f\" % (kernel,score,recall,auc))\n",
    "    print(datetime.datetime.fromtimestamp(time()-times).strftime(\"%M:%S:%f\"))\n",
    "    "
   ]
  },
  {
   "cell_type": "code",
   "execution_count": 23,
   "metadata": {},
   "outputs": [
    {
     "name": "stdout",
     "output_type": "stream",
     "text": [
      "0.6466666666666666\n",
      "0.6125\n",
      "0.6490066225165563\n",
      "0.6901408450704225\n",
      "0.6491071428571429\n"
     ]
    }
   ],
   "source": [
    "clf=SVC(kernel=\"rbf\",cache_size = 5000,gamma=2.1209508879201926).fit(Xtrain, Ytrain)\n",
    "score_ = clf.score(Xtest, Ytest)\n",
    "result=clf.predict(Xtest)\n",
    "precision_score_=precision_score(Ytest, result)\n",
    "recall_=recall_score(Ytest, result)\n",
    "f1_score_=f1_score(Ytest, result)\n",
    "auc=roc_auc_score(Ytest,result)\n",
    "print(score_)\n",
    "print(recall_)\n",
    "print(f1_score_)\n",
    "print(precision_score_)\n",
    "print(auc)\n"
   ]
  },
  {
   "cell_type": "code",
   "execution_count": 26,
   "metadata": {},
   "outputs": [
    {
     "data": {
      "text/plain": [
       "0.5333333333333333"
      ]
     },
     "execution_count": 26,
     "metadata": {},
     "output_type": "execute_result"
    }
   ],
   "source": [
    "model = AdaBoostClassifier(SVC(),\n",
    "                           algorithm=\"SAMME\",\n",
    "                           learning_rate=0.5,\n",
    "                           n_estimators=500)\n",
    "model = model.fit(Xtrain, Ytrain)\n",
    "score_AdaSVC = model.score(Xtest, Ytest)\n",
    "score_AdaSVC"
   ]
  },
  {
   "cell_type": "code",
   "execution_count": 27,
   "metadata": {},
   "outputs": [
    {
     "data": {
      "text/plain": [
       "1    80\n",
       "0    70\n",
       "Name: Label, dtype: int64"
      ]
     },
     "execution_count": 27,
     "metadata": {},
     "output_type": "execute_result"
    }
   ],
   "source": [
    "Ytest.value_counts()"
   ]
  },
  {
   "cell_type": "markdown",
   "metadata": {},
   "source": [
    "### kernel=\"rbf\" gamma-learn"
   ]
  },
  {
   "cell_type": "code",
   "execution_count": 28,
   "metadata": {},
   "outputs": [],
   "source": [
    "gamma_score = []\n",
    "gamma_range = np.logspace(-10, 1, 50) #返回在对数刻度上均匀间隔的数字\n",
    "for i in gamma_range:\n",
    "    clf = SVC(kernel=\"rbf\", gamma = i, cache_size=5000).fit(Xtrain,Ytrain)\n",
    "    gamma_score.append(clf.score(Xtest, Ytest))"
   ]
  },
  {
   "cell_type": "code",
   "execution_count": 30,
   "metadata": {},
   "outputs": [
    {
     "name": "stdout",
     "output_type": "stream",
     "text": [
      "0.6466666666666666 2.1209508879201926\n"
     ]
    },
    {
     "data": {
      "image/png": "[encoded data removed]",
      "text/plain": [
       "<Figure size 600x400 with 1 Axes>"
      ]
     },
     "metadata": {
      "needs_background": "light"
     },
     "output_type": "display_data"
    }
   ],
   "source": [
    "print(max(gamma_score), gamma_range[gamma_score.index(max(gamma_score))])\n",
    "plt.figure(dpi=100)\n",
    "plt.plot(gamma_range, gamma_score, marker='o')\n",
    "\n",
    "for a, b in zip(gamma_range, gamma_score):\n",
    "    plt.text(a, b, \"{:.3f}\".format(b), ha='center', va='bottom', fontsize=8)\n",
    "\n",
    "plt.title('SVC(kernel=\"rbf\")-gamma-accuracy-learn-curve')\n",
    "plt.xlabel('gamma')\n",
    "plt.ylabel('accuracy')\n",
    "plt.savefig('SVC(kernel=rbf)-Learn-curve2.png',facecolor='white')\n",
    "plt.show()\n",
    " # 保存图片用的"
   ]
  },
  {
   "cell_type": "markdown",
   "metadata": {},
   "source": [
    "### kernel=\"linear\"  C=i"
   ]
  },
  {
   "cell_type": "code",
   "execution_count": 13,
   "metadata": {},
   "outputs": [],
   "source": [
    "#调线性核函数\n",
    "C_score = []\n",
    "C_range = np.linspace(0.01,30,50)\n",
    "for i in C_range:\n",
    "    clf = SVC(kernel=\"linear\", C=i,cache_size=5000).fit(Xtrain,Ytrain)\n",
    "    C_score.append(clf.score(Xtest,Ytest))\n"
   ]
  },
  {
   "cell_type": "code",
   "execution_count": 14,
   "metadata": {},
   "outputs": [
    {
     "name": "stdout",
     "output_type": "stream",
     "text": [
      "0.6333333333333333 1.2340816326530613\n"
     ]
    },
    {
     "data": {
      "image/png": "[encoded data removed]",
      "text/plain": [
       "<Figure size 600x400 with 1 Axes>"
      ]
     },
     "metadata": {
      "needs_background": "light"
     },
     "output_type": "display_data"
    }
   ],
   "source": [
    "print(max(C_score), C_range[C_score.index(max(C_score))])\n",
    "plt.figure(dpi=100)\n",
    "plt.plot(C_range, C_score)\n",
    "\n",
    "idx = slice(0, -1, 3)\n",
    "for a, b in zip(C_range[idx], C_score[idx]):\n",
    "    plt.text(a, b, \"{:.2f}\".format(b), ha='center', va='bottom', fontsize=8)\n",
    "\n",
    "plt.title('SVC(kernel=\"linear\")-C-Learn-curve')\n",
    "plt.xlabel('C',color='black')\n",
    "plt.savefig('SVC(kernel=linear)-Learn-curve.png',facecolor='white')\n",
    "plt.show()"
   ]
  },
  {
   "cell_type": "markdown",
   "metadata": {},
   "source": [
    "### kernel=\"rbf\",C=i"
   ]
  },
  {
   "cell_type": "code",
   "execution_count": 15,
   "metadata": {},
   "outputs": [],
   "source": [
    "#换rbf\n",
    "score = []\n",
    "C_range = np.linspace(0.01,30,50)\n",
    "for i in C_range:\n",
    "    clf = SVC(kernel=\"rbf\",C=i, gamma = 2.1209508879201926,cache_size=5000).fit(Xtrain,Ytrain)\n",
    "    score.append(clf.score(Xtest,Ytest))\n"
   ]
  },
  {
   "cell_type": "code",
   "execution_count": 19,
   "metadata": {},
   "outputs": [
    {
     "name": "stdout",
     "output_type": "stream",
     "text": [
      "0.6333333333333333 1.2340816326530613\n"
     ]
    },
    {
     "data": {
      "image/png": "[encoded data removed]",
      "text/plain": [
       "<Figure size 600x400 with 1 Axes>"
      ]
     },
     "metadata": {
      "needs_background": "light"
     },
     "output_type": "display_data"
    }
   ],
   "source": [
    "  \n",
    "print(max(score), C_range[score.index(max(score))])\n",
    "\n",
    "plt.figure(dpi=100)\n",
    "plt.plot(C_range, score)\n",
    "\n",
    "idx = slice(0, -1, 3)\n",
    "for a, b in zip(C_range[idx], score[idx]):\n",
    "    plt.text(a, b, \"{:.2f}\".format(b), ha='center', va='bottom', fontsize=8)\n",
    "\n",
    "plt.title('SVC(kernel=\"rbf\")-C-Learn-curve')\n",
    "plt.savefig('SVC(kernel=rbf)-Learn-curve-2.png',facecolor='white')\n",
    "plt.xlabel('C',color='blue')\n",
    "plt.show()"
   ]
  },
  {
   "cell_type": "markdown",
   "metadata": {},
   "source": [
    "###  进一步细化"
   ]
  },
  {
   "cell_type": "code",
   "execution_count": 35,
   "metadata": {},
   "outputs": [],
   "source": [
    "#进一步细化\n",
    "score = []\n",
    "C_range = np.linspace(5,7,50)\n",
    "for i in C_range:\n",
    "    clf = SVC(kernel=\"rbf\",C=i,gamma = 0.012742749857031322,\n",
    "                cache_size=5000).fit(Xtrain,Ytrain)\n",
    "    score.append(clf.score(Xtest,Ytest))\n"
   ]
  },
  {
   "cell_type": "code",
   "execution_count": 36,
   "metadata": {},
   "outputs": [
    {
     "name": "stdout",
     "output_type": "stream",
     "text": [
      "0.5933333333333334 6.877551020408163\n"
     ]
    },
    {
     "data": {
      "image/png": "[encoded data removed]",
      "text/plain": [
       "<Figure size 600x400 with 1 Axes>"
      ]
     },
     "metadata": {
      "needs_background": "light"
     },
     "output_type": "display_data"
    }
   ],
   "source": [
    "  \n",
    "print(max(score), C_range[score.index(max(score))])\n",
    "plt.figure(dpi=100)\n",
    "plt.plot(C_range, score)\n",
    "\n",
    "idx = slice(0, -1, 4)\n",
    "for a, b in zip(C_range[idx], score[idx]):\n",
    "    plt.text(a, b, \"{:.2f}\".format(b), ha='center', va='bottom', fontsize=8)\n",
    "\n",
    "plt.title('NB(kernel=\"linear\")-Learn-curve')\n",
    "plt.xlabel('C')\n",
    "plt.show()"
   ]
  },
  {
   "cell_type": "code",
   "execution_count": null,
   "metadata": {},
   "outputs": [],
   "source": [
    "from sklearn.metrics import confusion_matrix as CM"
   ]
  },
  {
   "cell_type": "code",
   "execution_count": null,
   "metadata": {},
   "outputs": [],
   "source": [
    "clf = SVC(kernel = \"linear\"\n",
    "          ,gamma=\"auto\"\n",
    "          ,cache_size = 5000\n",
    "         ).fit(Xtrain, Ytrain)\n",
    "result = clf.predict(Xtest)"
   ]
  }
 ],
 "metadata": {
  "kernelspec": {
   "display_name": "Python 3.7.9 64-bit",
   "language": "python",
   "name": "python3"
  },
  "language_info": {
   "codemirror_mode": {
    "name": "ipython",
    "version": 3
   },
   "file_extension": ".py",
   "mimetype": "text/x-python",
   "name": "python",
   "nbconvert_exporter": "python",
   "pygments_lexer": "ipython3",
   "version": "3.7.9"
  },
  "orig_nbformat": 4,
  "vscode": {
   "interpreter": {
    "hash": "e481c8094450a362835654784466fc3605d9d17b45d80f6ff62525ad7933ac54"
   }
  }
 },
 "nbformat": 4,
 "nbformat_minor": 2
}
