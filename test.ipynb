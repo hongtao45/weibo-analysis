{
 "cells": [
  {
   "cell_type": "markdown",
   "metadata": {},
   "source": [
    "# 学习如何进行文本处理\n",
    "> 对于训练集，自然语言处理过程包括：\n",
    "> \n",
    ">     中文分词、过滤停用词、特征权重计算、特征词选取。\n",
    "> \n",
    "> 而对于测试集：\n",
    "> \n",
    ">     特征权重计算、特征词\n"
   ]
  },
  {
   "cell_type": "markdown",
   "metadata": {},
   "source": [
    "## 使用的包 导入"
   ]
  },
  {
   "cell_type": "code",
   "execution_count": 1,
   "metadata": {},
   "outputs": [],
   "source": [
    "import pandas as pd\n",
    "import numpy as np\n",
    "import re\n",
    "import jieba\n",
    "import matplotlib.pyplot as plt\n"
   ]
  },
  {
   "cell_type": "markdown",
   "metadata": {},
   "source": [
    "## 原始数据及基本信息"
   ]
  },
  {
   "cell_type": "code",
   "execution_count": 2,
   "metadata": {},
   "outputs": [
    {
     "data": {
      "text/html": [
       "<div>\n",
       "<style scoped>\n",
       "    .dataframe tbody tr th:only-of-type {\n",
       "        vertical-align: middle;\n",
       "    }\n",
       "\n",
       "    .dataframe tbody tr th {\n",
       "        vertical-align: top;\n",
       "    }\n",
       "\n",
       "    .dataframe thead th {\n",
       "        text-align: right;\n",
       "    }\n",
       "</style>\n",
       "<table border=\"1\" class=\"dataframe\">\n",
       "  <thead>\n",
       "    <tr style=\"text-align: right;\">\n",
       "      <th></th>\n",
       "      <th>id</th>\n",
       "      <th>bid</th>\n",
       "      <th>user_id</th>\n",
       "      <th>用户昵称</th>\n",
       "      <th>微博正文</th>\n",
       "      <th>头条文章url</th>\n",
       "      <th>发布位置</th>\n",
       "      <th>艾特用户</th>\n",
       "      <th>话题</th>\n",
       "      <th>转发数</th>\n",
       "      <th>评论数</th>\n",
       "      <th>点赞数</th>\n",
       "      <th>发布时间</th>\n",
       "      <th>发布工具</th>\n",
       "      <th>微博图片url</th>\n",
       "      <th>微博视频url</th>\n",
       "      <th>retweet_id</th>\n",
       "    </tr>\n",
       "  </thead>\n",
       "  <tbody>\n",
       "    <tr>\n",
       "      <th>0</th>\n",
       "      <td>4632157211069133</td>\n",
       "      <td>Kduyt4u85</td>\n",
       "      <td>7073634525</td>\n",
       "      <td>中国交通</td>\n",
       "      <td>#我家门口那条路#5月1日20时至2日20时，新疆天山西部、西藏中部等地部分地方有雨夹雪。西...</td>\n",
       "      <td>NaN</td>\n",
       "      <td>NaN</td>\n",
       "      <td>NaN</td>\n",
       "      <td>我家门口那条路,国家综合立体交通网规划纲要,中国路网</td>\n",
       "      <td>1</td>\n",
       "      <td>3</td>\n",
       "      <td>6</td>\n",
       "      <td>2021-05-01 21:30</td>\n",
       "      <td>微博 weibo.com</td>\n",
       "      <td>['https://wx3.sinaimg.cn/large/007IIftrly1gq34...</td>\n",
       "      <td>NaN</td>\n",
       "      <td>NaN</td>\n",
       "    </tr>\n",
       "    <tr>\n",
       "      <th>1</th>\n",
       "      <td>4632138676964878</td>\n",
       "      <td>Kdu4ztdSK</td>\n",
       "      <td>6360489687</td>\n",
       "      <td>昌江交警</td>\n",
       "      <td>#五一我在岗##畅行中国,交警同行#五一，大雨滂沱，而你无阻。你是烈日暴雨下的指示牌，是人民...</td>\n",
       "      <td>NaN</td>\n",
       "      <td>NaN</td>\n",
       "      <td>海南交警,中国交通频道,公安部交通管理局</td>\n",
       "      <td>五一我在岗,畅行中国,交警同行</td>\n",
       "      <td>0</td>\n",
       "      <td>0</td>\n",
       "      <td>0</td>\n",
       "      <td>2021-05-01 20:16</td>\n",
       "      <td>新版微博 weibo.com</td>\n",
       "      <td>['https://wx2.sinaimg.cn/large/006WrXVlgy1gq36...</td>\n",
       "      <td>NaN</td>\n",
       "      <td>NaN</td>\n",
       "    </tr>\n",
       "    <tr>\n",
       "      <th>2</th>\n",
       "      <td>4632091960806995</td>\n",
       "      <td>KdsRe3nW3</td>\n",
       "      <td>2098013967</td>\n",
       "      <td>高州天气</td>\n",
       "      <td>【高州天气预报】今晚到明天白天，多云，有（雷）阵雨局部大雨，气温22-29℃，相对湿度65%...</td>\n",
       "      <td>NaN</td>\n",
       "      <td>NaN</td>\n",
       "      <td>NaN</td>\n",
       "      <td>NaN</td>\n",
       "      <td>0</td>\n",
       "      <td>0</td>\n",
       "      <td>0</td>\n",
       "      <td>2021-05-01 17:10</td>\n",
       "      <td>微博 weibo.com</td>\n",
       "      <td>NaN</td>\n",
       "      <td>NaN</td>\n",
       "      <td>NaN</td>\n",
       "    </tr>\n",
       "    <tr>\n",
       "      <th>3</th>\n",
       "      <td>4632061941647124</td>\n",
       "      <td>Kds4O6Uuw</td>\n",
       "      <td>5323286636</td>\n",
       "      <td>广德公安在线</td>\n",
       "      <td>#我在岗位上#【狂风暴雨中交警保畅通】4月30日晚，狂风暴雨突然袭来。@广德交警面对恶劣天气...</td>\n",
       "      <td>NaN</td>\n",
       "      <td>NaN</td>\n",
       "      <td>广德交警</td>\n",
       "      <td>我在岗位上,我为群众办实事</td>\n",
       "      <td>0</td>\n",
       "      <td>0</td>\n",
       "      <td>1</td>\n",
       "      <td>2021-05-01 15:11</td>\n",
       "      <td>360安全浏览器</td>\n",
       "      <td>['https://wx1.sinaimg.cn/large/005OfY1Sly1gq2y...</td>\n",
       "      <td>NaN</td>\n",
       "      <td>NaN</td>\n",
       "    </tr>\n",
       "    <tr>\n",
       "      <th>4</th>\n",
       "      <td>4632029499493949</td>\n",
       "      <td>KdretDPOd</td>\n",
       "      <td>2578964252</td>\n",
       "      <td>广德交警</td>\n",
       "      <td>#我为群众办实事#五一前夕，暴雨来袭！广德公安交警在岗在位，加强队所联勤，全力疏导交通、清理...</td>\n",
       "      <td>NaN</td>\n",
       "      <td>NaN</td>\n",
       "      <td>公安部交通管理局,安徽公安交警在线,广德公安在线,宣城公安交警在线</td>\n",
       "      <td>我为群众办实事</td>\n",
       "      <td>0</td>\n",
       "      <td>0</td>\n",
       "      <td>0</td>\n",
       "      <td>2021-05-01 13:02</td>\n",
       "      <td>荣耀20 PRO</td>\n",
       "      <td>['https://wx2.sinaimg.cn/large/99b7df1cly1gq2u...</td>\n",
       "      <td>NaN</td>\n",
       "      <td>NaN</td>\n",
       "    </tr>\n",
       "  </tbody>\n",
       "</table>\n",
       "</div>"
      ],
      "text/plain": [
       "                 id        bid     user_id    用户昵称  \\\n",
       "0  4632157211069133  Kduyt4u85  7073634525    中国交通   \n",
       "1  4632138676964878  Kdu4ztdSK  6360489687    昌江交警   \n",
       "2  4632091960806995  KdsRe3nW3  2098013967    高州天气   \n",
       "3  4632061941647124  Kds4O6Uuw  5323286636  广德公安在线   \n",
       "4  4632029499493949  KdretDPOd  2578964252    广德交警   \n",
       "\n",
       "                                                微博正文 头条文章url 发布位置  \\\n",
       "0  #我家门口那条路#5月1日20时至2日20时，新疆天山西部、西藏中部等地部分地方有雨夹雪。西...     NaN  NaN   \n",
       "1  #五一我在岗##畅行中国,交警同行#五一，大雨滂沱，而你无阻。你是烈日暴雨下的指示牌，是人民...     NaN  NaN   \n",
       "2  【高州天气预报】今晚到明天白天，多云，有（雷）阵雨局部大雨，气温22-29℃，相对湿度65%...     NaN  NaN   \n",
       "3  #我在岗位上#【狂风暴雨中交警保畅通】4月30日晚，狂风暴雨突然袭来。@广德交警面对恶劣天气...     NaN  NaN   \n",
       "4  #我为群众办实事#五一前夕，暴雨来袭！广德公安交警在岗在位，加强队所联勤，全力疏导交通、清理...     NaN  NaN   \n",
       "\n",
       "                                艾特用户                          话题  转发数  评论数  \\\n",
       "0                                NaN  我家门口那条路,国家综合立体交通网规划纲要,中国路网    1    3   \n",
       "1               海南交警,中国交通频道,公安部交通管理局             五一我在岗,畅行中国,交警同行    0    0   \n",
       "2                                NaN                         NaN    0    0   \n",
       "3                               广德交警               我在岗位上,我为群众办实事    0    0   \n",
       "4  公安部交通管理局,安徽公安交警在线,广德公安在线,宣城公安交警在线                     我为群众办实事    0    0   \n",
       "\n",
       "   点赞数              发布时间            发布工具  \\\n",
       "0    6  2021-05-01 21:30    微博 weibo.com   \n",
       "1    0  2021-05-01 20:16  新版微博 weibo.com   \n",
       "2    0  2021-05-01 17:10    微博 weibo.com   \n",
       "3    1  2021-05-01 15:11        360安全浏览器   \n",
       "4    0  2021-05-01 13:02        荣耀20 PRO   \n",
       "\n",
       "                                             微博图片url 微博视频url  retweet_id  \n",
       "0  ['https://wx3.sinaimg.cn/large/007IIftrly1gq34...     NaN         NaN  \n",
       "1  ['https://wx2.sinaimg.cn/large/006WrXVlgy1gq36...     NaN         NaN  \n",
       "2                                                NaN     NaN         NaN  \n",
       "3  ['https://wx1.sinaimg.cn/large/005OfY1Sly1gq2y...     NaN         NaN  \n",
       "4  ['https://wx2.sinaimg.cn/large/99b7df1cly1gq2u...     NaN         NaN  "
      ]
     },
     "execution_count": 2,
     "metadata": {},
     "output_type": "execute_result"
    }
   ],
   "source": [
    "data = pd.read_csv('Data/完整数据_暴雨_交通.csv')\n",
    "data.head()"
   ]
  },
  {
   "cell_type": "code",
   "execution_count": 3,
   "metadata": {},
   "outputs": [
    {
     "data": {
      "text/plain": [
       "(15155, 17)"
      ]
     },
     "execution_count": 3,
     "metadata": {},
     "output_type": "execute_result"
    }
   ],
   "source": [
    "data.shape"
   ]
  },
  {
   "cell_type": "code",
   "execution_count": 4,
   "metadata": {},
   "outputs": [
    {
     "name": "stdout",
     "output_type": "stream",
     "text": [
      "<class 'pandas.core.frame.DataFrame'>\n",
      "RangeIndex: 15155 entries, 0 to 15154\n",
      "Data columns (total 17 columns):\n",
      " #   Column      Non-Null Count  Dtype  \n",
      "---  ------      --------------  -----  \n",
      " 0   id          15155 non-null  int64  \n",
      " 1   bid         15155 non-null  object \n",
      " 2   user_id     15155 non-null  int64  \n",
      " 3   用户昵称        15155 non-null  object \n",
      " 4   微博正文        15155 non-null  object \n",
      " 5   头条文章url     21 non-null     object \n",
      " 6   发布位置        1127 non-null   object \n",
      " 7   艾特用户        4092 non-null   object \n",
      " 8   话题          10761 non-null  object \n",
      " 9   转发数         15155 non-null  int64  \n",
      " 10  评论数         15155 non-null  int64  \n",
      " 11  点赞数         15155 non-null  int64  \n",
      " 12  发布时间        15155 non-null  object \n",
      " 13  发布工具        14913 non-null  object \n",
      " 14  微博图片url     6400 non-null   object \n",
      " 15  微博视频url     5130 non-null   object \n",
      " 16  retweet_id  0 non-null      float64\n",
      "dtypes: float64(1), int64(5), object(11)\n",
      "memory usage: 2.0+ MB\n"
     ]
    }
   ],
   "source": [
    "data.info()"
   ]
  },
  {
   "cell_type": "code",
   "execution_count": 5,
   "metadata": {},
   "outputs": [
    {
     "data": {
      "text/plain": [
       "id                0\n",
       "bid               0\n",
       "user_id           0\n",
       "用户昵称              0\n",
       "微博正文              0\n",
       "头条文章url       15134\n",
       "发布位置          14028\n",
       "艾特用户          11063\n",
       "话题             4394\n",
       "转发数               0\n",
       "评论数               0\n",
       "点赞数               0\n",
       "发布时间              0\n",
       "发布工具            242\n",
       "微博图片url        8755\n",
       "微博视频url       10025\n",
       "retweet_id    15155\n",
       "dtype: int64"
      ]
     },
     "execution_count": 5,
     "metadata": {},
     "output_type": "execute_result"
    }
   ],
   "source": [
    "data.isnull().sum()"
   ]
  },
  {
   "cell_type": "markdown",
   "metadata": {},
   "source": [
    "## 随机的200行，测试代码"
   ]
  },
  {
   "cell_type": "code",
   "execution_count": 6,
   "metadata": {},
   "outputs": [
    {
     "data": {
      "text/plain": [
       "(200, 17)"
      ]
     },
     "execution_count": 6,
     "metadata": {},
     "output_type": "execute_result"
    }
   ],
   "source": [
    "df = data.sample(n=200, replace=False, random_state=1)\n",
    "# df.reset_index(drop=True, inplace=True)\n",
    "df.shape"
   ]
  },
  {
   "cell_type": "code",
   "execution_count": 8,
   "metadata": {},
   "outputs": [
    {
     "data": {
      "text/plain": [
       "6826     【面对暴雨，请收好这份#避险生存指南#】#蜀黍带你涨姿势#近日来，河南两小时暴雨记录又被刷新...\n",
       "1432     #河南高速路况#截至2021年9月9日,19:00，目前省内高速通行情况：1、因收费站临时抢...\n",
       "6965     郑州大暴雨灾害这波，今天回来又看到一交通事故，一个大叔满身血淋淋坐在车前，前几日杭州电瓶车骑...\n",
       "12476    【暖心！#交警暴雨中执勤频频被路人送伞#】6月10日17时许，浙江温州泰顺县一路口严重拥堵，...\n",
       "3023     【湖南多地迎暴雨！这些收费站仍在管制中】今日晚间，湖南部分地区突降暴雨，905中国交通广播派...\n",
       "                               ...                        \n",
       "3014     暴雨来袭，行人户外活动谨防雷电！注意安全！转发，提醒更多人↓↓↓#长沙打雷##交通安全不放假...\n",
       "6469     #河南高速路况#截至2021年7月29日11:05，1、因积水，禁止上下站的收费站有：菏宝高...\n",
       "13372    #大众观天下#【暖心！#交警暴雨中执勤频频被路人送伞#】6月10日17时许，浙江温州泰顺县一...\n",
       "11309    珠海交通【突发：受暴雨影响，梅界路交蓝盾路路口暂时禁止通行！】受暴雨影响，梅界路交蓝盾路奥园...\n",
       "5623     【#外卖小哥雷电暴雨中指挥交通#：能帮大家尽快回家挺开心】据@看看新闻KNEWS消息：近日，...\n",
       "Name: 微博正文, Length: 200, dtype: object"
      ]
     },
     "execution_count": 8,
     "metadata": {},
     "output_type": "execute_result"
    }
   ],
   "source": [
    "df['微博正文']"
   ]
  },
  {
   "cell_type": "markdown",
   "metadata": {},
   "source": [
    "### 1 文本去噪"
   ]
  },
  {
   "cell_type": "code",
   "execution_count": 10,
   "metadata": {},
   "outputs": [],
   "source": [
    "def text_clean(text):\n",
    "    text = re.sub(r\"(回复)?(//)?\\s*@\\S*?\\s*(:| |$)\", \"\", text)  # 去除正文中的@和回复/转发中的用户名\n",
    "    text = re.sub(r\"\\[\\S+\\]\", \"\", text)     # 去除表情符号\n",
    "    # text = re.sub(r\"#\\S+#\", \"\", text)     # 去除话题内容\n",
    "    URL_REGEX = re.compile(\n",
    "        r'(?i)\\b((?:https?://|www\\d{0,3}[.]|[a-z0-9.\\-]+[.][a-z]{2,4}/)(?:[^\\s()<>]+|\\(([^\\s()<>]+|(\\([^\\s()<>]+\\)))*\\))+(?:\\(([^\\s()<>]+|(\\([^\\s()<>]+\\)))*\\)|[^\\s`!()\\[\\]{};:\\'\".,<>?«»“”‘’]))',\n",
    "        re.IGNORECASE)\n",
    "    text = re.sub(URL_REGEX, \"\", text)      # 去除网址\n",
    "    \n",
    "    EMAIL_REGEX = re.compile(r\"[-a-z0-9_.]+@(?:[-a-z0-9]+\\.)+[a-z]{2,6}\", re.IGNORECASE)\n",
    "    text = re.sub(EMAIL_REGEX, \"\", text)    # 去除邮件 \n",
    "    \n",
    "    text = text.replace(\"转发微博\", \"\")      # 去除无意义的词语\n",
    "    text = text.replace(\"网页链接\", \"\")\n",
    "    text = re.sub(r\"\\s+\", \" \", text)        # 合并正文中过多的空格\n",
    "    return text.strip()\n"
   ]
  },
  {
   "cell_type": "code",
   "execution_count": 40,
   "metadata": {},
   "outputs": [
    {
     "name": "stdout",
     "output_type": "stream",
     "text": [
      "太过分了招行最近负面新闻越来越多呀...\n",
      "希望你?得好?我本＂?@Pete三姑父 肥血?史＂\n",
      "杨大哥\n",
      "【#赵薇#：正筹备下一部电影 但不是青春片....\n",
      "哈哈 试了我家那位，说我属于＂放心的没法看的＂\n"
     ]
    }
   ],
   "source": [
    "print(text_clean(\"太过分了@Rexzhenghao //@Janie_Zhang:招行最近负面新闻越来越多呀...\"))\n",
    "print(text_clean(\"希望你?得好?我本＂?@Pete三姑父\\xa0肥血?史＂[晕][哈哈]@Pete三姑父\"))\n",
    "print(text_clean(\"回复@钱旭明QXM:[嘻嘻][嘻嘻] //@钱旭明QXM:杨大哥[good][good]\"))\n",
    "print(text_clean(\"【#赵薇#：正筹备下一部电影 但不是青春片....http://t.cn/8FLopdQ\"))\n",
    "print(text_clean(\"[酷]//@芊如_GZ:[哈哈]// @布丁clout : 哈哈 // @audrey-panda :试了我家那位，说我属于＂放心的没法看的＂[晕] // @芊如_GZ :[晕]\"))"
   ]
  },
  {
   "cell_type": "code",
   "execution_count": 16,
   "metadata": {},
   "outputs": [
    {
     "data": {
      "text/plain": [
       "'【雨中，你们坚守的样子真帅！】6月17日早上8点，正值出行早高峰，一场突袭的暴雨倾注了这座城市，为确保雨天辖区道路安全畅通，避免因大雨造成的交通事故，@南充交警一大队\\xa0全体民辅警，冒雨在辖区各个主要路段执勤，有的甚至来不及换上雨衣，淋着雨指挥车辆，疏导交通，全力保障恶劣天气下市民出行畅通，成为大雨中最美丽的风景线。@四川公安@四川交警@四川长安网L南充公安的微博视频'"
      ]
     },
     "execution_count": 16,
     "metadata": {},
     "output_type": "execute_result"
    }
   ],
   "source": [
    "tweets = df.loc[:, ['微博正文']]\n",
    "tmp = tweets.iloc[6, 0]\n",
    "tmp"
   ]
  },
  {
   "cell_type": "code",
   "execution_count": 22,
   "metadata": {},
   "outputs": [
    {
     "data": {
      "text/plain": [
       "'【雨中，你们坚守的样子真帅！】6月17日早上8点，正值出行早高峰，一场突袭的暴雨倾注了这座城市，为确保雨天辖区道路安全畅通，避免因大雨造成的交通事故，@南充交警一大队 全体民辅警，冒雨在辖区各个主要路段执勤，有的甚至来不及换上雨衣，淋着雨指挥车辆，疏导交通，全力保障恶劣天气下市民出行畅通，成为大雨中最美丽的风景线。'"
      ]
     },
     "execution_count": 22,
     "metadata": {},
     "output_type": "execute_result"
    }
   ],
   "source": [
    "res1 = text_clean(tmp)\n",
    "res1"
   ]
  },
  {
   "cell_type": "markdown",
   "metadata": {},
   "source": [
    "### 2 中文分词"
   ]
  },
  {
   "cell_type": "code",
   "execution_count": 29,
   "metadata": {},
   "outputs": [
    {
     "name": "stderr",
     "output_type": "stream",
     "text": [
      "Paddle enabled successfully......\n"
     ]
    },
    {
     "name": "stdout",
     "output_type": "stream",
     "text": [
      "Paddle Mode: 我/来到/北京清华大学\n",
      "Paddle Mode: 乒乓球/拍卖/完/了\n",
      "Paddle Mode: 中国科学技术大学\n",
      "Full Mode: 我/ 来到/ 北京/ 清华/ 清华大学/ 华大/ 大学/ 【】\n",
      "Default Mode: 我/ 来到/ 北京/ 清华大学/ 【/ 】\n",
      "他, 来到, 了, 网易, 杭研, 大厦\n",
      "小明, 硕士, 毕业, 于, 中国, 科学, 学院, 科学院, 中国科学院, 计算, 计算所, ，, 后, 在, 日本, 京都, 大学, 日本京都大学, 深造\n"
     ]
    }
   ],
   "source": [
    "\n",
    "# jieba.enable_paddle()# 启动paddle模式。 0.40版之后开始支持，早期版本不支持\n",
    "strs=[\"我来到北京清华大学\",\"乒乓球拍卖完了\",\"中国科学技术大学\"]\n",
    "for str in strs:\n",
    "    seg_list = jieba.cut(str, use_paddle=True) # 使用paddle模式\n",
    "    print(\"Paddle Mode: \" + '/'.join(list(seg_list)))\n",
    "\n",
    "seg_list = jieba.cut(\"我来到北京清华大学【】\", cut_all=True)\n",
    "print(\"Full Mode: \" + \"/ \".join(seg_list))  # 全模式\n",
    "\n",
    "seg_list = jieba.cut(\"我来到北京清华大学【】\", cut_all=False)\n",
    "print(\"Default Mode: \" + \"/ \".join(seg_list))  # 精确模式\n",
    "\n",
    "seg_list = jieba.cut(\"他来到了网易杭研大厦\")  # 默认是精确模式\n",
    "print(\", \".join(seg_list))\n",
    "\n",
    "seg_list = jieba.cut_for_search(\"小明硕士毕业于中国科学院计算所，后在日本京都大学深造\")  # 搜索引擎模式\n",
    "print(\", \".join(seg_list))"
   ]
  },
  {
   "cell_type": "code",
   "execution_count": 34,
   "metadata": {},
   "outputs": [
    {
     "name": "stdout",
     "output_type": "stream",
     "text": [
      "['我', '来到', '北京', '清华', '清华大学', '华大', '大学', '【】']\n"
     ]
    }
   ],
   "source": [
    "# jieba.lcut() 直接放回列表\n",
    "seg_list = jieba.lcut(\"我来到北京清华大学【】\", cut_all=True)\n",
    "# print(\"Full Mode: \" + \"/ \".join(seg_list))  # 全模式\n",
    "print(seg_list)"
   ]
  },
  {
   "cell_type": "code",
   "execution_count": 36,
   "metadata": {},
   "outputs": [],
   "source": [
    "# 载入词典\n",
    "# 用法： jieba.load_userdict(file_name) # file_name 为文件类对象或自定义词典的路径\n",
    "# 词典格式和 dict.txt 一样，一个词占一行；每一行分三部分：词语、词频（可省略）、词性（可省略），用空格隔开，顺序不可颠倒。file_name 若为路径或二进制方式打开的文件，则文件必须为 UTF-8 编码。\n",
    "# 词频省略时使用自动计算的能保证分出该词的词频。"
   ]
  },
  {
   "cell_type": "code",
   "execution_count": 38,
   "metadata": {},
   "outputs": [
    {
     "data": {
      "text/plain": [
       "['疯狂', '囤金', '，', '中国大妈', '震惊', '华尔街']"
      ]
     },
     "execution_count": 38,
     "metadata": {},
     "output_type": "execute_result"
    }
   ],
   "source": [
    "text = '疯狂囤金，中国大妈震惊华尔街'\n",
    "jieba.load_userdict('CiDian.txt')\n",
    "wordlist = jieba.lcut(text)\n",
    "wordlist\n"
   ]
  }
 ],
 "metadata": {
  "interpreter": {
   "hash": "e481c8094450a362835654784466fc3605d9d17b45d80f6ff62525ad7933ac54"
  },
  "kernelspec": {
   "display_name": "Python 3.7.9 64-bit",
   "language": "python",
   "name": "python3"
  },
  "language_info": {
   "codemirror_mode": {
    "name": "ipython",
    "version": 3
   },
   "file_extension": ".py",
   "mimetype": "text/x-python",
   "name": "python",
   "nbconvert_exporter": "python",
   "pygments_lexer": "ipython3",
   "version": "3.7.9"
  },
  "orig_nbformat": 4
 },
 "nbformat": 4,
 "nbformat_minor": 2
}
